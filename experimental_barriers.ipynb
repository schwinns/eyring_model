{
 "cells": [
  {
   "cell_type": "code",
   "execution_count": 1,
   "metadata": {},
   "outputs": [],
   "source": [
    "from eyring_model import *\n",
    "import numpy as np\n",
    "import matplotlib.pyplot as plt\n",
    "from tqdm import tqdm\n",
    "import statsmodels.api as sm\n",
    "import pandas as pd\n",
    "import seaborn as sns\n",
    "\n",
    "# some constants\n",
    "kB = 1.380649 * 10**-23    # Boltzmann (m^2 kg / s^2 K)\n",
    "h = 6.62607 * 10**-34      # Planck (m^2 kg / s)\n",
    "R = 1.9858775 * 10**-3     # universal gas (kcal / mol K)"
   ]
  },
  {
   "cell_type": "code",
   "execution_count": 36,
   "metadata": {},
   "outputs": [],
   "source": [
    "# read in the experimental data\n",
    "df = pd.read_csv('experimental_data.csv')\n",
    "df1 = df[df['system'] == 'NaCl (NF270)']\n",
    "T = df1['T (K)']\n",
    "P_experiment = df1['ave B (m/sec)']\n",
    "P_std = df1['SD B']\n",
    "\n",
    "# make some guesses on parameters\n",
    "delta = 200 # 200 Angstrom thickness\n",
    "lam = 2 # 2 Angstrom jumps"
   ]
  },
  {
   "cell_type": "code",
   "execution_count": 44,
   "metadata": {},
   "outputs": [
    {
     "data": {
      "text/plain": [
       "(337890.5992812343, 3.8962785455116764)"
      ]
     },
     "execution_count": 44,
     "metadata": {},
     "output_type": "execute_result"
    }
   ],
   "source": [
    "sig_i = np.abs(P_std/P_experiment)\n",
    "x_i = 1/T\n",
    "\n",
    "D = np.sum(1/sig_i**2) * np.sum(x_i**2/sig_i**2) - (np.sum(x_i/sig_i**2))**2\n",
    "sig_b = 1/D * np.sum(x_i**2/sig_i**2)\n",
    "sig_m = 1/D * np.sum(1/sig_i**2)\n",
    "\n",
    "sig_m, sig_b"
   ]
  },
  {
   "cell_type": "markdown",
   "metadata": {},
   "source": [
    "$\\ln{P} = \\ln{A} - \\frac{E_a}{RT}$\n",
    "\n",
    "So, the slope $m = -\\frac{E_a}{R}$ and the intercept $b = \\ln{A}$\n",
    "\n",
    "Or, in terms of the TST model: $\\ln{P} = \\ln{\\left( \\frac{\\lambda^2}{\\delta} \\frac{k_B T}{h} \\right)} + \\frac{\\Delta S_{eff}}{R} - \\frac{\\Delta H_{eff}}{RT}$\n",
    "\n",
    "So, the slope $m = - \\frac{\\Delta H_{eff}}{R}$ and the intercept $b = \\ln{\\left( \\frac{\\lambda^2}{\\delta} \\frac{k_B T}{h} \\right)} + \\frac{\\Delta S_{eff}}{R}$\n",
    "\n",
    "But, the intercept still has a temperature dependence..."
   ]
  },
  {
   "cell_type": "code",
   "execution_count": 35,
   "metadata": {},
   "outputs": [
    {
     "name": "stdout",
     "output_type": "stream",
     "text": [
      "ln(P) vs 1/T:\n",
      "Arrhenius barrier to permeability, Ea: 4.11 +/- 0.18 kcal/mol\n",
      "Arrhenius prefactor, ln(A): -3.43 +/- 0.31 A/s\n",
      "Prediction for P at 305 K: 3.6439e-05\n",
      "                            OLS Regression Results                            \n",
      "==============================================================================\n",
      "Dep. Variable:          ave B (m/sec)   R-squared:                       0.992\n",
      "Model:                            OLS   Adj. R-squared:                  0.990\n",
      "Method:                 Least Squares   F-statistic:                     499.0\n",
      "Date:                Fri, 15 Dec 2023   Prob (F-statistic):           2.38e-05\n",
      "Time:                        12:44:24   Log-Likelihood:                 14.647\n",
      "No. Observations:                   6   AIC:                            -25.29\n",
      "Df Residuals:                       4   BIC:                            -25.71\n",
      "Df Model:                           1                                         \n",
      "Covariance Type:            nonrobust                                         \n",
      "==============================================================================\n",
      "                 coef    std err          t      P>|t|      [0.025      0.975]\n",
      "------------------------------------------------------------------------------\n",
      "const         -3.4309      0.311    -11.026      0.000      -4.295      -2.567\n",
      "T (K)      -2070.6433     92.690    -22.339      0.000   -2327.993   -1813.294\n",
      "==============================================================================\n",
      "Omnibus:                          nan   Durbin-Watson:                   1.658\n",
      "Prob(Omnibus):                    nan   Jarque-Bera (JB):                0.582\n",
      "Skew:                          -0.513   Prob(JB):                        0.748\n",
      "Kurtosis:                       1.870   Cond. No.                     8.80e+03\n",
      "==============================================================================\n",
      "\n",
      "Notes:\n",
      "[1] Standard Errors assume that the covariance matrix of the errors is correctly specified.\n",
      "[2] The condition number is large, 8.8e+03. This might indicate that there are\n",
      "strong multicollinearity or other numerical problems.\n"
     ]
    },
    {
     "name": "stderr",
     "output_type": "stream",
     "text": [
      "/home/nate/anaconda3/envs/mpi4py/lib/python3.9/site-packages/statsmodels/stats/stattools.py:74: ValueWarning: omni_normtest is not valid with less than 8 observations; 6 samples were given.\n",
      "  warn(\"omni_normtest is not valid with less than 8 observations; %i \"\n"
     ]
    }
   ],
   "source": [
    "# perform linear fit of ln(P) vs 1/T\n",
    "X = sm.add_constant(1/T)\n",
    "ols1 = sm.OLS(np.log(P_experiment), X)\n",
    "results1 = ols1.fit()\n",
    "b, m = results1.params\n",
    "be, me = results1.bse # standard error \n",
    "\n",
    "print('ln(P) vs 1/T:')\n",
    "print(f'Arrhenius barrier to permeability, Ea: {-m*R:.2f} +/- {me*R:.2f} kcal/mol')\n",
    "print(f'Arrhenius prefactor, ln(A): {b:.2f} +/- {be:.2f} A/s')\n",
    "print(f'Prediction for P at 305 K: {np.exp(m*(1/305) + b):.4e}')\n",
    "\n",
    "print(results1.summary())"
   ]
  },
  {
   "cell_type": "markdown",
   "metadata": {},
   "source": [
    "$\\ln{\\frac{P}{T}} = \\ln{A} - \\frac{E_a}{RT}$\n",
    "\n",
    "So, the slope $m = -\\frac{E_a}{R}$ and the intercept $b = \\ln{A}$\n",
    "\n",
    "Or, in terms of the TST model: $\\ln{\\frac{P}{T}} = \\ln{\\left( \\frac{\\lambda^2}{\\delta} \\frac{k_B}{h} \\right)} + \\frac{\\Delta S_{eff}}{R} - \\frac{\\Delta H_{eff}}{RT}$\n",
    "\n",
    "So, the slope $m = - \\frac{\\Delta H_{eff}}{R}$ and the intercept $b = \\ln{\\left( \\frac{\\lambda^2}{\\delta} \\frac{k_B}{h} \\right)} + \\frac{\\Delta S_{eff}}{R}$"
   ]
  },
  {
   "cell_type": "code",
   "execution_count": 47,
   "metadata": {},
   "outputs": [
    {
     "name": "stdout",
     "output_type": "stream",
     "text": [
      "ln(P/T) vs 1/T:\n",
      "Effective enthalpy to permeability: 3.52 +/- 0.19 kcal/mol\n",
      "Effective entropy with constants: -2.0116e-02 +/- 6.29e-04 A/s\n",
      "Prediction for 305 K: -15.94\n",
      "                            OLS Regression Results                            \n",
      "==============================================================================\n",
      "Dep. Variable:                      y   R-squared:                       0.989\n",
      "Model:                            OLS   Adj. R-squared:                  0.986\n",
      "Method:                 Least Squares   F-statistic:                     352.3\n",
      "Date:                Fri, 15 Dec 2023   Prob (F-statistic):           4.74e-05\n",
      "Time:                        14:14:36   Log-Likelihood:                 14.536\n",
      "No. Observations:                   6   AIC:                            -25.07\n",
      "Df Residuals:                       4   BIC:                            -25.49\n",
      "Df Model:                           1                                         \n",
      "Covariance Type:            nonrobust                                         \n",
      "==============================================================================\n",
      "                 coef    std err          t      P>|t|      [0.025      0.975]\n",
      "------------------------------------------------------------------------------\n",
      "const        -10.1297      0.317    -31.958      0.000     -11.010      -9.250\n",
      "T (K)      -1772.2983     94.421    -18.770      0.000   -2034.453   -1510.143\n",
      "==============================================================================\n",
      "Omnibus:                          nan   Durbin-Watson:                   1.638\n",
      "Prob(Omnibus):                    nan   Jarque-Bera (JB):                0.604\n",
      "Skew:                          -0.523   Prob(JB):                        0.739\n",
      "Kurtosis:                       1.850   Cond. No.                     8.80e+03\n",
      "==============================================================================\n",
      "\n",
      "Notes:\n",
      "[1] Standard Errors assume that the covariance matrix of the errors is correctly specified.\n",
      "[2] The condition number is large, 8.8e+03. This might indicate that there are\n",
      "strong multicollinearity or other numerical problems.\n"
     ]
    },
    {
     "name": "stderr",
     "output_type": "stream",
     "text": [
      "/home/nate/anaconda3/envs/mpi4py/lib/python3.9/site-packages/statsmodels/stats/stattools.py:74: ValueWarning: omni_normtest is not valid with less than 8 observations; 6 samples were given.\n",
      "  warn(\"omni_normtest is not valid with less than 8 observations; %i \"\n"
     ]
    }
   ],
   "source": [
    "# perform linear fit of ln(P/T) vs 1/T\n",
    "X = sm.add_constant(1/T)\n",
    "ols2 = sm.OLS(np.log(P_experiment/T), X)\n",
    "results2 = ols2.fit()\n",
    "b, m = results2.params\n",
    "be, me = results2.bse\n",
    "\n",
    "print('ln(P/T) vs 1/T:')\n",
    "print(f'Effective enthalpy to permeability: {-m*R:.2f} +/- {me*R:.2f} kcal/mol')\n",
    "print(f'Effective entropy with constants: {b*R:.4e} +/- {be*R:.2e} A/s')\n",
    "print(f'Prediction for 305 K: {m*(1/305) + b:.2f}')\n",
    "\n",
    "print(results2.summary())"
   ]
  },
  {
   "cell_type": "markdown",
   "metadata": {},
   "source": [
    "$\\ln{\\left( \\frac{P \\delta h}{\\lambda^2 k_B T} \\right)} = \\ln{A} - \\frac{E_a}{RT}$\n",
    "\n",
    "So, the slope $m = -\\frac{E_a}{R}$ and the intercept $b = \\ln{A}$\n",
    "\n",
    "Or, in terms of the TST model: $\\ln{\\left( \\frac{P \\delta h}{\\lambda^2 k_B T} \\right)} = \\frac{\\Delta S_{eff}}{R} - \\frac{\\Delta H_{eff}}{RT}$\n",
    "\n",
    "So, the slope $m = - \\frac{\\Delta H_{eff}}{R}$ and the intercept $b = \\frac{\\Delta S_{eff}}{R}$"
   ]
  },
  {
   "cell_type": "code",
   "execution_count": 28,
   "metadata": {},
   "outputs": [
    {
     "name": "stdout",
     "output_type": "stream",
     "text": [
      "ln(P*delta*h/lam^2*kB*T) vs 1/T:\n",
      "Arrhenius barrier to permeability, Ea: 3.43 +/- 0.76 kcal/mol\n",
      "Arrhenius prefactor, ln(A): -31.06 +/- 1.29 A/s\n",
      "Prediction for 305 K: -36.72\n"
     ]
    }
   ],
   "source": [
    "# perform linear fit of ln(P*delta*h/lam^2*kB*T) vs 1/T\n",
    "X = sm.add_constant(1/T)\n",
    "ols3 = sm.OLS(np.log(P_experiment*delta*h/lam**2/kB/T), X)\n",
    "results3 = ols3.fit()\n",
    "b, m = results3.params\n",
    "be, me = results3.bse\n",
    "\n",
    "print('ln(P*delta*h/lam^2*kB*T) vs 1/T:')\n",
    "print(f'Arrhenius barrier to permeability, Ea: {-m*R:.2f} +/- {me*R:.2f} kcal/mol')\n",
    "print(f'Arrhenius prefactor, ln(A): {b:.2f} +/- {be:.2f} A/s')\n",
    "print(f'Prediction for 305 K: {m*(1/305) + b:.2f}')"
   ]
  },
  {
   "cell_type": "code",
   "execution_count": 29,
   "metadata": {},
   "outputs": [
    {
     "data": {
      "image/png": "[encoded data removed]",
      "text/plain": [
       "<Figure size 640x480 with 1 Axes>"
      ]
     },
     "metadata": {},
     "output_type": "display_data"
    }
   ],
   "source": [
    "# plot the linear fits\n",
    "df['1/T'] = 1/df['T (K)']\n",
    "df['ln(P)'] = np.log(P_experiment)\n",
    "df['ln(P/T)'] = np.log(P_experiment/T)\n",
    "df['ln(CP/T)'] = np.log(P_experiment*delta*h/lam**2/kB/T)\n",
    "\n",
    "fig, ax = plt.subplots(1,1)\n",
    "sns.regplot(x='1/T', y='ln(P)', data=df, ax=ax, label='ln(P)', ci=95)\n",
    "sns.regplot(x='1/T', y='ln(P/T)', data=df, ax=ax, label='ln(P/T)', ci=95)\n",
    "# sns.regplot(x='1/T', y='ln(CP/T)', data=df, ax=ax, label='ln(C*P/T)')\n",
    "\n",
    "plt.ylabel('Y')\n",
    "plt.legend();"
   ]
  },
  {
   "cell_type": "code",
   "execution_count": 30,
   "metadata": {},
   "outputs": [
    {
     "name": "stdout",
     "output_type": "stream",
     "text": [
      "Sum of squared residuals for ln(P) vs 1/T: 0.5448210209390335\n",
      "Sum of squared residuals for ln(P/T) vs 1/T: 0.5451251527821924\n"
     ]
    }
   ],
   "source": [
    "print(f'Sum of squared residuals for ln(P) vs 1/T: {results1.ssr}')\n",
    "print(f'Sum of squared residuals for ln(P/T) vs 1/T: {results2.ssr}')"
   ]
  },
  {
   "cell_type": "code",
   "execution_count": 35,
   "metadata": {},
   "outputs": [],
   "source": [
    "# now with the average permeabilities\n",
    "df = pd.read_excel('../P_vs_T_results.xlsx')\n",
    "df = df[df['system'] == 'NaCl (NF270)'].dropna()\n",
    "T = df['T (K)']\n",
    "P_experiment = df['ave B (m/sec)']"
   ]
  },
  {
   "cell_type": "code",
   "execution_count": 37,
   "metadata": {},
   "outputs": [
    {
     "name": "stdout",
     "output_type": "stream",
     "text": [
      "ln(P) vs 1/T:\n",
      "Arrhenius barrier to permeability, Ea: 4.11 +/- 0.18 kcal/mol\n",
      "Arrhenius prefactor, ln(A): -3.43 +/- 0.31 A/s\n",
      "Prediction for 305 K: -10.22\n",
      "                            OLS Regression Results                            \n",
      "==============================================================================\n",
      "Dep. Variable:          ave B (m/sec)   R-squared:                       0.992\n",
      "Model:                            OLS   Adj. R-squared:                  0.990\n",
      "Method:                 Least Squares   F-statistic:                     499.1\n",
      "Date:                Mon, 23 Oct 2023   Prob (F-statistic):           2.38e-05\n",
      "Time:                        12:32:03   Log-Likelihood:                 14.647\n",
      "No. Observations:                   6   AIC:                            -25.29\n",
      "Df Residuals:                       4   BIC:                            -25.71\n",
      "Df Model:                           1                                         \n",
      "Covariance Type:            nonrobust                                         \n",
      "==============================================================================\n",
      "                 coef    std err          t      P>|t|      [0.025      0.975]\n",
      "------------------------------------------------------------------------------\n",
      "const         -3.4309      0.311    -11.027      0.000      -4.295      -2.567\n",
      "T (K)      -2070.6410     92.687    -22.340      0.000   -2327.980   -1813.302\n",
      "==============================================================================\n",
      "Omnibus:                          nan   Durbin-Watson:                   1.658\n",
      "Prob(Omnibus):                    nan   Jarque-Bera (JB):                0.582\n",
      "Skew:                          -0.513   Prob(JB):                        0.748\n",
      "Kurtosis:                       1.870   Cond. No.                     8.80e+03\n",
      "==============================================================================\n",
      "\n",
      "Notes:\n",
      "[1] Standard Errors assume that the covariance matrix of the errors is correctly specified.\n",
      "[2] The condition number is large, 8.8e+03. This might indicate that there are\n",
      "strong multicollinearity or other numerical problems.\n"
     ]
    },
    {
     "name": "stderr",
     "output_type": "stream",
     "text": [
      "/Users/nate_schwindt/anaconda3/envs/mpipy/lib/python3.8/site-packages/statsmodels/stats/stattools.py:74: ValueWarning: omni_normtest is not valid with less than 8 observations; 6 samples were given.\n",
      "  warn(\"omni_normtest is not valid with less than 8 observations; %i \"\n"
     ]
    }
   ],
   "source": [
    "# perform linear fit of ln(P) vs 1/T\n",
    "X = sm.add_constant(1/T)\n",
    "ols1 = sm.OLS(np.log(P_experiment), X)\n",
    "results1 = ols1.fit()\n",
    "b, m = results1.params\n",
    "be, me = results1.bse\n",
    "\n",
    "print('ln(P) vs 1/T:')\n",
    "print(f'Arrhenius barrier to permeability, Ea: {-m*R:.2f} +/- {me*R:.2f} kcal/mol')\n",
    "print(f'Arrhenius prefactor, ln(A): {b:.2f} +/- {be:.2f} A/s')\n",
    "print(f'Prediction for 305 K: {m*(1/305) + b:.2f}')\n",
    "\n",
    "print(results1.summary())"
   ]
  },
  {
   "cell_type": "code",
   "execution_count": 38,
   "metadata": {},
   "outputs": [
    {
     "name": "stdout",
     "output_type": "stream",
     "text": [
      "ln(P/T) vs 1/T:\n",
      "Arrhenius barrier to permeability, Ea: 3.52 +/- 0.19 kcal/mol\n",
      "Arrhenius prefactor, ln(A): -10.13 +/- 0.32 A/s\n",
      "Prediction for 305 K: -15.94\n",
      "                            OLS Regression Results                            \n",
      "==============================================================================\n",
      "Dep. Variable:                      y   R-squared:                       0.989\n",
      "Model:                            OLS   Adj. R-squared:                  0.986\n",
      "Method:                 Least Squares   F-statistic:                     352.3\n",
      "Date:                Mon, 23 Oct 2023   Prob (F-statistic):           4.74e-05\n",
      "Time:                        12:32:21   Log-Likelihood:                 14.536\n",
      "No. Observations:                   6   AIC:                            -25.07\n",
      "Df Residuals:                       4   BIC:                            -25.49\n",
      "Df Model:                           1                                         \n",
      "Covariance Type:            nonrobust                                         \n",
      "==============================================================================\n",
      "                 coef    std err          t      P>|t|      [0.025      0.975]\n",
      "------------------------------------------------------------------------------\n",
      "const        -10.1297      0.317    -31.959      0.000     -11.010      -9.250\n",
      "T (K)      -1772.2961     94.417    -18.771      0.000   -2034.441   -1510.151\n",
      "==============================================================================\n",
      "Omnibus:                          nan   Durbin-Watson:                   1.638\n",
      "Prob(Omnibus):                    nan   Jarque-Bera (JB):                0.604\n",
      "Skew:                          -0.523   Prob(JB):                        0.739\n",
      "Kurtosis:                       1.850   Cond. No.                     8.80e+03\n",
      "==============================================================================\n",
      "\n",
      "Notes:\n",
      "[1] Standard Errors assume that the covariance matrix of the errors is correctly specified.\n",
      "[2] The condition number is large, 8.8e+03. This might indicate that there are\n",
      "strong multicollinearity or other numerical problems.\n"
     ]
    },
    {
     "name": "stderr",
     "output_type": "stream",
     "text": [
      "/Users/nate_schwindt/anaconda3/envs/mpipy/lib/python3.8/site-packages/statsmodels/stats/stattools.py:74: ValueWarning: omni_normtest is not valid with less than 8 observations; 6 samples were given.\n",
      "  warn(\"omni_normtest is not valid with less than 8 observations; %i \"\n"
     ]
    }
   ],
   "source": [
    "# perform linear fit of ln(P/T) vs 1/T\n",
    "X = sm.add_constant(1/T)\n",
    "ols2 = sm.OLS(np.log(P_experiment/T), X)\n",
    "results2 = ols2.fit()\n",
    "b, m = results2.params\n",
    "be, me = results2.bse\n",
    "\n",
    "print('ln(P/T) vs 1/T:')\n",
    "print(f'Arrhenius barrier to permeability, Ea: {-m*R:.2f} +/- {me*R:.2f} kcal/mol')\n",
    "print(f'Arrhenius prefactor, ln(A): {b:.2f} +/- {be:.2f} A/s')\n",
    "print(f'Prediction for 305 K: {m*(1/305) + b:.2f}')\n",
    "\n",
    "print(results2.summary())"
   ]
  },
  {
   "cell_type": "code",
   "execution_count": 39,
   "metadata": {},
   "outputs": [
    {
     "name": "stdout",
     "output_type": "stream",
     "text": [
      "ln(P*delta*h/lam^2*kB*T) vs 1/T:\n",
      "Arrhenius barrier to permeability, Ea: 3.52 +/- 0.19 kcal/mol\n",
      "Arrhenius prefactor, ln(A): -30.89 +/- 0.32 A/s\n",
      "Prediction for 305 K: -36.70\n"
     ]
    }
   ],
   "source": [
    "# perform linear fit of ln(P*delta*h/lam^2*kB*T) vs 1/T\n",
    "X = sm.add_constant(1/T)\n",
    "ols3 = sm.OLS(np.log(P_experiment*delta*h/lam**2/kB/T), X)\n",
    "results3 = ols3.fit()\n",
    "b, m = results3.params\n",
    "be, me = results3.bse\n",
    "\n",
    "print('ln(P*delta*h/lam^2*kB*T) vs 1/T:')\n",
    "print(f'Arrhenius barrier to permeability, Ea: {-m*R:.2f} +/- {me*R:.2f} kcal/mol')\n",
    "print(f'Arrhenius prefactor, ln(A): {b:.2f} +/- {be:.2f} A/s')\n",
    "print(f'Prediction for 305 K: {m*(1/305) + b:.2f}')"
   ]
  },
  {
   "cell_type": "code",
   "execution_count": 40,
   "metadata": {},
   "outputs": [
    {
     "data": {
      "image/png": "[encoded data removed]",
      "text/plain": [
       "<Figure size 640x480 with 1 Axes>"
      ]
     },
     "metadata": {},
     "output_type": "display_data"
    }
   ],
   "source": [
    "# plot the linear fits\n",
    "df['1/T'] = 1/df['T (K)']\n",
    "df['ln(P)'] = np.log(P_experiment)\n",
    "df['ln(P/T)'] = np.log(P_experiment/T)\n",
    "df['ln(CP/T)'] = np.log(P_experiment*delta*h/lam**2/kB/T)\n",
    "\n",
    "fig, ax = plt.subplots(1,1)\n",
    "sns.regplot(x='1/T', y='ln(P)', data=df, ax=ax, label='ln(P)', ci=95)\n",
    "sns.regplot(x='1/T', y='ln(P/T)', data=df, ax=ax, label='ln(P/T)', ci=95)\n",
    "# sns.regplot(x='1/T', y='ln(CP/T)', data=df, ax=ax, label='ln(C*P/T)')\n",
    "\n",
    "plt.ylabel('Y')\n",
    "plt.legend();"
   ]
  },
  {
   "cell_type": "code",
   "execution_count": 41,
   "metadata": {},
   "outputs": [
    {
     "name": "stdout",
     "output_type": "stream",
     "text": [
      "Sum of squared residuals for ln(P) vs 1/T: 0.0026625445905459357\n",
      "Sum of squared residuals for ln(P/T) vs 1/T: 0.0027629163344016876\n"
     ]
    }
   ],
   "source": [
    "print(f'Sum of squared residuals for ln(P) vs 1/T: {results1.ssr}')\n",
    "print(f'Sum of squared residuals for ln(P/T) vs 1/T: {results2.ssr}')"
   ]
  },
  {
   "cell_type": "code",
   "execution_count": null,
   "metadata": {},
   "outputs": [],
   "source": []
  }
 ],
 "metadata": {
  "kernelspec": {
   "display_name": "mpipy",
   "language": "python",
   "name": "python3"
  },
  "language_info": {
   "codemirror_mode": {
    "name": "ipython",
    "version": 3
   },
   "file_extension": ".py",
   "mimetype": "text/x-python",
   "name": "python",
   "nbconvert_exporter": "python",
   "pygments_lexer": "ipython3",
   "version": "3.9.16"
  },
  "orig_nbformat": 4
 },
 "nbformat": 4,
 "nbformat_minor": 2
}
