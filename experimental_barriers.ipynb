{
 "cells": [
  {
   "cell_type": "code",
   "execution_count": 13,
   "metadata": {},
   "outputs": [],
   "source": [
    "import numpy as np\n",
    "import matplotlib.pyplot as plt\n",
    "import statsmodels.api as sm\n",
    "import pandas as pd\n",
    "import seaborn as sns\n",
    "\n",
    "# some constants\n",
    "kB = 1.380649 * 10**-23    # Boltzmann (m^2 kg / s^2 K)\n",
    "h = 6.62607 * 10**-34      # Planck (m^2 kg / s)\n",
    "R = 1.9858775 * 10**-3     # universal gas (kcal / mol K)\n",
    "\n",
    "plt.rcParams['text.usetex'] = True\n",
    "plt.rcParams['font.family'] = 'Helvetica'\n",
    "plt.rcParams['font.size'] = 8\n",
    "plt.rc('text.latex', preamble=r'\\usepackage[cm]{sfmath}')"
   ]
  },
  {
   "cell_type": "code",
   "execution_count": 2,
   "metadata": {},
   "outputs": [],
   "source": [
    "# make some guesses on parameters\n",
    "delta = 200 # 200 Angstrom thickness\n",
    "lam = 2 # 2 Angstrom jumps\n",
    "\n",
    "# read in the experimental data\n",
    "df = pd.read_csv('csv_data/experimental_data.csv')\n",
    "\n",
    "# calculate some useful columns\n",
    "df['1/T'] = 1/df['T (K)']\n",
    "df['ln(P)'] = np.log(df['B (m/sec)'])\n",
    "df['ln(P/T)'] = np.log(df['B (m/sec)']/df['T (K)'])\n",
    "df['ln(CP/T)'] = np.log(df['B (m/sec)']*delta*h/lam**2/kB/df['T (K)'])\n",
    "\n",
    "df1 = df[df['system'] == 'NaCl (NF270)']\n",
    "df2 = df[df['system'] == 'NaF (NF270)'].reset_index(drop=True)\n",
    "df3 = df[df['system'] == 'NaCl (RO)'].reset_index(drop=True)\n",
    "df4 = pd.read_csv('csv_data/experimental_data_water.csv')"
   ]
  },
  {
   "cell_type": "markdown",
   "metadata": {},
   "source": [
    "### Testing different OLS fits"
   ]
  },
  {
   "cell_type": "markdown",
   "metadata": {},
   "source": [
    "$\\ln{P} = \\ln{A} - \\frac{E_a}{RT}$\n",
    "\n",
    "So, the slope $m = -\\frac{E_a}{R}$ and the intercept $b = \\ln{A}$\n",
    "\n",
    "Or, in terms of the TST model: $\\ln{P} = \\ln{\\left( \\frac{\\lambda^2}{\\delta} \\frac{k_B T}{h} \\right)} + \\frac{\\Delta S_{eff}}{R} - \\frac{\\Delta H_{eff}}{RT}$\n",
    "\n",
    "So, the slope $m = - \\frac{\\Delta H_{eff}}{R}$ and the intercept $b = \\ln{\\left( \\frac{\\lambda^2}{\\delta} \\frac{k_B T}{h} \\right)} + \\frac{\\Delta S_{eff}}{R}$\n",
    "\n",
    "But, the intercept still has a temperature dependence..."
   ]
  },
  {
   "cell_type": "code",
   "execution_count": 3,
   "metadata": {},
   "outputs": [
    {
     "name": "stdout",
     "output_type": "stream",
     "text": [
      "ln(P) vs 1/T:\n",
      "Arrhenius barrier to permeability, Ea: 4.17 +/- 0.94 kcal/mol\n",
      "Arrhenius prefactor, ln(A): -3.36 +/- 1.58 A/s\n",
      "                            OLS Regression Results                            \n",
      "==============================================================================\n",
      "Dep. Variable:              B (m/sec)   R-squared:                       0.642\n",
      "Model:                            OLS   Adj. R-squared:                  0.610\n",
      "Method:                 Least Squares   F-statistic:                     19.75\n",
      "Date:                Wed, 17 Jan 2024   Prob (F-statistic):           0.000987\n",
      "Time:                        13:06:29   Log-Likelihood:                 3.8064\n",
      "No. Observations:                  13   AIC:                            -3.613\n",
      "Df Residuals:                      11   BIC:                            -2.483\n",
      "Df Model:                           1                                         \n",
      "Covariance Type:            nonrobust                                         \n",
      "==============================================================================\n",
      "                 coef    std err          t      P>|t|      [0.025      0.975]\n",
      "------------------------------------------------------------------------------\n",
      "const         -3.3603      1.578     -2.130      0.057      -6.833       0.112\n",
      "T (K)      -2099.0943    472.279     -4.445      0.001   -3138.573   -1059.616\n",
      "==============================================================================\n",
      "Omnibus:                        2.244   Durbin-Watson:                   0.746\n",
      "Prob(Omnibus):                  0.326   Jarque-Bera (JB):                1.039\n",
      "Skew:                          -0.250   Prob(JB):                        0.595\n",
      "Kurtosis:                       1.708   Cond. No.                     8.68e+03\n",
      "==============================================================================\n",
      "\n",
      "Notes:\n",
      "[1] Standard Errors assume that the covariance matrix of the errors is correctly specified.\n",
      "[2] The condition number is large, 8.68e+03. This might indicate that there are\n",
      "strong multicollinearity or other numerical problems.\n"
     ]
    },
    {
     "name": "stderr",
     "output_type": "stream",
     "text": [
      "/Users/nate_schwindt/anaconda3/envs/mpipy/lib/python3.8/site-packages/scipy/stats/_stats_py.py:1736: UserWarning: kurtosistest only valid for n>=20 ... continuing anyway, n=13\n",
      "  warnings.warn(\"kurtosistest only valid for n>=20 ... continuing \"\n"
     ]
    }
   ],
   "source": [
    "T = df1['T (K)']\n",
    "P = df1['B (m/sec)']\n",
    "\n",
    "# perform linear fit of ln(P) vs 1/T\n",
    "X = sm.add_constant(1/T)\n",
    "ols1 = sm.OLS(np.log(P), X)\n",
    "results1 = ols1.fit()\n",
    "b, m = results1.params\n",
    "be, me = results1.bse\n",
    "\n",
    "print('ln(P) vs 1/T:')\n",
    "print(f'Arrhenius barrier to permeability, Ea: {-m*R:.2f} +/- {me*R:.2f} kcal/mol')\n",
    "print(f'Arrhenius prefactor, ln(A): {b:.2f} +/- {be:.2f} A/s')\n",
    "\n",
    "print(results1.summary())"
   ]
  },
  {
   "cell_type": "markdown",
   "metadata": {},
   "source": [
    "$\\ln{\\frac{P}{T}} = \\ln{A} - \\frac{E_a}{RT}$\n",
    "\n",
    "So, the slope $m = -\\frac{E_a}{R}$ and the intercept $b = \\ln{A}$\n",
    "\n",
    "Or, in terms of the TST model: $\\ln{\\frac{P}{T}} = \\ln{\\left( \\frac{\\lambda^2}{\\delta} \\frac{k_B}{h} \\right)} + \\frac{\\Delta S_{eff}}{R} - \\frac{\\Delta H_{eff}}{RT}$\n",
    "\n",
    "So, the slope $m = - \\frac{\\Delta H_{eff}}{R}$ and the intercept $b = \\ln{\\left( \\frac{\\lambda^2}{\\delta} \\frac{k_B}{h} \\right)} + \\frac{\\Delta S_{eff}}{R}$"
   ]
  },
  {
   "cell_type": "code",
   "execution_count": 4,
   "metadata": {},
   "outputs": [
    {
     "name": "stdout",
     "output_type": "stream",
     "text": [
      "ln(P/T) vs 1/T:\n",
      "Arrhenius barrier to permeability, Ea: 3.57 +/- 0.94 kcal/mol\n",
      "Arrhenius prefactor, ln(A): -10.06 +/- 1.58 A/s\n",
      "                            OLS Regression Results                            \n",
      "==============================================================================\n",
      "Dep. Variable:                      y   R-squared:                       0.569\n",
      "Model:                            OLS   Adj. R-squared:                  0.529\n",
      "Method:                 Least Squares   F-statistic:                     14.50\n",
      "Date:                Wed, 17 Jan 2024   Prob (F-statistic):            0.00290\n",
      "Time:                        13:06:30   Log-Likelihood:                 3.8007\n",
      "No. Observations:                  13   AIC:                            -3.601\n",
      "Df Residuals:                      11   BIC:                            -2.471\n",
      "Df Model:                           1                                         \n",
      "Covariance Type:            nonrobust                                         \n",
      "==============================================================================\n",
      "                 coef    std err          t      P>|t|      [0.025      0.975]\n",
      "------------------------------------------------------------------------------\n",
      "const        -10.0638      1.578     -6.376      0.000     -13.538      -6.590\n",
      "T (K)      -1799.3409    472.488     -3.808      0.003   -2839.280    -759.402\n",
      "==============================================================================\n",
      "Omnibus:                        2.241   Durbin-Watson:                   0.746\n",
      "Prob(Omnibus):                  0.326   Jarque-Bera (JB):                1.039\n",
      "Skew:                          -0.250   Prob(JB):                        0.595\n",
      "Kurtosis:                       1.708   Cond. No.                     8.68e+03\n",
      "==============================================================================\n",
      "\n",
      "Notes:\n",
      "[1] Standard Errors assume that the covariance matrix of the errors is correctly specified.\n",
      "[2] The condition number is large, 8.68e+03. This might indicate that there are\n",
      "strong multicollinearity or other numerical problems.\n"
     ]
    },
    {
     "name": "stderr",
     "output_type": "stream",
     "text": [
      "/Users/nate_schwindt/anaconda3/envs/mpipy/lib/python3.8/site-packages/scipy/stats/_stats_py.py:1736: UserWarning: kurtosistest only valid for n>=20 ... continuing anyway, n=13\n",
      "  warnings.warn(\"kurtosistest only valid for n>=20 ... continuing \"\n"
     ]
    }
   ],
   "source": [
    "T = df1['T (K)']\n",
    "P = df1['B (m/sec)']\n",
    "\n",
    "# perform linear fit of ln(P/T) vs 1/T\n",
    "X = sm.add_constant(1/T)\n",
    "ols2 = sm.OLS(np.log(P/T), X)\n",
    "results2 = ols2.fit()\n",
    "b, m = results2.params\n",
    "be, me = results2.bse\n",
    "\n",
    "print('ln(P/T) vs 1/T:')\n",
    "print(f'Arrhenius barrier to permeability, Ea: {-m*R:.2f} +/- {me*R:.2f} kcal/mol')\n",
    "print(f'Arrhenius prefactor, ln(A): {b:.2f} +/- {be:.2f} A/s')\n",
    "\n",
    "print(results2.summary())"
   ]
  },
  {
   "cell_type": "markdown",
   "metadata": {},
   "source": [
    "$\\ln{\\left( \\frac{P \\delta h}{\\lambda^2 k_B T} \\right)} = \\ln{A} - \\frac{E_a}{RT}$\n",
    "\n",
    "So, the slope $m = -\\frac{E_a}{R}$ and the intercept $b = \\ln{A}$\n",
    "\n",
    "Or, in terms of the TST model: $\\ln{\\left( \\frac{P \\delta h}{\\lambda^2 k_B T} \\right)} = \\frac{\\Delta S_{eff}}{R} - \\frac{\\Delta H_{eff}}{RT}$\n",
    "\n",
    "So, the slope $m = - \\frac{\\Delta H_{eff}}{R}$ and the intercept $b = \\frac{\\Delta S_{eff}}{R}$"
   ]
  },
  {
   "cell_type": "code",
   "execution_count": 5,
   "metadata": {},
   "outputs": [
    {
     "name": "stdout",
     "output_type": "stream",
     "text": [
      "ln(P*delta*h/lam^2*kB*T) vs 1/T:\n",
      "Arrhenius barrier to permeability, Ea: 3.57 +/- 0.94 kcal/mol\n",
      "Arrhenius prefactor, ln(A): -29.91 +/- 1.58 A/s\n",
      "                            OLS Regression Results                            \n",
      "==============================================================================\n",
      "Dep. Variable:                      y   R-squared:                       0.569\n",
      "Model:                            OLS   Adj. R-squared:                  0.529\n",
      "Method:                 Least Squares   F-statistic:                     14.50\n",
      "Date:                Wed, 17 Jan 2024   Prob (F-statistic):            0.00290\n",
      "Time:                        13:06:31   Log-Likelihood:                 3.8007\n",
      "No. Observations:                  13   AIC:                            -3.601\n",
      "Df Residuals:                      11   BIC:                            -2.471\n",
      "Df Model:                           1                                         \n",
      "Covariance Type:            nonrobust                                         \n",
      "==============================================================================\n",
      "                 coef    std err          t      P>|t|      [0.025      0.975]\n",
      "------------------------------------------------------------------------------\n",
      "const        -29.9118      1.578    -18.952      0.000     -33.386     -26.438\n",
      "T (K)      -1799.3409    472.488     -3.808      0.003   -2839.280    -759.402\n",
      "==============================================================================\n",
      "Omnibus:                        2.241   Durbin-Watson:                   0.746\n",
      "Prob(Omnibus):                  0.326   Jarque-Bera (JB):                1.039\n",
      "Skew:                          -0.250   Prob(JB):                        0.595\n",
      "Kurtosis:                       1.708   Cond. No.                     8.68e+03\n",
      "==============================================================================\n",
      "\n",
      "Notes:\n",
      "[1] Standard Errors assume that the covariance matrix of the errors is correctly specified.\n",
      "[2] The condition number is large, 8.68e+03. This might indicate that there are\n",
      "strong multicollinearity or other numerical problems.\n"
     ]
    },
    {
     "name": "stderr",
     "output_type": "stream",
     "text": [
      "/Users/nate_schwindt/anaconda3/envs/mpipy/lib/python3.8/site-packages/scipy/stats/_stats_py.py:1736: UserWarning: kurtosistest only valid for n>=20 ... continuing anyway, n=13\n",
      "  warnings.warn(\"kurtosistest only valid for n>=20 ... continuing \"\n"
     ]
    }
   ],
   "source": [
    "T = df1['T (K)']\n",
    "P = df1['B (m/sec)']\n",
    "\n",
    "# perform linear fit of ln(P*delta*h/lam^2*kB*T) vs 1/T\n",
    "X = sm.add_constant(1/T)\n",
    "ols3 = sm.OLS(np.log(P*delta*h/lam**2/kB/T), X)\n",
    "results3 = ols3.fit()\n",
    "b, m = results3.params\n",
    "be, me = results3.bse\n",
    "\n",
    "print('ln(P*delta*h/lam^2*kB*T) vs 1/T:')\n",
    "print(f'Arrhenius barrier to permeability, Ea: {-m*R:.2f} +/- {me*R:.2f} kcal/mol')\n",
    "print(f'Arrhenius prefactor, ln(A): {b:.2f} +/- {be:.2f} A/s')\n",
    "\n",
    "print(results3.summary())"
   ]
  },
  {
   "cell_type": "code",
   "execution_count": 20,
   "metadata": {},
   "outputs": [
    {
     "data": {
      "image/png": "[encoded data removed]",
      "text/plain": [
       "<Figure size 355x355 with 1 Axes>"
      ]
     },
     "metadata": {},
     "output_type": "display_data"
    }
   ],
   "source": [
    "# plot the linear fits\n",
    "fig, ax = plt.subplots(1,1, figsize=(3.55, 3.55))\n",
    "sns.regplot(x='1/T', y='ln(P)', data=df1, ax=ax, label='$\\ln (P)$', ci=95)\n",
    "sns.regplot(x='1/T', y='ln(P/T)', data=df1, ax=ax, label='$\\ln (P/T)$', ci=95)\n",
    "# sns.regplot(x='1/T', y='ln(CP/T)', data=df1, ax=ax, label='$\\ln \\left( P \\delta h/ \\lambda^2 k_B T \\\\right)$', ci=95)\n",
    "\n",
    "plt.ylabel('Linearized Permeability', fontsize=8)\n",
    "plt.xlabel('1/T (1/K)', fontsize=8)\n",
    "plt.legend(fontsize=8)\n",
    "ax.tick_params('x', labelrotation=45)\n",
    "plt.tick_params('both')\n",
    "\n",
    "fig.savefig('figs/TST_vs_Arrhenius_plots.pdf')"
   ]
  },
  {
   "cell_type": "markdown",
   "metadata": {},
   "source": [
    "### Replicate the experimental plots in the paper with error"
   ]
  },
  {
   "cell_type": "code",
   "execution_count": 16,
   "metadata": {},
   "outputs": [
    {
     "data": {
      "text/html": [
       "<div>\n",
       "<style scoped>\n",
       "    .dataframe tbody tr th:only-of-type {\n",
       "        vertical-align: middle;\n",
       "    }\n",
       "\n",
       "    .dataframe tbody tr th {\n",
       "        vertical-align: top;\n",
       "    }\n",
       "\n",
       "    .dataframe thead th {\n",
       "        text-align: right;\n",
       "    }\n",
       "</style>\n",
       "<table border=\"1\" class=\"dataframe\">\n",
       "  <thead>\n",
       "    <tr style=\"text-align: right;\">\n",
       "      <th></th>\n",
       "      <th>system</th>\n",
       "      <th>slope</th>\n",
       "      <th>slope error</th>\n",
       "      <th>intercept</th>\n",
       "      <th>intercept error</th>\n",
       "      <th>effective enthalpy</th>\n",
       "      <th>error</th>\n",
       "    </tr>\n",
       "  </thead>\n",
       "  <tbody>\n",
       "    <tr>\n",
       "      <th>0</th>\n",
       "      <td>NaCl (water)</td>\n",
       "      <td>-1435.501957</td>\n",
       "      <td>217.894579</td>\n",
       "      <td>3.873470</td>\n",
       "      <td>0.705947</td>\n",
       "      <td>2.850731</td>\n",
       "      <td>0.432712</td>\n",
       "    </tr>\n",
       "    <tr>\n",
       "      <th>1</th>\n",
       "      <td>NaCl (NF270)</td>\n",
       "      <td>-1799.340862</td>\n",
       "      <td>472.487912</td>\n",
       "      <td>-10.063829</td>\n",
       "      <td>1.578287</td>\n",
       "      <td>3.573271</td>\n",
       "      <td>0.938303</td>\n",
       "    </tr>\n",
       "    <tr>\n",
       "      <th>2</th>\n",
       "      <td>NaF (NF270)</td>\n",
       "      <td>-1973.858688</td>\n",
       "      <td>562.175156</td>\n",
       "      <td>-10.206582</td>\n",
       "      <td>1.886499</td>\n",
       "      <td>3.919842</td>\n",
       "      <td>1.116411</td>\n",
       "    </tr>\n",
       "    <tr>\n",
       "      <th>3</th>\n",
       "      <td>NaCl (RO)</td>\n",
       "      <td>-2243.359707</td>\n",
       "      <td>675.416337</td>\n",
       "      <td>-10.390132</td>\n",
       "      <td>2.262707</td>\n",
       "      <td>4.455038</td>\n",
       "      <td>1.341294</td>\n",
       "    </tr>\n",
       "  </tbody>\n",
       "</table>\n",
       "</div>"
      ],
      "text/plain": [
       "         system        slope  slope error  intercept  intercept error  \\\n",
       "0  NaCl (water) -1435.501957   217.894579   3.873470         0.705947   \n",
       "1  NaCl (NF270) -1799.340862   472.487912 -10.063829         1.578287   \n",
       "2   NaF (NF270) -1973.858688   562.175156 -10.206582         1.886499   \n",
       "3     NaCl (RO) -2243.359707   675.416337 -10.390132         2.262707   \n",
       "\n",
       "   effective enthalpy     error  \n",
       "0            2.850731  0.432712  \n",
       "1            3.573271  0.938303  \n",
       "2            3.919842  1.116411  \n",
       "3            4.455038  1.341294  "
      ]
     },
     "execution_count": 16,
     "metadata": {},
     "output_type": "execute_result"
    }
   ],
   "source": [
    "# generate the barrier data with error for plotting\n",
    "barriers = pd.DataFrame()\n",
    "barriers['system'] = ['NaCl (water)', 'NaCl (NF270)', 'NaF (NF270)', 'NaCl (RO)']\n",
    "\n",
    "# do the analysis for NaCl in water as well\n",
    "X = sm.add_constant(1/df4['T (K)'])\n",
    "ols = sm.OLS(np.log(df4['Conductivity (uS/cm)'] / df4['T (K)']), X)\n",
    "results = ols.fit()\n",
    "b, m = results.params\n",
    "be, me = results.bse\n",
    "\n",
    "slopes = [m]\n",
    "slope_err = [me]\n",
    "intercepts = [b]\n",
    "intercept_err = [be]\n",
    "dH = [-m*R]\n",
    "dH_err = [me*R]\n",
    "\n",
    "# perform linear regression and save the standard error\n",
    "for tmp in [df1,df2,df3]:\n",
    "    \n",
    "    X = sm.add_constant(1/tmp['T (K)'])\n",
    "    ols = sm.OLS(np.log(tmp['B (m/sec)'] / tmp['T (K)']), X)\n",
    "    results = ols.fit()\n",
    "    b, m = results.params\n",
    "    be, me = results.bse\n",
    "\n",
    "    slopes.append(m)\n",
    "    slope_err.append(me)\n",
    "    intercepts.append(b)\n",
    "    intercept_err.append(be)\n",
    "    dH.append(-m*R)\n",
    "    dH_err.append(me*R)\n",
    "\n",
    "barriers['slope'] = slopes\n",
    "barriers['slope error'] = slope_err\n",
    "barriers['intercept'] = intercepts\n",
    "barriers['intercept error'] = intercept_err\n",
    "barriers['effective enthalpy'] = dH\n",
    "barriers['error'] = dH_err\n",
    "barriers"
   ]
  },
  {
   "cell_type": "code",
   "execution_count": 17,
   "metadata": {},
   "outputs": [
    {
     "data": {
      "text/plain": [
       "array([  1.57828653, 472.487912  ])"
      ]
     },
     "execution_count": 17,
     "metadata": {},
     "output_type": "execute_result"
    }
   ],
   "source": [
    "# check that the statsmodels bse is the same as the propagated error\n",
    "X = sm.add_constant(1/df1['T (K)'])\n",
    "ols = sm.OLS(np.log(df1['B (m/sec)'] / df1['T (K)']), X)\n",
    "results = ols.fit()\n",
    "\n",
    "s = np.sqrt(results.ssr / (len(df1['B (m/sec)']) - 2))\n",
    "N = np.linalg.inv(np.dot(X.T, X))\n",
    "var = N.diagonal()*s**2\n",
    "np.sqrt(var)"
   ]
  },
  {
   "cell_type": "code",
   "execution_count": 30,
   "metadata": {},
   "outputs": [
    {
     "data": {
      "image/png": "[encoded data removed]",
      "text/plain": [
       "<Figure size 355x355 with 1 Axes>"
      ]
     },
     "metadata": {},
     "output_type": "display_data"
    }
   ],
   "source": [
    "# plot ln(P/T) vs 1/T, which would correspond to the TST model\n",
    "systems = ['NaCl (NF270)', 'NaF (NF270)', 'NaCl (RO)']\n",
    "colors = ['tab:blue', 'tab:orange', 'tab:green']\n",
    "\n",
    "fig, ax = plt.subplots(1,1, figsize=(3.55,3.55))\n",
    "\n",
    "# plot the TST linear regression plots\n",
    "for sys,c in zip(systems,colors):\n",
    "    tmp = df[df['system'] == sys]\n",
    "\n",
    "    # perform linear regression for plotting\n",
    "    X = sm.add_constant(tmp['1/T'])\n",
    "    ols = sm.OLS(tmp['ln(P/T)'], X)\n",
    "    res = ols.fit()\n",
    "    b, m = res.params\n",
    "\n",
    "    # plot the linear regression and the data points with error\n",
    "    ax.plot(tmp['1/T'], m*tmp['1/T']+b, color=c, lw=1)\n",
    "    ax.scatter(tmp['1/T'], tmp['ln(P/T)'],\n",
    "               marker='o', label=sys, lw=1, color=c, facecolor='None', s=60)\n",
    "\n",
    "ax.set_ylim(-19, -14)\n",
    "ax.set_ylabel('ln(Permeability / Temperature (m/s/K))')\n",
    "ax.set_xlabel('1/T (1/K)')\n",
    "ax.tick_params('x', labelrotation=45)\n",
    "ax.legend(loc='best')\n",
    "\n",
    "fig.savefig('figs/experimental_TST_plots.pdf')"
   ]
  },
  {
   "cell_type": "code",
   "execution_count": 31,
   "metadata": {},
   "outputs": [
    {
     "data": {
      "image/png": "[encoded data removed]",
      "text/plain": [
       "<Figure size 355x355 with 1 Axes>"
      ]
     },
     "metadata": {},
     "output_type": "display_data"
    }
   ],
   "source": [
    "# plot ln(P/T) vs 1/T for the NaCl in water\n",
    "fig, ax = plt.subplots(1,1, figsize=(3.55,3.55))\n",
    "\n",
    "# perform linear regression for plotting\n",
    "X = sm.add_constant(1/df4['T (K)'])\n",
    "ols = sm.OLS(np.log(df4['Conductivity (uS/cm)'] / df4['T (K)']) , X)\n",
    "res = ols.fit()\n",
    "b, m = res.params\n",
    "\n",
    "# plot the linear regression and the data points with error\n",
    "ax.plot(1/df4['T (K)'], m*(1/df4['T (K)'])+b, color='tab:gray')\n",
    "ax.scatter(1/df4['T (K)'], np.log(df4['Conductivity (uS/cm)'] / df4['T (K)']),\n",
    "            marker='o', label='NaCl (water)', lw=1, color='tab:gray', facecolor='None', s=60)\n",
    "\n",
    "ax.set_ylabel('ln(Conductivity / Temperature ($\\mu$S/cm/K))')\n",
    "ax.set_xlabel('1/T (1/K)')\n",
    "ax.tick_params('x', labelrotation=45)\n",
    "ax.legend(loc='best')\n",
    "\n",
    "fig.savefig('figs/NaCl_in_water_TST.pdf')\n"
   ]
  },
  {
   "cell_type": "code",
   "execution_count": 46,
   "metadata": {},
   "outputs": [
    {
     "data": {
      "image/png": "[encoded data removed]",
      "text/plain": [
       "<Figure size 355x355 with 1 Axes>"
      ]
     },
     "metadata": {},
     "output_type": "display_data"
    }
   ],
   "source": [
    "# plot the barriers with errors\n",
    "fig, ax = plt.subplots(1,1, figsize=(3.55,3.55))\n",
    "\n",
    "bar_colors = ['lightgray', 'tab:blue', 'tab:orange', 'tab:green']\n",
    "ax.bar(barriers['system'], barriers['effective enthalpy'],\n",
    "          color=bar_colors, edgecolor='k', width=0.25, linewidth=0.5)\n",
    "ax.errorbar(barriers['system'], barriers['effective enthalpy'], fmt='none', \n",
    "            yerr=barriers['error'], capsize=2, elinewidth=1, ecolor='k')\n",
    "ax.set_ylabel('Effective enthalpy (kcal/mol)')\n",
    "ax.tick_params('both')\n",
    "\n",
    "fig.savefig('figs/experimental_Ea.pdf')"
   ]
  },
  {
   "cell_type": "markdown",
   "metadata": {},
   "source": [
    "#### The same plot using the Arrhenius equation rather than the TST equation"
   ]
  },
  {
   "cell_type": "code",
   "execution_count": 33,
   "metadata": {},
   "outputs": [
    {
     "data": {
      "text/html": [
       "<div>\n",
       "<style scoped>\n",
       "    .dataframe tbody tr th:only-of-type {\n",
       "        vertical-align: middle;\n",
       "    }\n",
       "\n",
       "    .dataframe tbody tr th {\n",
       "        vertical-align: top;\n",
       "    }\n",
       "\n",
       "    .dataframe thead th {\n",
       "        text-align: right;\n",
       "    }\n",
       "</style>\n",
       "<table border=\"1\" class=\"dataframe\">\n",
       "  <thead>\n",
       "    <tr style=\"text-align: right;\">\n",
       "      <th></th>\n",
       "      <th>system</th>\n",
       "      <th>slope</th>\n",
       "      <th>slope error</th>\n",
       "      <th>intercept</th>\n",
       "      <th>intercept error</th>\n",
       "      <th>effective enthalpy</th>\n",
       "      <th>error</th>\n",
       "    </tr>\n",
       "  </thead>\n",
       "  <tbody>\n",
       "    <tr>\n",
       "      <th>0</th>\n",
       "      <td>NaCl (water)</td>\n",
       "      <td>-1435.501957</td>\n",
       "      <td>217.894579</td>\n",
       "      <td>3.873470</td>\n",
       "      <td>0.705947</td>\n",
       "      <td>2.850731</td>\n",
       "      <td>0.432712</td>\n",
       "    </tr>\n",
       "    <tr>\n",
       "      <th>1</th>\n",
       "      <td>NaCl (NF270)</td>\n",
       "      <td>-2099.094300</td>\n",
       "      <td>472.278838</td>\n",
       "      <td>-3.360272</td>\n",
       "      <td>1.577588</td>\n",
       "      <td>4.168544</td>\n",
       "      <td>0.937888</td>\n",
       "    </tr>\n",
       "    <tr>\n",
       "      <th>2</th>\n",
       "      <td>NaF (NF270)</td>\n",
       "      <td>-2272.007312</td>\n",
       "      <td>562.163004</td>\n",
       "      <td>-3.508355</td>\n",
       "      <td>1.886458</td>\n",
       "      <td>4.511928</td>\n",
       "      <td>1.116387</td>\n",
       "    </tr>\n",
       "    <tr>\n",
       "      <th>3</th>\n",
       "      <td>NaCl (RO)</td>\n",
       "      <td>-2542.017156</td>\n",
       "      <td>675.264938</td>\n",
       "      <td>-3.690275</td>\n",
       "      <td>2.262199</td>\n",
       "      <td>5.048135</td>\n",
       "      <td>1.340993</td>\n",
       "    </tr>\n",
       "  </tbody>\n",
       "</table>\n",
       "</div>"
      ],
      "text/plain": [
       "         system        slope  slope error  intercept  intercept error  \\\n",
       "0  NaCl (water) -1435.501957   217.894579   3.873470         0.705947   \n",
       "1  NaCl (NF270) -2099.094300   472.278838  -3.360272         1.577588   \n",
       "2   NaF (NF270) -2272.007312   562.163004  -3.508355         1.886458   \n",
       "3     NaCl (RO) -2542.017156   675.264938  -3.690275         2.262199   \n",
       "\n",
       "   effective enthalpy     error  \n",
       "0            2.850731  0.432712  \n",
       "1            4.168544  0.937888  \n",
       "2            4.511928  1.116387  \n",
       "3            5.048135  1.340993  "
      ]
     },
     "execution_count": 33,
     "metadata": {},
     "output_type": "execute_result"
    }
   ],
   "source": [
    "# generate the barrier data with error for plotting\n",
    "barriers = pd.DataFrame()\n",
    "barriers['system'] = ['NaCl (water)', 'NaCl (NF270)', 'NaF (NF270)', 'NaCl (RO)']\n",
    "\n",
    "# do the analysis for NaCl in water as well\n",
    "X = sm.add_constant(1/df4['T (K)'])\n",
    "ols = sm.OLS(np.log(df4['Conductivity (uS/cm)'] / df4['T (K)']), X)\n",
    "results = ols.fit()\n",
    "b, m = results.params\n",
    "be, me = results.bse\n",
    "\n",
    "slopes = [m]\n",
    "slope_err = [me]\n",
    "intercepts = [b]\n",
    "intercept_err = [be]\n",
    "dH = [-m*R]\n",
    "dH_err = [me*R]\n",
    "\n",
    "# perform linear regression and save the standard error\n",
    "for tmp in [df1,df2,df3]:\n",
    "    \n",
    "    X = sm.add_constant(1/tmp['T (K)'])\n",
    "    ols = sm.OLS(np.log(tmp['B (m/sec)']), X)\n",
    "    results = ols.fit()\n",
    "    b, m = results.params\n",
    "    be, me = results.bse\n",
    "\n",
    "    slopes.append(m)\n",
    "    slope_err.append(me)\n",
    "    intercepts.append(b)\n",
    "    intercept_err.append(be)\n",
    "    dH.append(-m*R)\n",
    "    dH_err.append(me*R)\n",
    "\n",
    "barriers['slope'] = slopes\n",
    "barriers['slope error'] = slope_err\n",
    "barriers['intercept'] = intercepts\n",
    "barriers['intercept error'] = intercept_err\n",
    "barriers['effective enthalpy'] = dH\n",
    "barriers['error'] = dH_err\n",
    "barriers"
   ]
  },
  {
   "cell_type": "code",
   "execution_count": null,
   "metadata": {},
   "outputs": [],
   "source": [
    "# plot ln(P) vs 1/T, which would correspond to the Arrhenius model\n",
    "systems = ['NaCl (NF270)', 'NaF (NF270)', 'NaCl (RO)']\n",
    "colors = ['tab:blue', 'tab:orange', 'tab:green']\n",
    "\n",
    "fig, ax = plt.subplots(1,2, figsize=(16,6))\n",
    "\n",
    "# plot the TST linear regression plots\n",
    "for sys,c in zip(systems,colors):\n",
    "    tmp = df[df['system'] == sys]\n",
    "\n",
    "    # perform linear regression for plotting\n",
    "    X = sm.add_constant(tmp['1/T'])\n",
    "    ols = sm.OLS(tmp['ln(P)'], X)\n",
    "    res = ols.fit()\n",
    "    b, m = res.params\n",
    "\n",
    "    # plot the linear regression and the data points with error\n",
    "    ax[0].plot(tmp['1/T'], m*tmp['1/T']+b, color=c)\n",
    "    ax[0].scatter(tmp['1/T'], tmp['ln(P)'],\n",
    "                 marker='o', label=sys, lw=0, color=c, s=90)\n",
    "\n",
    "ax[0].set_ylim(-13.25, -9)\n",
    "ax[0].set_ylabel('ln(Permeability (m/s))', fontsize=16)\n",
    "ax[0].set_xlabel('1/T (1/K)', fontsize=16)\n",
    "ax[0].tick_params('x', labelsize=14, labelrotation=45)\n",
    "ax[0].tick_params('y', labelsize=14)\n",
    "ax[0].legend(loc='best', fontsize=16)\n",
    "\n",
    "# plot the barriers errors\n",
    "bar_colors = ['lightgray', 'tab:blue', 'tab:orange', 'tab:green']\n",
    "ax[1].bar(barriers['system'], barriers['effective enthalpy'], yerr=barriers['error'],\n",
    "          color=bar_colors, edgecolor='k', width=0.25, capsize=5)\n",
    "ax[1].set_ylabel('Effective enthalpy (kcal/mol)', fontsize=16)\n",
    "ax[1].tick_params('both', labelsize=14)"
   ]
  },
  {
   "cell_type": "code",
   "execution_count": null,
   "metadata": {},
   "outputs": [],
   "source": []
  }
 ],
 "metadata": {
  "kernelspec": {
   "display_name": "mpipy",
   "language": "python",
   "name": "python3"
  },
  "language_info": {
   "codemirror_mode": {
    "name": "ipython",
    "version": 3
   },
   "file_extension": ".py",
   "mimetype": "text/x-python",
   "name": "python",
   "nbconvert_exporter": "python",
   "pygments_lexer": "ipython3",
   "version": "3.8.17"
  },
  "orig_nbformat": 4
 },
 "nbformat": 4,
 "nbformat_minor": 2
}
