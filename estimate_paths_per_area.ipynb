{
 "cells": [
  {
   "cell_type": "code",
   "execution_count": 1,
   "metadata": {},
   "outputs": [],
   "source": [
    "import numpy as np"
   ]
  },
  {
   "cell_type": "code",
   "execution_count": 10,
   "metadata": {},
   "outputs": [],
   "source": [
    "R = 1.9858775 * 10**-3     # universal gas (kcal / mol K)"
   ]
  },
  {
   "cell_type": "code",
   "execution_count": 2,
   "metadata": {},
   "outputs": [
    {
     "name": "stdout",
     "output_type": "stream",
     "text": [
      "0.0431 : ratio of actual/theoretical CNT packing density\n"
     ]
    }
   ],
   "source": [
    "# from https://doi.org/10.1002/advs.202001670 for SWCNTs with average diameter 1.7 nm\n",
    "\n",
    "cnt_diameter = 1.7 # nm\n",
    "act_cnt_pack_density = 1.9*10**12 # paths/cm^2\n",
    "theor_cnt_pack_density = 1 / np.pi / (cnt_diameter/2)**2 # paths/nm^2\n",
    "theor_cnt_pack_density *= (10**9 / 10**2)**2 # paths/cm^2\n",
    "\n",
    "act_theor_ratio = act_cnt_pack_density / theor_cnt_pack_density\n",
    "print(f'{act_theor_ratio:.4f} : ratio of actual/theoretical CNT packing density')"
   ]
  },
  {
   "cell_type": "code",
   "execution_count": 3,
   "metadata": {},
   "outputs": [
    {
     "name": "stdout",
     "output_type": "stream",
     "text": [
      "0.2196 paths/nm^2 : actual CNT packing density for CNTs with diameter 0.5 nm\n"
     ]
    }
   ],
   "source": [
    "# calculate theoretical packing density for 0.5 nm diameter CNT and scale for actual packing\n",
    "\n",
    "cnt_diameter = 0.5 # nm\n",
    "theor_cnt_pack_density = 1 / np.pi / (cnt_diameter/2)**2 # paths/nm^2\n",
    "theor_cnt_pack_density *= (10**9 / 10**2)**2 # paths/cm^2\n",
    "\n",
    "act_cnt_pack_density = theor_cnt_pack_density * act_theor_ratio # paths/cm^2\n",
    "act_cnt_pack_density *= (10**2 / 10**9)**2 # paths/nm^2\n",
    "print(f'{act_cnt_pack_density:.4f} paths/nm^2 : actual CNT packing density for CNTs with diameter 0.5 nm')"
   ]
  },
  {
   "cell_type": "code",
   "execution_count": 4,
   "metadata": {},
   "outputs": [
    {
     "name": "stdout",
     "output_type": "stream",
     "text": [
      "0.0220 paths/nm^2 : calculated actual PA packing density for pores with diameter 0.5 nm\n"
     ]
    }
   ],
   "source": [
    "# assume an order of magnitude worse packing density for PA membrane with pore diameter 0.5 nm\n",
    "\n",
    "act_PA_pack_density = act_cnt_pack_density / 10\n",
    "print(f'{act_PA_pack_density:.4f} paths/nm^2 : calculated actual PA packing density for pores with diameter 0.5 nm')"
   ]
  },
  {
   "cell_type": "code",
   "execution_count": 5,
   "metadata": {},
   "outputs": [
    {
     "name": "stdout",
     "output_type": "stream",
     "text": [
      "2196 : number of paths in 100,000.00 nm^2\n"
     ]
    }
   ],
   "source": [
    "# let unit area be 0.1 micrometer squared\n",
    "\n",
    "unit_area = 0.1 * (10**9 / 10**6)**2 # um^2 to nm^2\n",
    "n_paths = round(act_PA_pack_density*unit_area)\n",
    "print(f'{n_paths} : number of paths in {unit_area:,.2f} nm^2')"
   ]
  },
  {
   "cell_type": "code",
   "execution_count": 7,
   "metadata": {},
   "outputs": [
    {
     "name": "stdout",
     "output_type": "stream",
     "text": [
      "19.6350 Angstroms^2 : area for a single path\n"
     ]
    }
   ],
   "source": [
    "# calculate area of one path (Angstroms^2)\n",
    "\n",
    "A_i = np.pi*2.5**2\n",
    "print(f'{A_i:.4f} Angstroms^2 : area for a single path')"
   ]
  },
  {
   "cell_type": "code",
   "execution_count": 11,
   "metadata": {},
   "outputs": [
    {
     "data": {
      "text/plain": [
       "3.300458010697792"
      ]
     },
     "execution_count": 11,
     "metadata": {},
     "output_type": "execute_result"
    }
   ],
   "source": [
    "-R*300*np.log(2000*A_i/1e7)"
   ]
  },
  {
   "cell_type": "code",
   "execution_count": null,
   "metadata": {},
   "outputs": [],
   "source": []
  }
 ],
 "metadata": {
  "kernelspec": {
   "display_name": "base",
   "language": "python",
   "name": "python3"
  },
  "language_info": {
   "codemirror_mode": {
    "name": "ipython",
    "version": 3
   },
   "file_extension": ".py",
   "mimetype": "text/x-python",
   "name": "python",
   "nbconvert_exporter": "python",
   "pygments_lexer": "ipython3",
   "version": "3.8.13"
  },
  "orig_nbformat": 4
 },
 "nbformat": 4,
 "nbformat_minor": 2
}
