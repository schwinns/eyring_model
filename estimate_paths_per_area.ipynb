{
 "cells": [
  {
   "cell_type": "code",
   "execution_count": 1,
   "metadata": {},
   "outputs": [],
   "source": [
    "import numpy as np\n",
    "import matplotlib.pyplot as plt"
   ]
  },
  {
   "cell_type": "code",
   "execution_count": 2,
   "metadata": {},
   "outputs": [],
   "source": [
    "R = 1.9858775 * 10**-3     # universal gas (kcal / mol K)"
   ]
  },
  {
   "cell_type": "code",
   "execution_count": 3,
   "metadata": {},
   "outputs": [
    {
     "name": "stdout",
     "output_type": "stream",
     "text": [
      "0.0431 : ratio of actual/theoretical CNT packing density\n"
     ]
    }
   ],
   "source": [
    "# from https://doi.org/10.1002/advs.202001670 for SWCNTs with average diameter 1.7 nm\n",
    "\n",
    "cnt_diameter = 1.7 # nm\n",
    "act_cnt_pack_density = 1.9*10**12 # paths/cm^2\n",
    "theor_cnt_pack_density = 1 / np.pi / (cnt_diameter/2)**2 # paths/nm^2\n",
    "theor_cnt_pack_density *= (10**9 / 10**2)**2 # paths/cm^2\n",
    "\n",
    "act_theor_ratio = act_cnt_pack_density / theor_cnt_pack_density\n",
    "print(f'{act_theor_ratio:.4f} : ratio of actual/theoretical CNT packing density')"
   ]
  },
  {
   "cell_type": "code",
   "execution_count": 5,
   "metadata": {},
   "outputs": [
    {
     "name": "stdout",
     "output_type": "stream",
     "text": [
      "2.1964e+13 paths/cm^2\n",
      "0.2196 paths/nm^2 : actual CNT packing density for CNTs with diameter 0.5 nm\n"
     ]
    }
   ],
   "source": [
    "# calculate theoretical packing density for 0.5 nm diameter CNT and scale for actual packing\n",
    "\n",
    "cnt_diameter = 0.5 # nm\n",
    "theor_cnt_pack_density = 1 / np.pi / (cnt_diameter/2)**2 # paths/nm^2\n",
    "theor_cnt_pack_density *= (10**9 / 10**2)**2 # paths/cm^2\n",
    "\n",
    "act_cnt_pack_density = theor_cnt_pack_density * act_theor_ratio # paths/cm^2\n",
    "print(f'{act_cnt_pack_density:.4e} paths/cm^2')\n",
    "act_cnt_pack_density *= (10**2 / 10**9)**2 # paths/nm^2\n",
    "print(f'{act_cnt_pack_density:.4f} paths/nm^2 : actual CNT packing density for CNTs with diameter 0.5 nm')"
   ]
  },
  {
   "cell_type": "code",
   "execution_count": 6,
   "metadata": {},
   "outputs": [
    {
     "name": "stdout",
     "output_type": "stream",
     "text": [
      "0.0220 paths/nm^2 : calculated actual PA packing density for pores with diameter 0.5 nm\n"
     ]
    }
   ],
   "source": [
    "# assume an order of magnitude worse packing density for PA membrane with pore diameter 0.5 nm\n",
    "\n",
    "act_PA_pack_density = act_cnt_pack_density / 10\n",
    "print(f'{act_PA_pack_density:.4f} paths/nm^2 : calculated actual PA packing density for pores with diameter 0.5 nm')"
   ]
  },
  {
   "cell_type": "code",
   "execution_count": 8,
   "metadata": {},
   "outputs": [
    {
     "name": "stdout",
     "output_type": "stream",
     "text": [
      "2196 : number of paths in 100,000.00 nm^2\n"
     ]
    }
   ],
   "source": [
    "# let unit area be 0.1 micrometer squared\n",
    "\n",
    "unit_area = 0.1 * (10**9 / 10**6)**2 # um^2 to nm^2\n",
    "n_paths = round(act_PA_pack_density*unit_area)\n",
    "print(f'{n_paths} : number of paths in {unit_area:,.2f} nm^2')"
   ]
  },
  {
   "cell_type": "code",
   "execution_count": 9,
   "metadata": {},
   "outputs": [
    {
     "name": "stdout",
     "output_type": "stream",
     "text": [
      "19.6350 Angstroms^2 : area for a single path\n",
      "\n",
      "39269.9082 Angstroms^2 : total available area for transport\n",
      "\n",
      "1.0000e+07 Angstroms^2 : total membrane area\n",
      "\n",
      "0.003926990816987242 Angstroms^2 : available fraction of total area\n"
     ]
    }
   ],
   "source": [
    "# calculate area of one path (Angstroms^2)\n",
    "\n",
    "A_i = np.pi*2.5**2\n",
    "print(f'{A_i:.4f} Angstroms^2 : area for a single path')\n",
    "\n",
    "print(f'\\n{A_i*2000:.4f} Angstroms^2 : total available area for transport')\n",
    "\n",
    "print(f'\\n{unit_area * (10 / 1)**2:.4e} Angstroms^2 : total membrane area')\n",
    "\n",
    "print(f'\\n{A_i*2000 / (unit_area * (10 / 1)**2)} Angstroms^2 : available fraction of total area')"
   ]
  },
  {
   "cell_type": "code",
   "execution_count": 23,
   "metadata": {},
   "outputs": [
    {
     "name": "stdout",
     "output_type": "stream",
     "text": [
      "Entropic shift for 2000 paths : 3.3005 kcal/mol/K\n"
     ]
    }
   ],
   "source": [
    "# calculate the entropic shift for 2000 paths of equal area A_i across 1e7 Angstroms^2 total area\n",
    "\n",
    "n_paths_list = np.arange(1, 2001, 1)\n",
    "dS = np.zeros(len(n_paths_list))\n",
    "for i,n in enumerate(n_paths_list):\n",
    "    dS[i] = -R*300*np.log(n*A_i/(unit_area * (10 / 1)**2))\n",
    "\n",
    "print(f'Entropic shift for {n_paths_list[-1]} paths : {dS[-1]:.4f} kcal/mol/K')"
   ]
  },
  {
   "cell_type": "code",
   "execution_count": 26,
   "metadata": {},
   "outputs": [
    {
     "data": {
      "image/png": "[encoded data removed]",
      "text/plain": [
       "<Figure size 640x480 with 1 Axes>"
      ]
     },
     "metadata": {},
     "output_type": "display_data"
    }
   ],
   "source": [
    "plt.plot(n_paths_list, dS)\n",
    "plt.xlabel('number of paths')\n",
    "plt.ylabel('$-RT \\ln{\\sum_i^n A_i / A}$')\n",
    "plt.title(f'Entropic shift for paths with equal area {A_i:.4f} $\\AA^2$ and total membrane area {unit_area * (10 / 1)**2:,.0f} $\\AA^2$')\n",
    "plt.savefig('figs/entropic_shift.png')"
   ]
  },
  {
   "cell_type": "code",
   "execution_count": null,
   "metadata": {},
   "outputs": [],
   "source": []
  }
 ],
 "metadata": {
  "kernelspec": {
   "display_name": "base",
   "language": "python",
   "name": "python3"
  },
  "language_info": {
   "codemirror_mode": {
    "name": "ipython",
    "version": 3
   },
   "file_extension": ".py",
   "mimetype": "text/x-python",
   "name": "python",
   "nbconvert_exporter": "python",
   "pygments_lexer": "ipython3",
   "version": "3.8.13"
  },
  "orig_nbformat": 4
 },
 "nbformat": 4,
 "nbformat_minor": 2
}
