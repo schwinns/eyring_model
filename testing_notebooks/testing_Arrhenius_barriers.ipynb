{
 "cells": [
  {
   "cell_type": "code",
   "execution_count": 6,
   "metadata": {},
   "outputs": [],
   "source": [
    "from eyring_model import *\n",
    "import numpy as np\n",
    "import matplotlib.pyplot as plt\n",
    "from tqdm import tqdm\n",
    "import statsmodels.api as sm\n",
    "import pandas as pd\n",
    "import seaborn as sns\n",
    "\n",
    "# some constants\n",
    "kB = 1.380649 * 10**-23    # Boltzmann (m^2 kg / s^2 K)\n",
    "h = 6.62607 * 10**-34      # Planck (m^2 kg / s)\n",
    "R = 1.9858775 * 10**-3     # universal gas (kcal / mol K)"
   ]
  },
  {
   "cell_type": "code",
   "execution_count": 7,
   "metadata": {},
   "outputs": [],
   "source": [
    "# input parameters\n",
    "avg_T = 300\n",
    "dH_barrier = 3.5\n",
    "dS_barrier = -9/avg_T\n",
    "dH_sigma = dH_barrier/3\n",
    "dS_sigma = -dS_barrier/3\n",
    "n_paths = 22000\n",
    "area = 1e8\n",
    "lam = 10\n",
    "n_jumps = 200\n",
    "delta = lam*n_jumps"
   ]
  },
  {
   "cell_type": "code",
   "execution_count": 8,
   "metadata": {},
   "outputs": [],
   "source": [
    "# initialize arrays\n",
    "T = np.array([250, 260, 270, 280, 290, 300, 310, 320, 330, 340, 350])\n",
    "P_norm = np.zeros(len(T))\n",
    "P_exp = np.zeros(len(T))"
   ]
  },
  {
   "cell_type": "code",
   "execution_count": 9,
   "metadata": {},
   "outputs": [
    {
     "name": "stderr",
     "output_type": "stream",
     "text": [
      "0it [00:00, ?it/s]"
     ]
    },
    {
     "name": "stderr",
     "output_type": "stream",
     "text": [
      "11it [01:11,  6.47s/it]\n"
     ]
    }
   ],
   "source": [
    "# run Eyring model for each temperature with normally distributed barriers\n",
    "dist = 'norm'\n",
    "params = {'mu' : np.array([dH_barrier, dS_barrier]),\n",
    "          'cov': np.array([[dH_sigma**2, 0],\n",
    "                           [0, dS_sigma**2]])}\n",
    "\n",
    "\n",
    "for i, temp in tqdm(enumerate(T)):\n",
    "    model = EyringModel(T=temp, A=area)\n",
    "    for n in range(n_paths):\n",
    "        model.add_Path(n_jumps=n_jumps, lam=lam)\n",
    "        model.paths[n].generate_membrane_barriers(dist=dist, multi=True, dist_params=params)\n",
    "        \n",
    "    P_norm[i] = model.calculate_permeability() / 60 / 60 / 1000 * 10**9 * 10"
   ]
  },
  {
   "cell_type": "code",
   "execution_count": 10,
   "metadata": {},
   "outputs": [
    {
     "name": "stdout",
     "output_type": "stream",
     "text": [
      "ln(P) vs 1/T:\n",
      "Arrhenius barrier to permeability, Ea: 5.01 +/- 0.02 kcal/mol\n",
      "Arrhenius prefactor, ln(A): -0.43 +/- 0.04 A/s\n",
      "Prediction for 305 K: -8.70\n"
     ]
    }
   ],
   "source": [
    "# perform linear fit of ln(P) vs 1/T\n",
    "X = sm.add_constant(1/T)\n",
    "ols1 = sm.OLS(np.log(P_norm), X)\n",
    "results1 = ols1.fit()\n",
    "b, m = results1.params\n",
    "be, me = results1.bse\n",
    "\n",
    "print('ln(P) vs 1/T:')\n",
    "print(f'Arrhenius barrier to permeability, Ea: {-m*R:.2f} +/- {me*R:.2f} kcal/mol')\n",
    "print(f'Arrhenius prefactor, ln(A): {b:.2f} +/- {be:.2f} A/s')\n",
    "print(f'Prediction for 305 K: {m*(1/305) + b:.2f}')"
   ]
  },
  {
   "cell_type": "code",
   "execution_count": 11,
   "metadata": {},
   "outputs": [
    {
     "name": "stdout",
     "output_type": "stream",
     "text": [
      "ln(P/T) vs 1/T:\n",
      "Arrhenius barrier to permeability, Ea: 4.42 +/- 0.03 kcal/mol\n",
      "Arrhenius prefactor, ln(A): -7.13 +/- 0.05 A/s\n",
      "Prediction for 305 K: -14.43\n"
     ]
    }
   ],
   "source": [
    "# perform linear fit of ln(P/T) vs 1/T\n",
    "X = sm.add_constant(1/T)\n",
    "ols2 = sm.OLS(np.log(P_norm/T), X)\n",
    "results2 = ols2.fit()\n",
    "b, m = results2.params\n",
    "be, me = results2.bse\n",
    "\n",
    "print('ln(P/T) vs 1/T:')\n",
    "print(f'Arrhenius barrier to permeability, Ea: {-m*R:.2f} +/- {me*R:.2f} kcal/mol')\n",
    "print(f'Arrhenius prefactor, ln(A): {b:.2f} +/- {be:.2f} A/s')\n",
    "print(f'Prediction for 305 K: {m*(1/305) + b:.2f}')"
   ]
  },
  {
   "cell_type": "code",
   "execution_count": 12,
   "metadata": {},
   "outputs": [
    {
     "name": "stdout",
     "output_type": "stream",
     "text": [
      "ln(P*delta*h/lam^2*kB*T) vs 1/T:\n",
      "Arrhenius barrier to permeability, Ea: 4.42 +/- 0.03 kcal/mol\n",
      "Arrhenius prefactor, ln(A): -27.89 +/- 0.05 A/s\n",
      "Prediction for 305 K: -35.19\n"
     ]
    }
   ],
   "source": [
    "# perform linear fit of ln(P*delta*h/lam^2*kB*T) vs 1/T\n",
    "X = sm.add_constant(1/T)\n",
    "ols3 = sm.OLS(np.log(P_norm*delta*h/lam**2/kB/T), X)\n",
    "results3 = ols3.fit()\n",
    "b, m = results3.params\n",
    "be, me = results3.bse\n",
    "\n",
    "print('ln(P*delta*h/lam^2*kB*T) vs 1/T:')\n",
    "print(f'Arrhenius barrier to permeability, Ea: {-m*R:.2f} +/- {me*R:.2f} kcal/mol')\n",
    "print(f'Arrhenius prefactor, ln(A): {b:.2f} +/- {be:.2f} A/s')\n",
    "print(f'Prediction for 305 K: {m*(1/305) + b:.2f}')"
   ]
  },
  {
   "cell_type": "code",
   "execution_count": 13,
   "metadata": {},
   "outputs": [
    {
     "data": {
      "image/png": "[encoded data removed]",
      "text/plain": [
       "<Figure size 640x480 with 1 Axes>"
      ]
     },
     "metadata": {},
     "output_type": "display_data"
    }
   ],
   "source": [
    "# plot linear fits\n",
    "df = pd.DataFrame()\n",
    "df['1/T'] = 1/T\n",
    "df['ln(P)'] = np.log(P_norm)\n",
    "df['ln(P/T)'] = np.log(P_norm/T)\n",
    "df['ln(CP/T)'] = np.log(P_norm*delta*h/lam**2/kB/T)\n",
    "\n",
    "fig, ax = plt.subplots(1,1)\n",
    "sns.regplot(x='1/T', y='ln(P)', data=df, ax=ax, label='ln(P)')\n",
    "sns.regplot(x='1/T', y='ln(P/T)', data=df, ax=ax, label='ln(P/T)')\n",
    "sns.regplot(x='1/T', y='ln(CP/T)', data=df, ax=ax, label='ln(C*P/T)')\n",
    "\n",
    "plt.ylabel('Y')\n",
    "plt.legend();"
   ]
  },
  {
   "cell_type": "code",
   "execution_count": 14,
   "metadata": {},
   "outputs": [
    {
     "name": "stderr",
     "output_type": "stream",
     "text": [
      "11it [00:39,  3.60s/it]\n"
     ]
    }
   ],
   "source": [
    "# run Eyring model for each temperature with exponentially distributed barriers\n",
    "dist = 'exp'\n",
    "params = {'beta'  : np.array([dH_barrier, dS_barrier])}\n",
    "\n",
    "for i, temp in tqdm(enumerate(T)):\n",
    "    model = EyringModel(T=temp, A=area)\n",
    "    for n in range(n_paths):\n",
    "        model.add_Path(n_jumps=n_jumps, lam=lam)\n",
    "        model.paths[n].generate_membrane_barriers(dist=dist, multi=True, dist_params=params)\n",
    "        \n",
    "    P_exp[i] = model.calculate_permeability() / 60 / 60 / 1000 * 10**9 * 10"
   ]
  },
  {
   "cell_type": "code",
   "execution_count": 15,
   "metadata": {},
   "outputs": [
    {
     "name": "stdout",
     "output_type": "stream",
     "text": [
      "ln(P) vs 1/T:\n",
      "Arrhenius barrier to permeability, Ea: 4.45 +/- 3.21 kcal/mol\n",
      "Arrhenius prefactor, ln(A): -28.15 +/- 5.49 A/s\n",
      "Prediction for 305 K: -35.50\n"
     ]
    }
   ],
   "source": [
    "# perform linear fit of ln(P) vs 1/T\n",
    "X = sm.add_constant(1/T)\n",
    "ols1 = sm.OLS(np.log(P_exp), X)\n",
    "results1 = ols1.fit()\n",
    "b, m = results1.params\n",
    "be, me = results1.bse\n",
    "\n",
    "print('ln(P) vs 1/T:')\n",
    "print(f'Arrhenius barrier to permeability, Ea: {-m*R:.2f} +/- {me*R:.2f} kcal/mol')\n",
    "print(f'Arrhenius prefactor, ln(A): {b:.2f} +/- {be:.2f} A/s')\n",
    "print(f'Prediction for 305 K: {m*(1/305) + b:.2f}')"
   ]
  },
  {
   "cell_type": "code",
   "execution_count": 16,
   "metadata": {},
   "outputs": [
    {
     "name": "stdout",
     "output_type": "stream",
     "text": [
      "ln(P/T) vs 1/T:\n",
      "Arrhenius barrier to permeability, Ea: 3.87 +/- 3.22 kcal/mol\n",
      "Arrhenius prefactor, ln(A): -34.84 +/- 5.49 A/s\n",
      "Prediction for 305 K: -41.22\n"
     ]
    }
   ],
   "source": [
    "# perform linear fit of ln(P/T) vs 1/T\n",
    "X = sm.add_constant(1/T)\n",
    "ols2 = sm.OLS(np.log(P_exp/T), X)\n",
    "results2 = ols2.fit()\n",
    "b, m = results2.params\n",
    "be, me = results2.bse\n",
    "\n",
    "print('ln(P/T) vs 1/T:')\n",
    "print(f'Arrhenius barrier to permeability, Ea: {-m*R:.2f} +/- {me*R:.2f} kcal/mol')\n",
    "print(f'Arrhenius prefactor, ln(A): {b:.2f} +/- {be:.2f} A/s')\n",
    "print(f'Prediction for 305 K: {m*(1/305) + b:.2f}')"
   ]
  },
  {
   "cell_type": "code",
   "execution_count": 17,
   "metadata": {},
   "outputs": [
    {
     "name": "stdout",
     "output_type": "stream",
     "text": [
      "ln(P*delta*h/lam^2*kB*T) vs 1/T:\n",
      "Arrhenius barrier to permeability, Ea: 3.87 +/- 3.22 kcal/mol\n",
      "Arrhenius prefactor, ln(A): -55.60 +/- 5.49 A/s\n",
      "Prediction for 305 K: -61.99\n"
     ]
    }
   ],
   "source": [
    "# perform linear fit of ln(P*delta*h/lam^2*kB*T) vs 1/T\n",
    "X = sm.add_constant(1/T)\n",
    "ols3 = sm.OLS(np.log(P_exp*delta*h/lam**2/kB/T), X)\n",
    "results3 = ols3.fit()\n",
    "b, m = results3.params\n",
    "be, me = results3.bse\n",
    "\n",
    "print('ln(P*delta*h/lam^2*kB*T) vs 1/T:')\n",
    "print(f'Arrhenius barrier to permeability, Ea: {-m*R:.2f} +/- {me*R:.2f} kcal/mol')\n",
    "print(f'Arrhenius prefactor, ln(A): {b:.2f} +/- {be:.2f} A/s')\n",
    "print(f'Prediction for 305 K: {m*(1/305) + b:.2f}')"
   ]
  },
  {
   "cell_type": "code",
   "execution_count": 18,
   "metadata": {},
   "outputs": [
    {
     "data": {
      "image/png": "[encoded data removed]",
      "text/plain": [
       "<Figure size 640x480 with 1 Axes>"
      ]
     },
     "metadata": {},
     "output_type": "display_data"
    }
   ],
   "source": [
    "# plot linear fits\n",
    "df = pd.DataFrame()\n",
    "df['1/T'] = 1/T\n",
    "df['ln(P)'] = np.log(P_exp)\n",
    "df['ln(P/T)'] = np.log(P_exp/T)\n",
    "df['ln(CP/T)'] = np.log(P_exp*delta*h/lam**2/kB/T)\n",
    "\n",
    "fig, ax = plt.subplots(1,1)\n",
    "sns.regplot(x='1/T', y='ln(P)', data=df, ax=ax, label='ln(P)')\n",
    "sns.regplot(x='1/T', y='ln(P/T)', data=df, ax=ax, label='ln(P/T)')\n",
    "sns.regplot(x='1/T', y='ln(CP/T)', data=df, ax=ax, label='ln(C*P/T)')\n",
    "\n",
    "plt.ylabel('Y')\n",
    "plt.legend();"
   ]
  },
  {
   "cell_type": "code",
   "execution_count": 32,
   "metadata": {},
   "outputs": [],
   "source": [
    "# now the same analysis for the experimental data\n",
    "df = pd.read_excel('../P_vs_T_results.xlsx')\n",
    "df = df[df['system'] == 'NaCl (NF270)']\n",
    "T = df['T (K)']\n",
    "P_experiment = df['B (m/sec)']"
   ]
  },
  {
   "cell_type": "code",
   "execution_count": 38,
   "metadata": {},
   "outputs": [
    {
     "name": "stdout",
     "output_type": "stream",
     "text": [
      "ln(P) vs 1/T:\n",
      "Arrhenius barrier to permeability, Ea: 4.02 +/- 0.76 kcal/mol\n",
      "Arrhenius prefactor, ln(A): -3.59 +/- 1.28 A/s\n",
      "Prediction for 305 K: -10.24\n",
      "                            OLS Regression Results                            \n",
      "==============================================================================\n",
      "Dep. Variable:              B (m/sec)   R-squared:                       0.637\n",
      "Model:                            OLS   Adj. R-squared:                  0.614\n",
      "Method:                 Least Squares   F-statistic:                     28.03\n",
      "Date:                Fri, 20 Oct 2023   Prob (F-statistic):           7.27e-05\n",
      "Time:                        14:03:50   Log-Likelihood:                 5.9381\n",
      "No. Observations:                  18   AIC:                            -7.876\n",
      "Df Residuals:                      16   BIC:                            -6.096\n",
      "Df Model:                           1                                         \n",
      "Covariance Type:            nonrobust                                         \n",
      "==============================================================================\n",
      "                 coef    std err          t      P>|t|      [0.025      0.975]\n",
      "------------------------------------------------------------------------------\n",
      "const         -3.5941      1.285     -2.797      0.013      -6.318      -0.870\n",
      "T (K)      -2026.3362    382.741     -5.294      0.000   -2837.710   -1214.962\n",
      "==============================================================================\n",
      "Omnibus:                        3.383   Durbin-Watson:                   0.491\n",
      "Prob(Omnibus):                  0.184   Jarque-Bera (JB):                1.427\n",
      "Skew:                          -0.279   Prob(JB):                        0.490\n",
      "Kurtosis:                       1.738   Cond. No.                     8.80e+03\n",
      "==============================================================================\n",
      "\n",
      "Notes:\n",
      "[1] Standard Errors assume that the covariance matrix of the errors is correctly specified.\n",
      "[2] The condition number is large, 8.8e+03. This might indicate that there are\n",
      "strong multicollinearity or other numerical problems.\n"
     ]
    },
    {
     "name": "stderr",
     "output_type": "stream",
     "text": [
      "/Users/nate_schwindt/anaconda3/envs/mpipy/lib/python3.8/site-packages/scipy/stats/_stats_py.py:1736: UserWarning: kurtosistest only valid for n>=20 ... continuing anyway, n=18\n",
      "  warnings.warn(\"kurtosistest only valid for n>=20 ... continuing \"\n"
     ]
    }
   ],
   "source": [
    "# perform linear fit of ln(P) vs 1/T\n",
    "X = sm.add_constant(1/T)\n",
    "ols1 = sm.OLS(np.log(P_experiment), X)\n",
    "results1 = ols1.fit()\n",
    "b, m = results1.params\n",
    "be, me = results1.bse\n",
    "\n",
    "print('ln(P) vs 1/T:')\n",
    "print(f'Arrhenius barrier to permeability, Ea: {-m*R:.2f} +/- {me*R:.2f} kcal/mol')\n",
    "print(f'Arrhenius prefactor, ln(A): {b:.2f} +/- {be:.2f} A/s')\n",
    "print(f'Prediction for 305 K: {m*(1/305) + b:.2f}')\n",
    "\n",
    "print(results1.summary())"
   ]
  },
  {
   "cell_type": "code",
   "execution_count": 39,
   "metadata": {},
   "outputs": [
    {
     "name": "stdout",
     "output_type": "stream",
     "text": [
      "ln(P/T) vs 1/T:\n",
      "Arrhenius barrier to permeability, Ea: 3.43 +/- 0.76 kcal/mol\n",
      "Arrhenius prefactor, ln(A): -10.29 +/- 1.29 A/s\n",
      "Prediction for 305 K: -15.96\n",
      "                            OLS Regression Results                            \n",
      "==============================================================================\n",
      "Dep. Variable:                      y   R-squared:                       0.560\n",
      "Model:                            OLS   Adj. R-squared:                  0.533\n",
      "Method:                 Least Squares   F-statistic:                     20.37\n",
      "Date:                Fri, 20 Oct 2023   Prob (F-statistic):           0.000354\n",
      "Time:                        14:04:40   Log-Likelihood:                 5.9331\n",
      "No. Observations:                  18   AIC:                            -7.866\n",
      "Df Residuals:                      16   BIC:                            -6.085\n",
      "Df Model:                           1                                         \n",
      "Covariance Type:            nonrobust                                         \n",
      "==============================================================================\n",
      "                 coef    std err          t      P>|t|      [0.025      0.975]\n",
      "------------------------------------------------------------------------------\n",
      "const        -10.2930      1.285     -8.009      0.000     -13.017      -7.568\n",
      "T (K)      -1727.9912    382.847     -4.514      0.000   -2539.592    -916.391\n",
      "==============================================================================\n",
      "Omnibus:                        3.362   Durbin-Watson:                   0.492\n",
      "Prob(Omnibus):                  0.186   Jarque-Bera (JB):                1.423\n",
      "Skew:                          -0.279   Prob(JB):                        0.491\n",
      "Kurtosis:                       1.740   Cond. No.                     8.80e+03\n",
      "==============================================================================\n",
      "\n",
      "Notes:\n",
      "[1] Standard Errors assume that the covariance matrix of the errors is correctly specified.\n",
      "[2] The condition number is large, 8.8e+03. This might indicate that there are\n",
      "strong multicollinearity or other numerical problems.\n"
     ]
    },
    {
     "name": "stderr",
     "output_type": "stream",
     "text": [
      "/Users/nate_schwindt/anaconda3/envs/mpipy/lib/python3.8/site-packages/scipy/stats/_stats_py.py:1736: UserWarning: kurtosistest only valid for n>=20 ... continuing anyway, n=18\n",
      "  warnings.warn(\"kurtosistest only valid for n>=20 ... continuing \"\n"
     ]
    }
   ],
   "source": [
    "# perform linear fit of ln(P/T) vs 1/T\n",
    "X = sm.add_constant(1/T)\n",
    "ols2 = sm.OLS(np.log(P_experiment/T), X)\n",
    "results2 = ols2.fit()\n",
    "b, m = results2.params\n",
    "be, me = results2.bse\n",
    "\n",
    "print('ln(P/T) vs 1/T:')\n",
    "print(f'Arrhenius barrier to permeability, Ea: {-m*R:.2f} +/- {me*R:.2f} kcal/mol')\n",
    "print(f'Arrhenius prefactor, ln(A): {b:.2f} +/- {be:.2f} A/s')\n",
    "print(f'Prediction for 305 K: {m*(1/305) + b:.2f}')\n",
    "\n",
    "print(results2.summary())"
   ]
  },
  {
   "cell_type": "code",
   "execution_count": 36,
   "metadata": {},
   "outputs": [
    {
     "name": "stdout",
     "output_type": "stream",
     "text": [
      "ln(P*delta*h/lam^2*kB*T) vs 1/T:\n",
      "Arrhenius barrier to permeability, Ea: 3.43 +/- 0.76 kcal/mol\n",
      "Arrhenius prefactor, ln(A): -31.06 +/- 1.29 A/s\n",
      "Prediction for 305 K: -36.72\n"
     ]
    }
   ],
   "source": [
    "# perform linear fit of ln(P*delta*h/lam^2*kB*T) vs 1/T\n",
    "X = sm.add_constant(1/T)\n",
    "ols3 = sm.OLS(np.log(P_experiment*delta*h/lam**2/kB/T), X)\n",
    "results3 = ols3.fit()\n",
    "b, m = results3.params\n",
    "be, me = results3.bse\n",
    "\n",
    "print('ln(P*delta*h/lam^2*kB*T) vs 1/T:')\n",
    "print(f'Arrhenius barrier to permeability, Ea: {-m*R:.2f} +/- {me*R:.2f} kcal/mol')\n",
    "print(f'Arrhenius prefactor, ln(A): {b:.2f} +/- {be:.2f} A/s')\n",
    "print(f'Prediction for 305 K: {m*(1/305) + b:.2f}')"
   ]
  },
  {
   "cell_type": "code",
   "execution_count": 37,
   "metadata": {},
   "outputs": [
    {
     "data": {
      "image/png": "[encoded data removed]",
      "text/plain": [
       "<Figure size 640x480 with 1 Axes>"
      ]
     },
     "metadata": {},
     "output_type": "display_data"
    }
   ],
   "source": [
    "# plot the linear fits\n",
    "df['1/T'] = 1/df['T (K)']\n",
    "df['ln(P)'] = np.log(P_experiment)\n",
    "df['ln(P/T)'] = np.log(P_experiment/T)\n",
    "df['ln(CP/T)'] = np.log(P_experiment*delta*h/lam**2/kB/T)\n",
    "\n",
    "fig, ax = plt.subplots(1,1)\n",
    "sns.regplot(x='1/T', y='ln(P)', data=df, ax=ax, label='ln(P)', ci=95)\n",
    "sns.regplot(x='1/T', y='ln(P/T)', data=df, ax=ax, label='ln(P/T)', ci=95)\n",
    "# sns.regplot(x='1/T', y='ln(CP/T)', data=df, ax=ax, label='ln(C*P/T)')\n",
    "\n",
    "plt.ylabel('Y')\n",
    "plt.legend();"
   ]
  },
  {
   "cell_type": "code",
   "execution_count": 48,
   "metadata": {},
   "outputs": [
    {
     "name": "stdout",
     "output_type": "stream",
     "text": [
      "Sum of squared residuals for ln(P) vs 1/T: 0.5448210209390335\n",
      "Sum of squared residuals for ln(P/T) vs 1/T: 0.5451251527821924\n"
     ]
    }
   ],
   "source": [
    "print(f'Sum of squared residuals for ln(P) vs 1/T: {results1.ssr}')\n",
    "print(f'Sum of squared residuals for ln(P/T) vs 1/T: {results2.ssr}')"
   ]
  },
  {
   "cell_type": "code",
   "execution_count": null,
   "metadata": {},
   "outputs": [],
   "source": []
  }
 ],
 "metadata": {
  "kernelspec": {
   "display_name": "mpipy",
   "language": "python",
   "name": "python3"
  },
  "language_info": {
   "codemirror_mode": {
    "name": "ipython",
    "version": 3
   },
   "file_extension": ".py",
   "mimetype": "text/x-python",
   "name": "python",
   "nbconvert_exporter": "python",
   "pygments_lexer": "ipython3",
   "version": "3.8.17"
  },
  "orig_nbformat": 4
 },
 "nbformat": 4,
 "nbformat_minor": 2
}
