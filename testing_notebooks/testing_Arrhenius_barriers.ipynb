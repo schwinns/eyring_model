{
 "cells": [
  {
   "cell_type": "code",
   "execution_count": 1,
   "metadata": {},
   "outputs": [],
   "source": [
    "from eyring_model import *\n",
    "import numpy as np\n",
    "import matplotlib.pyplot as plt\n",
    "from tqdm import tqdm\n",
    "import statsmodels.api as sm\n",
    "import pandas as pd\n",
    "import seaborn as sns\n",
    "\n",
    "# some constants\n",
    "kB = 1.380649 * 10**-23    # Boltzmann (m^2 kg / s^2 K)\n",
    "h = 6.62607 * 10**-34      # Planck (m^2 kg / s)\n",
    "R = 1.9858775 * 10**-3     # universal gas (kcal / mol K)"
   ]
  },
  {
   "cell_type": "code",
   "execution_count": 2,
   "metadata": {},
   "outputs": [],
   "source": [
    "# input parameters\n",
    "avg_T = 300\n",
    "dH_barrier = 3.5\n",
    "dS_barrier = -9/avg_T\n",
    "dH_sigma = dH_barrier/3\n",
    "dS_sigma = -dS_barrier/3\n",
    "n_paths = 22000\n",
    "area = 1e8\n",
    "lam = 10\n",
    "n_jumps = 200\n",
    "delta = lam*n_jumps"
   ]
  },
  {
   "cell_type": "code",
   "execution_count": 3,
   "metadata": {},
   "outputs": [],
   "source": [
    "# initialize arrays\n",
    "T = np.array([250, 260, 270, 280, 290, 300, 310, 320, 330, 340, 350])\n",
    "P_norm = np.zeros(len(T))\n",
    "P_exp = np.zeros(len(T))"
   ]
  },
  {
   "cell_type": "code",
   "execution_count": 4,
   "metadata": {},
   "outputs": [
    {
     "name": "stderr",
     "output_type": "stream",
     "text": [
      "0it [00:00, ?it/s]"
     ]
    },
    {
     "name": "stderr",
     "output_type": "stream",
     "text": [
      "11it [01:12,  6.61s/it]\n"
     ]
    }
   ],
   "source": [
    "# run Eyring model for each temperature with normally distributed barriers\n",
    "dist = 'norm'\n",
    "params = {'mu' : np.array([dH_barrier, dS_barrier]),\n",
    "          'cov': np.array([[dH_sigma**2, 0],\n",
    "                           [0, dS_sigma**2]])}\n",
    "\n",
    "\n",
    "for i, temp in tqdm(enumerate(T)):\n",
    "    model = EyringModel(T=temp, A=area)\n",
    "    for n in range(n_paths):\n",
    "        model.add_Path(n_jumps=n_jumps, lam=lam)\n",
    "        model.paths[n].generate_membrane_barriers(dist=dist, multi=True, dist_params=params)\n",
    "        \n",
    "    P_norm[i] = model.calculate_permeability() / 60 / 60 / 1000 * 10**9 * 10"
   ]
  },
  {
   "cell_type": "markdown",
   "metadata": {},
   "source": [
    "$\\ln{P} = \\ln{A} - \\frac{E_a}{RT}$\n",
    "\n",
    "So, the slope $m = -\\frac{E_a}{R}$ and the intercept $b = \\ln{A}$\n",
    "\n",
    "Or, in terms of the TST model: $\\ln{P} = \\ln{\\left( \\frac{\\lambda^2}{\\delta} \\frac{k_B T}{h} \\right)} + \\frac{\\Delta S_{eff}}{R} - \\frac{\\Delta H_{eff}}{RT}$\n",
    "\n",
    "So, the slope $m = - \\frac{\\Delta H_{eff}}{R}$ and the intercept $b = \\ln{\\left( \\frac{\\lambda^2}{\\delta} \\frac{k_B T}{h} \\right)} + \\frac{\\Delta S_{eff}}{R}$\n",
    "\n",
    "But, the intercept still has a temperature dependence..."
   ]
  },
  {
   "cell_type": "code",
   "execution_count": 5,
   "metadata": {},
   "outputs": [
    {
     "name": "stdout",
     "output_type": "stream",
     "text": [
      "ln(P) vs 1/T:\n",
      "Arrhenius barrier to permeability, Ea: 5.01 +/- 0.02 kcal/mol\n",
      "Arrhenius prefactor, ln(A): -0.43 +/- 0.03 A/s\n",
      "Prediction for 305 K: -8.70\n"
     ]
    }
   ],
   "source": [
    "# perform linear fit of ln(P) vs 1/T\n",
    "X = sm.add_constant(1/T)\n",
    "ols1 = sm.OLS(np.log(P_norm), X)\n",
    "results1 = ols1.fit()\n",
    "b, m = results1.params\n",
    "be, me = results1.bse\n",
    "\n",
    "print('ln(P) vs 1/T:')\n",
    "print(f'Arrhenius barrier to permeability, Ea: {-m*R:.2f} +/- {me*R:.2f} kcal/mol')\n",
    "print(f'Arrhenius prefactor, ln(A): {b:.2f} +/- {be:.2f} A/s')\n",
    "print(f'Prediction for 305 K: {m*(1/305) + b:.2f}')"
   ]
  },
  {
   "cell_type": "code",
   "execution_count": 12,
   "metadata": {},
   "outputs": [
    {
     "name": "stderr",
     "output_type": "stream",
     "text": [
      "/Users/nate_schwindt/anaconda3/envs/mpipy/lib/python3.8/site-packages/scipy/stats/_stats_py.py:1736: UserWarning: kurtosistest only valid for n>=20 ... continuing anyway, n=11\n",
      "  warnings.warn(\"kurtosistest only valid for n>=20 ... continuing \"\n"
     ]
    },
    {
     "data": {
      "text/html": [
       "<table class=\"simpletable\">\n",
       "<caption>OLS Regression Results</caption>\n",
       "<tr>\n",
       "  <th>Dep. Variable:</th>            <td>y</td>        <th>  R-squared:         </th> <td>   1.000</td> \n",
       "</tr>\n",
       "<tr>\n",
       "  <th>Model:</th>                   <td>OLS</td>       <th>  Adj. R-squared:    </th> <td>   1.000</td> \n",
       "</tr>\n",
       "<tr>\n",
       "  <th>Method:</th>             <td>Least Squares</td>  <th>  F-statistic:       </th> <td>7.988e+04</td>\n",
       "</tr>\n",
       "<tr>\n",
       "  <th>Date:</th>             <td>Mon, 27 Nov 2023</td> <th>  Prob (F-statistic):</th> <td>4.42e-19</td> \n",
       "</tr>\n",
       "<tr>\n",
       "  <th>Time:</th>                 <td>16:44:47</td>     <th>  Log-Likelihood:    </th> <td>  35.456</td> \n",
       "</tr>\n",
       "<tr>\n",
       "  <th>No. Observations:</th>      <td>    11</td>      <th>  AIC:               </th> <td>  -66.91</td> \n",
       "</tr>\n",
       "<tr>\n",
       "  <th>Df Residuals:</th>          <td>     9</td>      <th>  BIC:               </th> <td>  -66.12</td> \n",
       "</tr>\n",
       "<tr>\n",
       "  <th>Df Model:</th>              <td>     1</td>      <th>                     </th>     <td> </td>    \n",
       "</tr>\n",
       "<tr>\n",
       "  <th>Covariance Type:</th>      <td>nonrobust</td>    <th>                     </th>     <td> </td>    \n",
       "</tr>\n",
       "</table>\n",
       "<table class=\"simpletable\">\n",
       "<tr>\n",
       "    <td></td>       <th>coef</th>     <th>std err</th>      <th>t</th>      <th>P>|t|</th>  <th>[0.025</th>    <th>0.975]</th>  \n",
       "</tr>\n",
       "<tr>\n",
       "  <th>const</th> <td>   -0.4331</td> <td>    0.030</td> <td>  -14.319</td> <td> 0.000</td> <td>   -0.501</td> <td>   -0.365</td>\n",
       "</tr>\n",
       "<tr>\n",
       "  <th>x1</th>    <td>-2521.2961</td> <td>    8.921</td> <td> -282.635</td> <td> 0.000</td> <td>-2541.476</td> <td>-2501.116</td>\n",
       "</tr>\n",
       "</table>\n",
       "<table class=\"simpletable\">\n",
       "<tr>\n",
       "  <th>Omnibus:</th>       <td> 0.149</td> <th>  Durbin-Watson:     </th> <td>   1.764</td>\n",
       "</tr>\n",
       "<tr>\n",
       "  <th>Prob(Omnibus):</th> <td> 0.928</td> <th>  Jarque-Bera (JB):  </th> <td>   0.187</td>\n",
       "</tr>\n",
       "<tr>\n",
       "  <th>Skew:</th>          <td>-0.186</td> <th>  Prob(JB):          </th> <td>   0.911</td>\n",
       "</tr>\n",
       "<tr>\n",
       "  <th>Kurtosis:</th>      <td> 2.481</td> <th>  Cond. No.          </th> <td>2.78e+03</td>\n",
       "</tr>\n",
       "</table><br/><br/>Notes:<br/>[1] Standard Errors assume that the covariance matrix of the errors is correctly specified.<br/>[2] The condition number is large, 2.78e+03. This might indicate that there are<br/>strong multicollinearity or other numerical problems."
      ],
      "text/latex": [
       "\\begin{center}\n",
       "\\begin{tabular}{lclc}\n",
       "\\toprule\n",
       "\\textbf{Dep. Variable:}    &        y         & \\textbf{  R-squared:         } &     1.000   \\\\\n",
       "\\textbf{Model:}            &       OLS        & \\textbf{  Adj. R-squared:    } &     1.000   \\\\\n",
       "\\textbf{Method:}           &  Least Squares   & \\textbf{  F-statistic:       } & 7.988e+04   \\\\\n",
       "\\textbf{Date:}             & Mon, 27 Nov 2023 & \\textbf{  Prob (F-statistic):} &  4.42e-19   \\\\\n",
       "\\textbf{Time:}             &     16:44:47     & \\textbf{  Log-Likelihood:    } &    35.456   \\\\\n",
       "\\textbf{No. Observations:} &          11      & \\textbf{  AIC:               } &    -66.91   \\\\\n",
       "\\textbf{Df Residuals:}     &           9      & \\textbf{  BIC:               } &    -66.12   \\\\\n",
       "\\textbf{Df Model:}         &           1      & \\textbf{                     } &             \\\\\n",
       "\\textbf{Covariance Type:}  &    nonrobust     & \\textbf{                     } &             \\\\\n",
       "\\bottomrule\n",
       "\\end{tabular}\n",
       "\\begin{tabular}{lcccccc}\n",
       "               & \\textbf{coef} & \\textbf{std err} & \\textbf{t} & \\textbf{P$> |$t$|$} & \\textbf{[0.025} & \\textbf{0.975]}  \\\\\n",
       "\\midrule\n",
       "\\textbf{const} &      -0.4331  &        0.030     &   -14.319  &         0.000        &       -0.501    &       -0.365     \\\\\n",
       "\\textbf{x1}    &   -2521.2961  &        8.921     &  -282.635  &         0.000        &    -2541.476    &    -2501.116     \\\\\n",
       "\\bottomrule\n",
       "\\end{tabular}\n",
       "\\begin{tabular}{lclc}\n",
       "\\textbf{Omnibus:}       &  0.149 & \\textbf{  Durbin-Watson:     } &    1.764  \\\\\n",
       "\\textbf{Prob(Omnibus):} &  0.928 & \\textbf{  Jarque-Bera (JB):  } &    0.187  \\\\\n",
       "\\textbf{Skew:}          & -0.186 & \\textbf{  Prob(JB):          } &    0.911  \\\\\n",
       "\\textbf{Kurtosis:}      &  2.481 & \\textbf{  Cond. No.          } & 2.78e+03  \\\\\n",
       "\\bottomrule\n",
       "\\end{tabular}\n",
       "%\\caption{OLS Regression Results}\n",
       "\\end{center}\n",
       "\n",
       "Notes: \\newline\n",
       " [1] Standard Errors assume that the covariance matrix of the errors is correctly specified. \\newline\n",
       " [2] The condition number is large, 2.78e+03. This might indicate that there are \\newline\n",
       " strong multicollinearity or other numerical problems."
      ],
      "text/plain": [
       "<class 'statsmodels.iolib.summary.Summary'>\n",
       "\"\"\"\n",
       "                            OLS Regression Results                            \n",
       "==============================================================================\n",
       "Dep. Variable:                      y   R-squared:                       1.000\n",
       "Model:                            OLS   Adj. R-squared:                  1.000\n",
       "Method:                 Least Squares   F-statistic:                 7.988e+04\n",
       "Date:                Mon, 27 Nov 2023   Prob (F-statistic):           4.42e-19\n",
       "Time:                        16:44:47   Log-Likelihood:                 35.456\n",
       "No. Observations:                  11   AIC:                            -66.91\n",
       "Df Residuals:                       9   BIC:                            -66.12\n",
       "Df Model:                           1                                         \n",
       "Covariance Type:            nonrobust                                         \n",
       "==============================================================================\n",
       "                 coef    std err          t      P>|t|      [0.025      0.975]\n",
       "------------------------------------------------------------------------------\n",
       "const         -0.4331      0.030    -14.319      0.000      -0.501      -0.365\n",
       "x1         -2521.2961      8.921   -282.635      0.000   -2541.476   -2501.116\n",
       "==============================================================================\n",
       "Omnibus:                        0.149   Durbin-Watson:                   1.764\n",
       "Prob(Omnibus):                  0.928   Jarque-Bera (JB):                0.187\n",
       "Skew:                          -0.186   Prob(JB):                        0.911\n",
       "Kurtosis:                       2.481   Cond. No.                     2.78e+03\n",
       "==============================================================================\n",
       "\n",
       "Notes:\n",
       "[1] Standard Errors assume that the covariance matrix of the errors is correctly specified.\n",
       "[2] The condition number is large, 2.78e+03. This might indicate that there are\n",
       "strong multicollinearity or other numerical problems.\n",
       "\"\"\""
      ]
     },
     "execution_count": 12,
     "metadata": {},
     "output_type": "execute_result"
    }
   ],
   "source": [
    "results1.summary()"
   ]
  },
  {
   "cell_type": "markdown",
   "metadata": {},
   "source": [
    "$\\ln{\\frac{P}{T}} = \\ln{A} - \\frac{E_a}{RT}$\n",
    "\n",
    "So, the slope $m = -\\frac{E_a}{R}$ and the intercept $b = \\ln{A}$\n",
    "\n",
    "Or, in terms of the TST model: $\\ln{\\frac{P}{T}} = \\ln{\\left( \\frac{\\lambda^2}{\\delta} \\frac{k_B}{h} \\right)} + \\frac{\\Delta S_{eff}}{R} - \\frac{\\Delta H_{eff}}{RT}$\n",
    "\n",
    "So, the slope $m = - \\frac{\\Delta H_{eff}}{R}$ and the intercept $b = \\ln{\\left( \\frac{\\lambda^2}{\\delta} \\frac{k_B}{h} \\right)} + \\frac{\\Delta S_{eff}}{R}$"
   ]
  },
  {
   "cell_type": "code",
   "execution_count": 8,
   "metadata": {},
   "outputs": [
    {
     "name": "stdout",
     "output_type": "stream",
     "text": [
      "ln(P/T) vs 1/T:\n",
      "Arrhenius barrier to permeability, Ea: 4.42 +/- 0.01 kcal/mol\n",
      "Arrhenius prefactor, ln(A): -7.12 +/- 0.03 A/s\n",
      "Prediction for 305 K: -14.43\n"
     ]
    }
   ],
   "source": [
    "# perform linear fit of ln(P/T) vs 1/T\n",
    "X = sm.add_constant(1/T)\n",
    "ols2 = sm.OLS(np.log(P_norm/T), X)\n",
    "results2 = ols2.fit()\n",
    "b, m = results2.params\n",
    "be, me = results2.bse\n",
    "\n",
    "print('ln(P/T) vs 1/T:')\n",
    "print(f'Arrhenius barrier to permeability, Ea: {-m*R:.2f} +/- {me*R:.2f} kcal/mol')\n",
    "print(f'Arrhenius prefactor, ln(A): {b:.2f} +/- {be:.2f} A/s')\n",
    "print(f'Prediction for 305 K: {m*(1/305) + b:.2f}')"
   ]
  },
  {
   "cell_type": "code",
   "execution_count": 11,
   "metadata": {},
   "outputs": [
    {
     "name": "stderr",
     "output_type": "stream",
     "text": [
      "/Users/nate_schwindt/anaconda3/envs/mpipy/lib/python3.8/site-packages/scipy/stats/_stats_py.py:1736: UserWarning: kurtosistest only valid for n>=20 ... continuing anyway, n=11\n",
      "  warnings.warn(\"kurtosistest only valid for n>=20 ... continuing \"\n"
     ]
    },
    {
     "data": {
      "text/html": [
       "<table class=\"simpletable\">\n",
       "<caption>OLS Regression Results</caption>\n",
       "<tr>\n",
       "  <th>Dep. Variable:</th>            <td>y</td>        <th>  R-squared:         </th> <td>   1.000</td> \n",
       "</tr>\n",
       "<tr>\n",
       "  <th>Model:</th>                   <td>OLS</td>       <th>  Adj. R-squared:    </th> <td>   1.000</td> \n",
       "</tr>\n",
       "<tr>\n",
       "  <th>Method:</th>             <td>Least Squares</td>  <th>  F-statistic:       </th> <td>8.920e+04</td>\n",
       "</tr>\n",
       "<tr>\n",
       "  <th>Date:</th>             <td>Mon, 27 Nov 2023</td> <th>  Prob (F-statistic):</th> <td>2.69e-19</td> \n",
       "</tr>\n",
       "<tr>\n",
       "  <th>Time:</th>                 <td>16:44:36</td>     <th>  Log-Likelihood:    </th> <td>  37.431</td> \n",
       "</tr>\n",
       "<tr>\n",
       "  <th>No. Observations:</th>      <td>    11</td>      <th>  AIC:               </th> <td>  -70.86</td> \n",
       "</tr>\n",
       "<tr>\n",
       "  <th>Df Residuals:</th>          <td>     9</td>      <th>  BIC:               </th> <td>  -70.07</td> \n",
       "</tr>\n",
       "<tr>\n",
       "  <th>Df Model:</th>              <td>     1</td>      <th>                     </th>     <td> </td>    \n",
       "</tr>\n",
       "<tr>\n",
       "  <th>Covariance Type:</th>      <td>nonrobust</td>    <th>                     </th>     <td> </td>    \n",
       "</tr>\n",
       "</table>\n",
       "<table class=\"simpletable\">\n",
       "<tr>\n",
       "    <td></td>       <th>coef</th>     <th>std err</th>      <th>t</th>      <th>P>|t|</th>  <th>[0.025</th>    <th>0.975]</th>  \n",
       "</tr>\n",
       "<tr>\n",
       "  <th>const</th> <td>   -7.1247</td> <td>    0.025</td> <td> -281.892</td> <td> 0.000</td> <td>   -7.182</td> <td>   -7.068</td>\n",
       "</tr>\n",
       "<tr>\n",
       "  <th>x1</th>    <td>-2226.5916</td> <td>    7.455</td> <td> -298.671</td> <td> 0.000</td> <td>-2243.456</td> <td>-2209.727</td>\n",
       "</tr>\n",
       "</table>\n",
       "<table class=\"simpletable\">\n",
       "<tr>\n",
       "  <th>Omnibus:</th>       <td> 0.855</td> <th>  Durbin-Watson:     </th> <td>   2.368</td>\n",
       "</tr>\n",
       "<tr>\n",
       "  <th>Prob(Omnibus):</th> <td> 0.652</td> <th>  Jarque-Bera (JB):  </th> <td>   0.505</td>\n",
       "</tr>\n",
       "<tr>\n",
       "  <th>Skew:</th>          <td>-0.479</td> <th>  Prob(JB):          </th> <td>   0.777</td>\n",
       "</tr>\n",
       "<tr>\n",
       "  <th>Kurtosis:</th>      <td> 2.571</td> <th>  Cond. No.          </th> <td>2.78e+03</td>\n",
       "</tr>\n",
       "</table><br/><br/>Notes:<br/>[1] Standard Errors assume that the covariance matrix of the errors is correctly specified.<br/>[2] The condition number is large, 2.78e+03. This might indicate that there are<br/>strong multicollinearity or other numerical problems."
      ],
      "text/latex": [
       "\\begin{center}\n",
       "\\begin{tabular}{lclc}\n",
       "\\toprule\n",
       "\\textbf{Dep. Variable:}    &        y         & \\textbf{  R-squared:         } &     1.000   \\\\\n",
       "\\textbf{Model:}            &       OLS        & \\textbf{  Adj. R-squared:    } &     1.000   \\\\\n",
       "\\textbf{Method:}           &  Least Squares   & \\textbf{  F-statistic:       } & 8.920e+04   \\\\\n",
       "\\textbf{Date:}             & Mon, 27 Nov 2023 & \\textbf{  Prob (F-statistic):} &  2.69e-19   \\\\\n",
       "\\textbf{Time:}             &     16:44:36     & \\textbf{  Log-Likelihood:    } &    37.431   \\\\\n",
       "\\textbf{No. Observations:} &          11      & \\textbf{  AIC:               } &    -70.86   \\\\\n",
       "\\textbf{Df Residuals:}     &           9      & \\textbf{  BIC:               } &    -70.07   \\\\\n",
       "\\textbf{Df Model:}         &           1      & \\textbf{                     } &             \\\\\n",
       "\\textbf{Covariance Type:}  &    nonrobust     & \\textbf{                     } &             \\\\\n",
       "\\bottomrule\n",
       "\\end{tabular}\n",
       "\\begin{tabular}{lcccccc}\n",
       "               & \\textbf{coef} & \\textbf{std err} & \\textbf{t} & \\textbf{P$> |$t$|$} & \\textbf{[0.025} & \\textbf{0.975]}  \\\\\n",
       "\\midrule\n",
       "\\textbf{const} &      -7.1247  &        0.025     &  -281.892  &         0.000        &       -7.182    &       -7.068     \\\\\n",
       "\\textbf{x1}    &   -2226.5916  &        7.455     &  -298.671  &         0.000        &    -2243.456    &    -2209.727     \\\\\n",
       "\\bottomrule\n",
       "\\end{tabular}\n",
       "\\begin{tabular}{lclc}\n",
       "\\textbf{Omnibus:}       &  0.855 & \\textbf{  Durbin-Watson:     } &    2.368  \\\\\n",
       "\\textbf{Prob(Omnibus):} &  0.652 & \\textbf{  Jarque-Bera (JB):  } &    0.505  \\\\\n",
       "\\textbf{Skew:}          & -0.479 & \\textbf{  Prob(JB):          } &    0.777  \\\\\n",
       "\\textbf{Kurtosis:}      &  2.571 & \\textbf{  Cond. No.          } & 2.78e+03  \\\\\n",
       "\\bottomrule\n",
       "\\end{tabular}\n",
       "%\\caption{OLS Regression Results}\n",
       "\\end{center}\n",
       "\n",
       "Notes: \\newline\n",
       " [1] Standard Errors assume that the covariance matrix of the errors is correctly specified. \\newline\n",
       " [2] The condition number is large, 2.78e+03. This might indicate that there are \\newline\n",
       " strong multicollinearity or other numerical problems."
      ],
      "text/plain": [
       "<class 'statsmodels.iolib.summary.Summary'>\n",
       "\"\"\"\n",
       "                            OLS Regression Results                            \n",
       "==============================================================================\n",
       "Dep. Variable:                      y   R-squared:                       1.000\n",
       "Model:                            OLS   Adj. R-squared:                  1.000\n",
       "Method:                 Least Squares   F-statistic:                 8.920e+04\n",
       "Date:                Mon, 27 Nov 2023   Prob (F-statistic):           2.69e-19\n",
       "Time:                        16:44:36   Log-Likelihood:                 37.431\n",
       "No. Observations:                  11   AIC:                            -70.86\n",
       "Df Residuals:                       9   BIC:                            -70.07\n",
       "Df Model:                           1                                         \n",
       "Covariance Type:            nonrobust                                         \n",
       "==============================================================================\n",
       "                 coef    std err          t      P>|t|      [0.025      0.975]\n",
       "------------------------------------------------------------------------------\n",
       "const         -7.1247      0.025   -281.892      0.000      -7.182      -7.068\n",
       "x1         -2226.5916      7.455   -298.671      0.000   -2243.456   -2209.727\n",
       "==============================================================================\n",
       "Omnibus:                        0.855   Durbin-Watson:                   2.368\n",
       "Prob(Omnibus):                  0.652   Jarque-Bera (JB):                0.505\n",
       "Skew:                          -0.479   Prob(JB):                        0.777\n",
       "Kurtosis:                       2.571   Cond. No.                     2.78e+03\n",
       "==============================================================================\n",
       "\n",
       "Notes:\n",
       "[1] Standard Errors assume that the covariance matrix of the errors is correctly specified.\n",
       "[2] The condition number is large, 2.78e+03. This might indicate that there are\n",
       "strong multicollinearity or other numerical problems.\n",
       "\"\"\""
      ]
     },
     "execution_count": 11,
     "metadata": {},
     "output_type": "execute_result"
    }
   ],
   "source": [
    "results2.summary()"
   ]
  },
  {
   "cell_type": "markdown",
   "metadata": {},
   "source": [
    "$\\ln{\\left( \\frac{P \\delta h}{\\lambda^2 k_B T} \\right)} = \\ln{A} - \\frac{E_a}{RT}$\n",
    "\n",
    "So, the slope $m = -\\frac{E_a}{R}$ and the intercept $b = \\ln{A}$\n",
    "\n",
    "Or, in terms of the TST model: $\\ln{\\left( \\frac{P \\delta h}{\\lambda^2 k_B T} \\right)} = \\frac{\\Delta S_{eff}}{R} - \\frac{\\Delta H_{eff}}{RT}$\n",
    "\n",
    "So, the slope $m = - \\frac{\\Delta H_{eff}}{R}$ and the intercept $b = \\frac{\\Delta S_{eff}}{R}$"
   ]
  },
  {
   "cell_type": "code",
   "execution_count": 9,
   "metadata": {},
   "outputs": [
    {
     "name": "stdout",
     "output_type": "stream",
     "text": [
      "ln(P*delta*h/lam^2*kB*T) vs 1/T:\n",
      "Arrhenius barrier to permeability, Ea: 4.42 +/- 0.01 kcal/mol\n",
      "Arrhenius prefactor, ln(A): -27.89 +/- 0.03 A/s\n",
      "Prediction for 305 K: -35.19\n"
     ]
    }
   ],
   "source": [
    "# perform linear fit of ln(P*delta*h/lam^2*kB*T) vs 1/T\n",
    "X = sm.add_constant(1/T)\n",
    "ols3 = sm.OLS(np.log(P_norm*delta*h/lam**2/kB/T), X)\n",
    "results3 = ols3.fit()\n",
    "b, m = results3.params\n",
    "be, me = results3.bse\n",
    "\n",
    "print('ln(P*delta*h/lam^2*kB*T) vs 1/T:')\n",
    "print(f'Arrhenius barrier to permeability, Ea: {-m*R:.2f} +/- {me*R:.2f} kcal/mol')\n",
    "print(f'Arrhenius prefactor, ln(A): {b:.2f} +/- {be:.2f} A/s')\n",
    "print(f'Prediction for 305 K: {m*(1/305) + b:.2f}')"
   ]
  },
  {
   "cell_type": "code",
   "execution_count": 13,
   "metadata": {},
   "outputs": [
    {
     "name": "stderr",
     "output_type": "stream",
     "text": [
      "/Users/nate_schwindt/anaconda3/envs/mpipy/lib/python3.8/site-packages/scipy/stats/_stats_py.py:1736: UserWarning: kurtosistest only valid for n>=20 ... continuing anyway, n=11\n",
      "  warnings.warn(\"kurtosistest only valid for n>=20 ... continuing \"\n"
     ]
    },
    {
     "data": {
      "text/html": [
       "<table class=\"simpletable\">\n",
       "<caption>OLS Regression Results</caption>\n",
       "<tr>\n",
       "  <th>Dep. Variable:</th>            <td>y</td>        <th>  R-squared:         </th> <td>   1.000</td> \n",
       "</tr>\n",
       "<tr>\n",
       "  <th>Model:</th>                   <td>OLS</td>       <th>  Adj. R-squared:    </th> <td>   1.000</td> \n",
       "</tr>\n",
       "<tr>\n",
       "  <th>Method:</th>             <td>Least Squares</td>  <th>  F-statistic:       </th> <td>8.920e+04</td>\n",
       "</tr>\n",
       "<tr>\n",
       "  <th>Date:</th>             <td>Mon, 27 Nov 2023</td> <th>  Prob (F-statistic):</th> <td>2.69e-19</td> \n",
       "</tr>\n",
       "<tr>\n",
       "  <th>Time:</th>                 <td>16:45:06</td>     <th>  Log-Likelihood:    </th> <td>  37.431</td> \n",
       "</tr>\n",
       "<tr>\n",
       "  <th>No. Observations:</th>      <td>    11</td>      <th>  AIC:               </th> <td>  -70.86</td> \n",
       "</tr>\n",
       "<tr>\n",
       "  <th>Df Residuals:</th>          <td>     9</td>      <th>  BIC:               </th> <td>  -70.07</td> \n",
       "</tr>\n",
       "<tr>\n",
       "  <th>Df Model:</th>              <td>     1</td>      <th>                     </th>     <td> </td>    \n",
       "</tr>\n",
       "<tr>\n",
       "  <th>Covariance Type:</th>      <td>nonrobust</td>    <th>                     </th>     <td> </td>    \n",
       "</tr>\n",
       "</table>\n",
       "<table class=\"simpletable\">\n",
       "<tr>\n",
       "    <td></td>       <th>coef</th>     <th>std err</th>      <th>t</th>      <th>P>|t|</th>  <th>[0.025</th>    <th>0.975]</th>  \n",
       "</tr>\n",
       "<tr>\n",
       "  <th>const</th> <td>  -27.8890</td> <td>    0.025</td> <td>-1103.435</td> <td> 0.000</td> <td>  -27.946</td> <td>  -27.832</td>\n",
       "</tr>\n",
       "<tr>\n",
       "  <th>x1</th>    <td>-2226.5916</td> <td>    7.455</td> <td> -298.671</td> <td> 0.000</td> <td>-2243.456</td> <td>-2209.727</td>\n",
       "</tr>\n",
       "</table>\n",
       "<table class=\"simpletable\">\n",
       "<tr>\n",
       "  <th>Omnibus:</th>       <td> 0.855</td> <th>  Durbin-Watson:     </th> <td>   2.368</td>\n",
       "</tr>\n",
       "<tr>\n",
       "  <th>Prob(Omnibus):</th> <td> 0.652</td> <th>  Jarque-Bera (JB):  </th> <td>   0.505</td>\n",
       "</tr>\n",
       "<tr>\n",
       "  <th>Skew:</th>          <td>-0.479</td> <th>  Prob(JB):          </th> <td>   0.777</td>\n",
       "</tr>\n",
       "<tr>\n",
       "  <th>Kurtosis:</th>      <td> 2.571</td> <th>  Cond. No.          </th> <td>2.78e+03</td>\n",
       "</tr>\n",
       "</table><br/><br/>Notes:<br/>[1] Standard Errors assume that the covariance matrix of the errors is correctly specified.<br/>[2] The condition number is large, 2.78e+03. This might indicate that there are<br/>strong multicollinearity or other numerical problems."
      ],
      "text/latex": [
       "\\begin{center}\n",
       "\\begin{tabular}{lclc}\n",
       "\\toprule\n",
       "\\textbf{Dep. Variable:}    &        y         & \\textbf{  R-squared:         } &     1.000   \\\\\n",
       "\\textbf{Model:}            &       OLS        & \\textbf{  Adj. R-squared:    } &     1.000   \\\\\n",
       "\\textbf{Method:}           &  Least Squares   & \\textbf{  F-statistic:       } & 8.920e+04   \\\\\n",
       "\\textbf{Date:}             & Mon, 27 Nov 2023 & \\textbf{  Prob (F-statistic):} &  2.69e-19   \\\\\n",
       "\\textbf{Time:}             &     16:45:06     & \\textbf{  Log-Likelihood:    } &    37.431   \\\\\n",
       "\\textbf{No. Observations:} &          11      & \\textbf{  AIC:               } &    -70.86   \\\\\n",
       "\\textbf{Df Residuals:}     &           9      & \\textbf{  BIC:               } &    -70.07   \\\\\n",
       "\\textbf{Df Model:}         &           1      & \\textbf{                     } &             \\\\\n",
       "\\textbf{Covariance Type:}  &    nonrobust     & \\textbf{                     } &             \\\\\n",
       "\\bottomrule\n",
       "\\end{tabular}\n",
       "\\begin{tabular}{lcccccc}\n",
       "               & \\textbf{coef} & \\textbf{std err} & \\textbf{t} & \\textbf{P$> |$t$|$} & \\textbf{[0.025} & \\textbf{0.975]}  \\\\\n",
       "\\midrule\n",
       "\\textbf{const} &     -27.8890  &        0.025     & -1103.435  &         0.000        &      -27.946    &      -27.832     \\\\\n",
       "\\textbf{x1}    &   -2226.5916  &        7.455     &  -298.671  &         0.000        &    -2243.456    &    -2209.727     \\\\\n",
       "\\bottomrule\n",
       "\\end{tabular}\n",
       "\\begin{tabular}{lclc}\n",
       "\\textbf{Omnibus:}       &  0.855 & \\textbf{  Durbin-Watson:     } &    2.368  \\\\\n",
       "\\textbf{Prob(Omnibus):} &  0.652 & \\textbf{  Jarque-Bera (JB):  } &    0.505  \\\\\n",
       "\\textbf{Skew:}          & -0.479 & \\textbf{  Prob(JB):          } &    0.777  \\\\\n",
       "\\textbf{Kurtosis:}      &  2.571 & \\textbf{  Cond. No.          } & 2.78e+03  \\\\\n",
       "\\bottomrule\n",
       "\\end{tabular}\n",
       "%\\caption{OLS Regression Results}\n",
       "\\end{center}\n",
       "\n",
       "Notes: \\newline\n",
       " [1] Standard Errors assume that the covariance matrix of the errors is correctly specified. \\newline\n",
       " [2] The condition number is large, 2.78e+03. This might indicate that there are \\newline\n",
       " strong multicollinearity or other numerical problems."
      ],
      "text/plain": [
       "<class 'statsmodels.iolib.summary.Summary'>\n",
       "\"\"\"\n",
       "                            OLS Regression Results                            \n",
       "==============================================================================\n",
       "Dep. Variable:                      y   R-squared:                       1.000\n",
       "Model:                            OLS   Adj. R-squared:                  1.000\n",
       "Method:                 Least Squares   F-statistic:                 8.920e+04\n",
       "Date:                Mon, 27 Nov 2023   Prob (F-statistic):           2.69e-19\n",
       "Time:                        16:45:06   Log-Likelihood:                 37.431\n",
       "No. Observations:                  11   AIC:                            -70.86\n",
       "Df Residuals:                       9   BIC:                            -70.07\n",
       "Df Model:                           1                                         \n",
       "Covariance Type:            nonrobust                                         \n",
       "==============================================================================\n",
       "                 coef    std err          t      P>|t|      [0.025      0.975]\n",
       "------------------------------------------------------------------------------\n",
       "const        -27.8890      0.025  -1103.435      0.000     -27.946     -27.832\n",
       "x1         -2226.5916      7.455   -298.671      0.000   -2243.456   -2209.727\n",
       "==============================================================================\n",
       "Omnibus:                        0.855   Durbin-Watson:                   2.368\n",
       "Prob(Omnibus):                  0.652   Jarque-Bera (JB):                0.505\n",
       "Skew:                          -0.479   Prob(JB):                        0.777\n",
       "Kurtosis:                       2.571   Cond. No.                     2.78e+03\n",
       "==============================================================================\n",
       "\n",
       "Notes:\n",
       "[1] Standard Errors assume that the covariance matrix of the errors is correctly specified.\n",
       "[2] The condition number is large, 2.78e+03. This might indicate that there are\n",
       "strong multicollinearity or other numerical problems.\n",
       "\"\"\""
      ]
     },
     "execution_count": 13,
     "metadata": {},
     "output_type": "execute_result"
    }
   ],
   "source": [
    "results3.summary()"
   ]
  },
  {
   "cell_type": "code",
   "execution_count": 14,
   "metadata": {},
   "outputs": [
    {
     "data": {
      "image/png": "[encoded data removed]",
      "text/plain": [
       "<Figure size 640x480 with 1 Axes>"
      ]
     },
     "metadata": {},
     "output_type": "display_data"
    }
   ],
   "source": [
    "# plot linear fits\n",
    "df = pd.DataFrame()\n",
    "df['1/T'] = 1/T\n",
    "df['ln(P)'] = np.log(P_norm)\n",
    "df['ln(P/T)'] = np.log(P_norm/T)\n",
    "df['ln(CP/T)'] = np.log(P_norm*delta*h/lam**2/kB/T)\n",
    "\n",
    "fig, ax = plt.subplots(1,1)\n",
    "sns.regplot(x='1/T', y='ln(P)', data=df, ax=ax, label='ln(P)')\n",
    "sns.regplot(x='1/T', y='ln(P/T)', data=df, ax=ax, label='ln(P/T)')\n",
    "sns.regplot(x='1/T', y='ln(CP/T)', data=df, ax=ax, label='ln(C*P/T)')\n",
    "\n",
    "plt.ylabel('Y')\n",
    "plt.legend();"
   ]
  },
  {
   "cell_type": "code",
   "execution_count": 15,
   "metadata": {},
   "outputs": [
    {
     "name": "stderr",
     "output_type": "stream",
     "text": [
      "11it [00:44,  4.09s/it]\n"
     ]
    }
   ],
   "source": [
    "# run Eyring model for each temperature with exponentially distributed barriers\n",
    "dist = 'exp'\n",
    "params = {'beta'  : np.array([dH_barrier, dS_barrier])}\n",
    "\n",
    "for i, temp in tqdm(enumerate(T)):\n",
    "    model = EyringModel(T=temp, A=area)\n",
    "    for n in range(n_paths):\n",
    "        model.add_Path(n_jumps=n_jumps, lam=lam)\n",
    "        model.paths[n].generate_membrane_barriers(dist=dist, multi=True, dist_params=params)\n",
    "        \n",
    "    P_exp[i] = model.calculate_permeability() / 60 / 60 / 1000 * 10**9 * 10"
   ]
  },
  {
   "cell_type": "code",
   "execution_count": 16,
   "metadata": {},
   "outputs": [
    {
     "name": "stdout",
     "output_type": "stream",
     "text": [
      "ln(P) vs 1/T:\n",
      "Arrhenius barrier to permeability, Ea: 4.10 +/- 1.70 kcal/mol\n",
      "Arrhenius prefactor, ln(A): -28.50 +/- 2.90 A/s\n",
      "Prediction for 305 K: -35.26\n"
     ]
    }
   ],
   "source": [
    "# perform linear fit of ln(P) vs 1/T\n",
    "X = sm.add_constant(1/T)\n",
    "ols1 = sm.OLS(np.log(P_exp), X)\n",
    "results1 = ols1.fit()\n",
    "b, m = results1.params\n",
    "be, me = results1.bse\n",
    "\n",
    "print('ln(P) vs 1/T:')\n",
    "print(f'Arrhenius barrier to permeability, Ea: {-m*R:.2f} +/- {me*R:.2f} kcal/mol')\n",
    "print(f'Arrhenius prefactor, ln(A): {b:.2f} +/- {be:.2f} A/s')\n",
    "print(f'Prediction for 305 K: {m*(1/305) + b:.2f}')"
   ]
  },
  {
   "cell_type": "code",
   "execution_count": 17,
   "metadata": {},
   "outputs": [
    {
     "name": "stderr",
     "output_type": "stream",
     "text": [
      "/Users/nate_schwindt/anaconda3/envs/mpipy/lib/python3.8/site-packages/scipy/stats/_stats_py.py:1736: UserWarning: kurtosistest only valid for n>=20 ... continuing anyway, n=11\n",
      "  warnings.warn(\"kurtosistest only valid for n>=20 ... continuing \"\n"
     ]
    },
    {
     "data": {
      "text/html": [
       "<table class=\"simpletable\">\n",
       "<caption>OLS Regression Results</caption>\n",
       "<tr>\n",
       "  <th>Dep. Variable:</th>            <td>y</td>        <th>  R-squared:         </th> <td>   0.392</td>\n",
       "</tr>\n",
       "<tr>\n",
       "  <th>Model:</th>                   <td>OLS</td>       <th>  Adj. R-squared:    </th> <td>   0.324</td>\n",
       "</tr>\n",
       "<tr>\n",
       "  <th>Method:</th>             <td>Least Squares</td>  <th>  F-statistic:       </th> <td>   5.797</td>\n",
       "</tr>\n",
       "<tr>\n",
       "  <th>Date:</th>             <td>Mon, 27 Nov 2023</td> <th>  Prob (F-statistic):</th>  <td>0.0394</td> \n",
       "</tr>\n",
       "<tr>\n",
       "  <th>Time:</th>                 <td>16:55:55</td>     <th>  Log-Likelihood:    </th> <td> -14.757</td>\n",
       "</tr>\n",
       "<tr>\n",
       "  <th>No. Observations:</th>      <td>    11</td>      <th>  AIC:               </th> <td>   33.51</td>\n",
       "</tr>\n",
       "<tr>\n",
       "  <th>Df Residuals:</th>          <td>     9</td>      <th>  BIC:               </th> <td>   34.31</td>\n",
       "</tr>\n",
       "<tr>\n",
       "  <th>Df Model:</th>              <td>     1</td>      <th>                     </th>     <td> </td>   \n",
       "</tr>\n",
       "<tr>\n",
       "  <th>Covariance Type:</th>      <td>nonrobust</td>    <th>                     </th>     <td> </td>   \n",
       "</tr>\n",
       "</table>\n",
       "<table class=\"simpletable\">\n",
       "<tr>\n",
       "    <td></td>       <th>coef</th>     <th>std err</th>      <th>t</th>      <th>P>|t|</th>  <th>[0.025</th>    <th>0.975]</th>  \n",
       "</tr>\n",
       "<tr>\n",
       "  <th>const</th> <td>  -28.4997</td> <td>    2.905</td> <td>   -9.811</td> <td> 0.000</td> <td>  -35.071</td> <td>  -21.928</td>\n",
       "</tr>\n",
       "<tr>\n",
       "  <th>x1</th>    <td>-2063.0263</td> <td>  856.846</td> <td>   -2.408</td> <td> 0.039</td> <td>-4001.346</td> <td> -124.707</td>\n",
       "</tr>\n",
       "</table>\n",
       "<table class=\"simpletable\">\n",
       "<tr>\n",
       "  <th>Omnibus:</th>       <td> 1.532</td> <th>  Durbin-Watson:     </th> <td>   2.629</td>\n",
       "</tr>\n",
       "<tr>\n",
       "  <th>Prob(Omnibus):</th> <td> 0.465</td> <th>  Jarque-Bera (JB):  </th> <td>   0.849</td>\n",
       "</tr>\n",
       "<tr>\n",
       "  <th>Skew:</th>          <td> 0.272</td> <th>  Prob(JB):          </th> <td>   0.654</td>\n",
       "</tr>\n",
       "<tr>\n",
       "  <th>Kurtosis:</th>      <td> 1.752</td> <th>  Cond. No.          </th> <td>2.78e+03</td>\n",
       "</tr>\n",
       "</table><br/><br/>Notes:<br/>[1] Standard Errors assume that the covariance matrix of the errors is correctly specified.<br/>[2] The condition number is large, 2.78e+03. This might indicate that there are<br/>strong multicollinearity or other numerical problems."
      ],
      "text/latex": [
       "\\begin{center}\n",
       "\\begin{tabular}{lclc}\n",
       "\\toprule\n",
       "\\textbf{Dep. Variable:}    &        y         & \\textbf{  R-squared:         } &     0.392   \\\\\n",
       "\\textbf{Model:}            &       OLS        & \\textbf{  Adj. R-squared:    } &     0.324   \\\\\n",
       "\\textbf{Method:}           &  Least Squares   & \\textbf{  F-statistic:       } &     5.797   \\\\\n",
       "\\textbf{Date:}             & Mon, 27 Nov 2023 & \\textbf{  Prob (F-statistic):} &   0.0394    \\\\\n",
       "\\textbf{Time:}             &     16:55:55     & \\textbf{  Log-Likelihood:    } &   -14.757   \\\\\n",
       "\\textbf{No. Observations:} &          11      & \\textbf{  AIC:               } &     33.51   \\\\\n",
       "\\textbf{Df Residuals:}     &           9      & \\textbf{  BIC:               } &     34.31   \\\\\n",
       "\\textbf{Df Model:}         &           1      & \\textbf{                     } &             \\\\\n",
       "\\textbf{Covariance Type:}  &    nonrobust     & \\textbf{                     } &             \\\\\n",
       "\\bottomrule\n",
       "\\end{tabular}\n",
       "\\begin{tabular}{lcccccc}\n",
       "               & \\textbf{coef} & \\textbf{std err} & \\textbf{t} & \\textbf{P$> |$t$|$} & \\textbf{[0.025} & \\textbf{0.975]}  \\\\\n",
       "\\midrule\n",
       "\\textbf{const} &     -28.4997  &        2.905     &    -9.811  &         0.000        &      -35.071    &      -21.928     \\\\\n",
       "\\textbf{x1}    &   -2063.0263  &      856.846     &    -2.408  &         0.039        &    -4001.346    &     -124.707     \\\\\n",
       "\\bottomrule\n",
       "\\end{tabular}\n",
       "\\begin{tabular}{lclc}\n",
       "\\textbf{Omnibus:}       &  1.532 & \\textbf{  Durbin-Watson:     } &    2.629  \\\\\n",
       "\\textbf{Prob(Omnibus):} &  0.465 & \\textbf{  Jarque-Bera (JB):  } &    0.849  \\\\\n",
       "\\textbf{Skew:}          &  0.272 & \\textbf{  Prob(JB):          } &    0.654  \\\\\n",
       "\\textbf{Kurtosis:}      &  1.752 & \\textbf{  Cond. No.          } & 2.78e+03  \\\\\n",
       "\\bottomrule\n",
       "\\end{tabular}\n",
       "%\\caption{OLS Regression Results}\n",
       "\\end{center}\n",
       "\n",
       "Notes: \\newline\n",
       " [1] Standard Errors assume that the covariance matrix of the errors is correctly specified. \\newline\n",
       " [2] The condition number is large, 2.78e+03. This might indicate that there are \\newline\n",
       " strong multicollinearity or other numerical problems."
      ],
      "text/plain": [
       "<class 'statsmodels.iolib.summary.Summary'>\n",
       "\"\"\"\n",
       "                            OLS Regression Results                            \n",
       "==============================================================================\n",
       "Dep. Variable:                      y   R-squared:                       0.392\n",
       "Model:                            OLS   Adj. R-squared:                  0.324\n",
       "Method:                 Least Squares   F-statistic:                     5.797\n",
       "Date:                Mon, 27 Nov 2023   Prob (F-statistic):             0.0394\n",
       "Time:                        16:55:55   Log-Likelihood:                -14.757\n",
       "No. Observations:                  11   AIC:                             33.51\n",
       "Df Residuals:                       9   BIC:                             34.31\n",
       "Df Model:                           1                                         \n",
       "Covariance Type:            nonrobust                                         \n",
       "==============================================================================\n",
       "                 coef    std err          t      P>|t|      [0.025      0.975]\n",
       "------------------------------------------------------------------------------\n",
       "const        -28.4997      2.905     -9.811      0.000     -35.071     -21.928\n",
       "x1         -2063.0263    856.846     -2.408      0.039   -4001.346    -124.707\n",
       "==============================================================================\n",
       "Omnibus:                        1.532   Durbin-Watson:                   2.629\n",
       "Prob(Omnibus):                  0.465   Jarque-Bera (JB):                0.849\n",
       "Skew:                           0.272   Prob(JB):                        0.654\n",
       "Kurtosis:                       1.752   Cond. No.                     2.78e+03\n",
       "==============================================================================\n",
       "\n",
       "Notes:\n",
       "[1] Standard Errors assume that the covariance matrix of the errors is correctly specified.\n",
       "[2] The condition number is large, 2.78e+03. This might indicate that there are\n",
       "strong multicollinearity or other numerical problems.\n",
       "\"\"\""
      ]
     },
     "execution_count": 17,
     "metadata": {},
     "output_type": "execute_result"
    }
   ],
   "source": [
    "results1.summary()"
   ]
  },
  {
   "cell_type": "code",
   "execution_count": 18,
   "metadata": {},
   "outputs": [
    {
     "name": "stdout",
     "output_type": "stream",
     "text": [
      "ln(P/T) vs 1/T:\n",
      "Arrhenius barrier to permeability, Ea: 3.51 +/- 1.70 kcal/mol\n",
      "Arrhenius prefactor, ln(A): -35.19 +/- 2.90 A/s\n",
      "Prediction for 305 K: -40.99\n"
     ]
    }
   ],
   "source": [
    "# perform linear fit of ln(P/T) vs 1/T\n",
    "X = sm.add_constant(1/T)\n",
    "ols2 = sm.OLS(np.log(P_exp/T), X)\n",
    "results2 = ols2.fit()\n",
    "b, m = results2.params\n",
    "be, me = results2.bse\n",
    "\n",
    "print('ln(P/T) vs 1/T:')\n",
    "print(f'Arrhenius barrier to permeability, Ea: {-m*R:.2f} +/- {me*R:.2f} kcal/mol')\n",
    "print(f'Arrhenius prefactor, ln(A): {b:.2f} +/- {be:.2f} A/s')\n",
    "print(f'Prediction for 305 K: {m*(1/305) + b:.2f}')"
   ]
  },
  {
   "cell_type": "code",
   "execution_count": 19,
   "metadata": {},
   "outputs": [
    {
     "name": "stderr",
     "output_type": "stream",
     "text": [
      "/Users/nate_schwindt/anaconda3/envs/mpipy/lib/python3.8/site-packages/scipy/stats/_stats_py.py:1736: UserWarning: kurtosistest only valid for n>=20 ... continuing anyway, n=11\n",
      "  warnings.warn(\"kurtosistest only valid for n>=20 ... continuing \"\n"
     ]
    },
    {
     "data": {
      "text/html": [
       "<table class=\"simpletable\">\n",
       "<caption>OLS Regression Results</caption>\n",
       "<tr>\n",
       "  <th>Dep. Variable:</th>            <td>y</td>        <th>  R-squared:         </th> <td>   0.322</td>\n",
       "</tr>\n",
       "<tr>\n",
       "  <th>Model:</th>                   <td>OLS</td>       <th>  Adj. R-squared:    </th> <td>   0.247</td>\n",
       "</tr>\n",
       "<tr>\n",
       "  <th>Method:</th>             <td>Least Squares</td>  <th>  F-statistic:       </th> <td>   4.278</td>\n",
       "</tr>\n",
       "<tr>\n",
       "  <th>Date:</th>             <td>Mon, 27 Nov 2023</td> <th>  Prob (F-statistic):</th>  <td>0.0686</td> \n",
       "</tr>\n",
       "<tr>\n",
       "  <th>Time:</th>                 <td>16:55:56</td>     <th>  Log-Likelihood:    </th> <td> -14.733</td>\n",
       "</tr>\n",
       "<tr>\n",
       "  <th>No. Observations:</th>      <td>    11</td>      <th>  AIC:               </th> <td>   33.47</td>\n",
       "</tr>\n",
       "<tr>\n",
       "  <th>Df Residuals:</th>          <td>     9</td>      <th>  BIC:               </th> <td>   34.26</td>\n",
       "</tr>\n",
       "<tr>\n",
       "  <th>Df Model:</th>              <td>     1</td>      <th>                     </th>     <td> </td>   \n",
       "</tr>\n",
       "<tr>\n",
       "  <th>Covariance Type:</th>      <td>nonrobust</td>    <th>                     </th>     <td> </td>   \n",
       "</tr>\n",
       "</table>\n",
       "<table class=\"simpletable\">\n",
       "<tr>\n",
       "    <td></td>       <th>coef</th>     <th>std err</th>      <th>t</th>      <th>P>|t|</th>  <th>[0.025</th>    <th>0.975]</th>  \n",
       "</tr>\n",
       "<tr>\n",
       "  <th>const</th> <td>  -35.1914</td> <td>    2.899</td> <td>  -12.141</td> <td> 0.000</td> <td>  -41.748</td> <td>  -28.634</td>\n",
       "</tr>\n",
       "<tr>\n",
       "  <th>x1</th>    <td>-1768.3219</td> <td>  854.962</td> <td>   -2.068</td> <td> 0.069</td> <td>-3702.380</td> <td>  165.736</td>\n",
       "</tr>\n",
       "</table>\n",
       "<table class=\"simpletable\">\n",
       "<tr>\n",
       "  <th>Omnibus:</th>       <td> 1.564</td> <th>  Durbin-Watson:     </th> <td>   2.637</td>\n",
       "</tr>\n",
       "<tr>\n",
       "  <th>Prob(Omnibus):</th> <td> 0.458</td> <th>  Jarque-Bera (JB):  </th> <td>   0.851</td>\n",
       "</tr>\n",
       "<tr>\n",
       "  <th>Skew:</th>          <td> 0.263</td> <th>  Prob(JB):          </th> <td>   0.653</td>\n",
       "</tr>\n",
       "<tr>\n",
       "  <th>Kurtosis:</th>      <td> 1.743</td> <th>  Cond. No.          </th> <td>2.78e+03</td>\n",
       "</tr>\n",
       "</table><br/><br/>Notes:<br/>[1] Standard Errors assume that the covariance matrix of the errors is correctly specified.<br/>[2] The condition number is large, 2.78e+03. This might indicate that there are<br/>strong multicollinearity or other numerical problems."
      ],
      "text/latex": [
       "\\begin{center}\n",
       "\\begin{tabular}{lclc}\n",
       "\\toprule\n",
       "\\textbf{Dep. Variable:}    &        y         & \\textbf{  R-squared:         } &     0.322   \\\\\n",
       "\\textbf{Model:}            &       OLS        & \\textbf{  Adj. R-squared:    } &     0.247   \\\\\n",
       "\\textbf{Method:}           &  Least Squares   & \\textbf{  F-statistic:       } &     4.278   \\\\\n",
       "\\textbf{Date:}             & Mon, 27 Nov 2023 & \\textbf{  Prob (F-statistic):} &   0.0686    \\\\\n",
       "\\textbf{Time:}             &     16:55:56     & \\textbf{  Log-Likelihood:    } &   -14.733   \\\\\n",
       "\\textbf{No. Observations:} &          11      & \\textbf{  AIC:               } &     33.47   \\\\\n",
       "\\textbf{Df Residuals:}     &           9      & \\textbf{  BIC:               } &     34.26   \\\\\n",
       "\\textbf{Df Model:}         &           1      & \\textbf{                     } &             \\\\\n",
       "\\textbf{Covariance Type:}  &    nonrobust     & \\textbf{                     } &             \\\\\n",
       "\\bottomrule\n",
       "\\end{tabular}\n",
       "\\begin{tabular}{lcccccc}\n",
       "               & \\textbf{coef} & \\textbf{std err} & \\textbf{t} & \\textbf{P$> |$t$|$} & \\textbf{[0.025} & \\textbf{0.975]}  \\\\\n",
       "\\midrule\n",
       "\\textbf{const} &     -35.1914  &        2.899     &   -12.141  &         0.000        &      -41.748    &      -28.634     \\\\\n",
       "\\textbf{x1}    &   -1768.3219  &      854.962     &    -2.068  &         0.069        &    -3702.380    &      165.736     \\\\\n",
       "\\bottomrule\n",
       "\\end{tabular}\n",
       "\\begin{tabular}{lclc}\n",
       "\\textbf{Omnibus:}       &  1.564 & \\textbf{  Durbin-Watson:     } &    2.637  \\\\\n",
       "\\textbf{Prob(Omnibus):} &  0.458 & \\textbf{  Jarque-Bera (JB):  } &    0.851  \\\\\n",
       "\\textbf{Skew:}          &  0.263 & \\textbf{  Prob(JB):          } &    0.653  \\\\\n",
       "\\textbf{Kurtosis:}      &  1.743 & \\textbf{  Cond. No.          } & 2.78e+03  \\\\\n",
       "\\bottomrule\n",
       "\\end{tabular}\n",
       "%\\caption{OLS Regression Results}\n",
       "\\end{center}\n",
       "\n",
       "Notes: \\newline\n",
       " [1] Standard Errors assume that the covariance matrix of the errors is correctly specified. \\newline\n",
       " [2] The condition number is large, 2.78e+03. This might indicate that there are \\newline\n",
       " strong multicollinearity or other numerical problems."
      ],
      "text/plain": [
       "<class 'statsmodels.iolib.summary.Summary'>\n",
       "\"\"\"\n",
       "                            OLS Regression Results                            \n",
       "==============================================================================\n",
       "Dep. Variable:                      y   R-squared:                       0.322\n",
       "Model:                            OLS   Adj. R-squared:                  0.247\n",
       "Method:                 Least Squares   F-statistic:                     4.278\n",
       "Date:                Mon, 27 Nov 2023   Prob (F-statistic):             0.0686\n",
       "Time:                        16:55:56   Log-Likelihood:                -14.733\n",
       "No. Observations:                  11   AIC:                             33.47\n",
       "Df Residuals:                       9   BIC:                             34.26\n",
       "Df Model:                           1                                         \n",
       "Covariance Type:            nonrobust                                         \n",
       "==============================================================================\n",
       "                 coef    std err          t      P>|t|      [0.025      0.975]\n",
       "------------------------------------------------------------------------------\n",
       "const        -35.1914      2.899    -12.141      0.000     -41.748     -28.634\n",
       "x1         -1768.3219    854.962     -2.068      0.069   -3702.380     165.736\n",
       "==============================================================================\n",
       "Omnibus:                        1.564   Durbin-Watson:                   2.637\n",
       "Prob(Omnibus):                  0.458   Jarque-Bera (JB):                0.851\n",
       "Skew:                           0.263   Prob(JB):                        0.653\n",
       "Kurtosis:                       1.743   Cond. No.                     2.78e+03\n",
       "==============================================================================\n",
       "\n",
       "Notes:\n",
       "[1] Standard Errors assume that the covariance matrix of the errors is correctly specified.\n",
       "[2] The condition number is large, 2.78e+03. This might indicate that there are\n",
       "strong multicollinearity or other numerical problems.\n",
       "\"\"\""
      ]
     },
     "execution_count": 19,
     "metadata": {},
     "output_type": "execute_result"
    }
   ],
   "source": [
    "results2.summary()"
   ]
  },
  {
   "cell_type": "code",
   "execution_count": 20,
   "metadata": {},
   "outputs": [
    {
     "name": "stdout",
     "output_type": "stream",
     "text": [
      "ln(P*delta*h/lam^2*kB*T) vs 1/T:\n",
      "Arrhenius barrier to permeability, Ea: 3.51 +/- 1.70 kcal/mol\n",
      "Arrhenius prefactor, ln(A): -55.96 +/- 2.90 A/s\n",
      "Prediction for 305 K: -61.75\n"
     ]
    }
   ],
   "source": [
    "# perform linear fit of ln(P*delta*h/lam^2*kB*T) vs 1/T\n",
    "X = sm.add_constant(1/T)\n",
    "ols3 = sm.OLS(np.log(P_exp*delta*h/lam**2/kB/T), X)\n",
    "results3 = ols3.fit()\n",
    "b, m = results3.params\n",
    "be, me = results3.bse\n",
    "\n",
    "print('ln(P*delta*h/lam^2*kB*T) vs 1/T:')\n",
    "print(f'Arrhenius barrier to permeability, Ea: {-m*R:.2f} +/- {me*R:.2f} kcal/mol')\n",
    "print(f'Arrhenius prefactor, ln(A): {b:.2f} +/- {be:.2f} A/s')\n",
    "print(f'Prediction for 305 K: {m*(1/305) + b:.2f}')"
   ]
  },
  {
   "cell_type": "code",
   "execution_count": 21,
   "metadata": {},
   "outputs": [
    {
     "name": "stderr",
     "output_type": "stream",
     "text": [
      "/Users/nate_schwindt/anaconda3/envs/mpipy/lib/python3.8/site-packages/scipy/stats/_stats_py.py:1736: UserWarning: kurtosistest only valid for n>=20 ... continuing anyway, n=11\n",
      "  warnings.warn(\"kurtosistest only valid for n>=20 ... continuing \"\n"
     ]
    },
    {
     "data": {
      "text/html": [
       "<table class=\"simpletable\">\n",
       "<caption>OLS Regression Results</caption>\n",
       "<tr>\n",
       "  <th>Dep. Variable:</th>            <td>y</td>        <th>  R-squared:         </th> <td>   0.322</td>\n",
       "</tr>\n",
       "<tr>\n",
       "  <th>Model:</th>                   <td>OLS</td>       <th>  Adj. R-squared:    </th> <td>   0.247</td>\n",
       "</tr>\n",
       "<tr>\n",
       "  <th>Method:</th>             <td>Least Squares</td>  <th>  F-statistic:       </th> <td>   4.278</td>\n",
       "</tr>\n",
       "<tr>\n",
       "  <th>Date:</th>             <td>Mon, 27 Nov 2023</td> <th>  Prob (F-statistic):</th>  <td>0.0686</td> \n",
       "</tr>\n",
       "<tr>\n",
       "  <th>Time:</th>                 <td>16:55:56</td>     <th>  Log-Likelihood:    </th> <td> -14.733</td>\n",
       "</tr>\n",
       "<tr>\n",
       "  <th>No. Observations:</th>      <td>    11</td>      <th>  AIC:               </th> <td>   33.47</td>\n",
       "</tr>\n",
       "<tr>\n",
       "  <th>Df Residuals:</th>          <td>     9</td>      <th>  BIC:               </th> <td>   34.26</td>\n",
       "</tr>\n",
       "<tr>\n",
       "  <th>Df Model:</th>              <td>     1</td>      <th>                     </th>     <td> </td>   \n",
       "</tr>\n",
       "<tr>\n",
       "  <th>Covariance Type:</th>      <td>nonrobust</td>    <th>                     </th>     <td> </td>   \n",
       "</tr>\n",
       "</table>\n",
       "<table class=\"simpletable\">\n",
       "<tr>\n",
       "    <td></td>       <th>coef</th>     <th>std err</th>      <th>t</th>      <th>P>|t|</th>  <th>[0.025</th>    <th>0.975]</th>  \n",
       "</tr>\n",
       "<tr>\n",
       "  <th>const</th> <td>  -55.9556</td> <td>    2.899</td> <td>  -19.305</td> <td> 0.000</td> <td>  -62.513</td> <td>  -49.399</td>\n",
       "</tr>\n",
       "<tr>\n",
       "  <th>x1</th>    <td>-1768.3219</td> <td>  854.962</td> <td>   -2.068</td> <td> 0.069</td> <td>-3702.380</td> <td>  165.736</td>\n",
       "</tr>\n",
       "</table>\n",
       "<table class=\"simpletable\">\n",
       "<tr>\n",
       "  <th>Omnibus:</th>       <td> 1.564</td> <th>  Durbin-Watson:     </th> <td>   2.637</td>\n",
       "</tr>\n",
       "<tr>\n",
       "  <th>Prob(Omnibus):</th> <td> 0.458</td> <th>  Jarque-Bera (JB):  </th> <td>   0.851</td>\n",
       "</tr>\n",
       "<tr>\n",
       "  <th>Skew:</th>          <td> 0.263</td> <th>  Prob(JB):          </th> <td>   0.653</td>\n",
       "</tr>\n",
       "<tr>\n",
       "  <th>Kurtosis:</th>      <td> 1.743</td> <th>  Cond. No.          </th> <td>2.78e+03</td>\n",
       "</tr>\n",
       "</table><br/><br/>Notes:<br/>[1] Standard Errors assume that the covariance matrix of the errors is correctly specified.<br/>[2] The condition number is large, 2.78e+03. This might indicate that there are<br/>strong multicollinearity or other numerical problems."
      ],
      "text/latex": [
       "\\begin{center}\n",
       "\\begin{tabular}{lclc}\n",
       "\\toprule\n",
       "\\textbf{Dep. Variable:}    &        y         & \\textbf{  R-squared:         } &     0.322   \\\\\n",
       "\\textbf{Model:}            &       OLS        & \\textbf{  Adj. R-squared:    } &     0.247   \\\\\n",
       "\\textbf{Method:}           &  Least Squares   & \\textbf{  F-statistic:       } &     4.278   \\\\\n",
       "\\textbf{Date:}             & Mon, 27 Nov 2023 & \\textbf{  Prob (F-statistic):} &   0.0686    \\\\\n",
       "\\textbf{Time:}             &     16:55:56     & \\textbf{  Log-Likelihood:    } &   -14.733   \\\\\n",
       "\\textbf{No. Observations:} &          11      & \\textbf{  AIC:               } &     33.47   \\\\\n",
       "\\textbf{Df Residuals:}     &           9      & \\textbf{  BIC:               } &     34.26   \\\\\n",
       "\\textbf{Df Model:}         &           1      & \\textbf{                     } &             \\\\\n",
       "\\textbf{Covariance Type:}  &    nonrobust     & \\textbf{                     } &             \\\\\n",
       "\\bottomrule\n",
       "\\end{tabular}\n",
       "\\begin{tabular}{lcccccc}\n",
       "               & \\textbf{coef} & \\textbf{std err} & \\textbf{t} & \\textbf{P$> |$t$|$} & \\textbf{[0.025} & \\textbf{0.975]}  \\\\\n",
       "\\midrule\n",
       "\\textbf{const} &     -55.9556  &        2.899     &   -19.305  &         0.000        &      -62.513    &      -49.399     \\\\\n",
       "\\textbf{x1}    &   -1768.3219  &      854.962     &    -2.068  &         0.069        &    -3702.380    &      165.736     \\\\\n",
       "\\bottomrule\n",
       "\\end{tabular}\n",
       "\\begin{tabular}{lclc}\n",
       "\\textbf{Omnibus:}       &  1.564 & \\textbf{  Durbin-Watson:     } &    2.637  \\\\\n",
       "\\textbf{Prob(Omnibus):} &  0.458 & \\textbf{  Jarque-Bera (JB):  } &    0.851  \\\\\n",
       "\\textbf{Skew:}          &  0.263 & \\textbf{  Prob(JB):          } &    0.653  \\\\\n",
       "\\textbf{Kurtosis:}      &  1.743 & \\textbf{  Cond. No.          } & 2.78e+03  \\\\\n",
       "\\bottomrule\n",
       "\\end{tabular}\n",
       "%\\caption{OLS Regression Results}\n",
       "\\end{center}\n",
       "\n",
       "Notes: \\newline\n",
       " [1] Standard Errors assume that the covariance matrix of the errors is correctly specified. \\newline\n",
       " [2] The condition number is large, 2.78e+03. This might indicate that there are \\newline\n",
       " strong multicollinearity or other numerical problems."
      ],
      "text/plain": [
       "<class 'statsmodels.iolib.summary.Summary'>\n",
       "\"\"\"\n",
       "                            OLS Regression Results                            \n",
       "==============================================================================\n",
       "Dep. Variable:                      y   R-squared:                       0.322\n",
       "Model:                            OLS   Adj. R-squared:                  0.247\n",
       "Method:                 Least Squares   F-statistic:                     4.278\n",
       "Date:                Mon, 27 Nov 2023   Prob (F-statistic):             0.0686\n",
       "Time:                        16:55:56   Log-Likelihood:                -14.733\n",
       "No. Observations:                  11   AIC:                             33.47\n",
       "Df Residuals:                       9   BIC:                             34.26\n",
       "Df Model:                           1                                         \n",
       "Covariance Type:            nonrobust                                         \n",
       "==============================================================================\n",
       "                 coef    std err          t      P>|t|      [0.025      0.975]\n",
       "------------------------------------------------------------------------------\n",
       "const        -55.9556      2.899    -19.305      0.000     -62.513     -49.399\n",
       "x1         -1768.3219    854.962     -2.068      0.069   -3702.380     165.736\n",
       "==============================================================================\n",
       "Omnibus:                        1.564   Durbin-Watson:                   2.637\n",
       "Prob(Omnibus):                  0.458   Jarque-Bera (JB):                0.851\n",
       "Skew:                           0.263   Prob(JB):                        0.653\n",
       "Kurtosis:                       1.743   Cond. No.                     2.78e+03\n",
       "==============================================================================\n",
       "\n",
       "Notes:\n",
       "[1] Standard Errors assume that the covariance matrix of the errors is correctly specified.\n",
       "[2] The condition number is large, 2.78e+03. This might indicate that there are\n",
       "strong multicollinearity or other numerical problems.\n",
       "\"\"\""
      ]
     },
     "execution_count": 21,
     "metadata": {},
     "output_type": "execute_result"
    }
   ],
   "source": [
    "results3.summary()"
   ]
  },
  {
   "cell_type": "code",
   "execution_count": 22,
   "metadata": {},
   "outputs": [
    {
     "data": {
      "image/png": "[encoded data removed]",
      "text/plain": [
       "<Figure size 640x480 with 1 Axes>"
      ]
     },
     "metadata": {},
     "output_type": "display_data"
    }
   ],
   "source": [
    "# plot linear fits\n",
    "df = pd.DataFrame()\n",
    "df['1/T'] = 1/T\n",
    "df['ln(P)'] = np.log(P_exp)\n",
    "df['ln(P/T)'] = np.log(P_exp/T)\n",
    "df['ln(CP/T)'] = np.log(P_exp*delta*h/lam**2/kB/T)\n",
    "\n",
    "fig, ax = plt.subplots(1,1)\n",
    "sns.regplot(x='1/T', y='ln(P)', data=df, ax=ax, label='ln(P)')\n",
    "sns.regplot(x='1/T', y='ln(P/T)', data=df, ax=ax, label='ln(P/T)')\n",
    "sns.regplot(x='1/T', y='ln(CP/T)', data=df, ax=ax, label='ln(C*P/T)')\n",
    "\n",
    "plt.ylabel('Y')\n",
    "plt.legend();"
   ]
  },
  {
   "cell_type": "code",
   "execution_count": 25,
   "metadata": {},
   "outputs": [],
   "source": [
    "# now the same analysis for the experimental data\n",
    "df = pd.read_excel('../P_vs_T_results.xlsx')\n",
    "df = df[df['system'] == 'NaCl (NF270)']\n",
    "T = df['T (K)']\n",
    "P_experiment = df['B (m/sec)']"
   ]
  },
  {
   "cell_type": "code",
   "execution_count": 26,
   "metadata": {},
   "outputs": [
    {
     "name": "stdout",
     "output_type": "stream",
     "text": [
      "ln(P) vs 1/T:\n",
      "Arrhenius barrier to permeability, Ea: 4.02 +/- 0.76 kcal/mol\n",
      "Arrhenius prefactor, ln(A): -3.59 +/- 1.28 A/s\n",
      "Prediction for 305 K: -10.24\n",
      "                            OLS Regression Results                            \n",
      "==============================================================================\n",
      "Dep. Variable:              B (m/sec)   R-squared:                       0.637\n",
      "Model:                            OLS   Adj. R-squared:                  0.614\n",
      "Method:                 Least Squares   F-statistic:                     28.03\n",
      "Date:                Mon, 23 Oct 2023   Prob (F-statistic):           7.27e-05\n",
      "Time:                        12:27:17   Log-Likelihood:                 5.9381\n",
      "No. Observations:                  18   AIC:                            -7.876\n",
      "Df Residuals:                      16   BIC:                            -6.096\n",
      "Df Model:                           1                                         \n",
      "Covariance Type:            nonrobust                                         \n",
      "==============================================================================\n",
      "                 coef    std err          t      P>|t|      [0.025      0.975]\n",
      "------------------------------------------------------------------------------\n",
      "const         -3.5941      1.285     -2.797      0.013      -6.318      -0.870\n",
      "T (K)      -2026.3362    382.741     -5.294      0.000   -2837.710   -1214.962\n",
      "==============================================================================\n",
      "Omnibus:                        3.383   Durbin-Watson:                   0.491\n",
      "Prob(Omnibus):                  0.184   Jarque-Bera (JB):                1.427\n",
      "Skew:                          -0.279   Prob(JB):                        0.490\n",
      "Kurtosis:                       1.738   Cond. No.                     8.80e+03\n",
      "==============================================================================\n",
      "\n",
      "Notes:\n",
      "[1] Standard Errors assume that the covariance matrix of the errors is correctly specified.\n",
      "[2] The condition number is large, 8.8e+03. This might indicate that there are\n",
      "strong multicollinearity or other numerical problems.\n"
     ]
    },
    {
     "name": "stderr",
     "output_type": "stream",
     "text": [
      "/Users/nate_schwindt/anaconda3/envs/mpipy/lib/python3.8/site-packages/scipy/stats/_stats_py.py:1736: UserWarning: kurtosistest only valid for n>=20 ... continuing anyway, n=18\n",
      "  warnings.warn(\"kurtosistest only valid for n>=20 ... continuing \"\n"
     ]
    }
   ],
   "source": [
    "# perform linear fit of ln(P) vs 1/T\n",
    "X = sm.add_constant(1/T)\n",
    "ols1 = sm.OLS(np.log(P_experiment), X)\n",
    "results1 = ols1.fit()\n",
    "b, m = results1.params\n",
    "be, me = results1.bse\n",
    "\n",
    "print('ln(P) vs 1/T:')\n",
    "print(f'Arrhenius barrier to permeability, Ea: {-m*R:.2f} +/- {me*R:.2f} kcal/mol')\n",
    "print(f'Arrhenius prefactor, ln(A): {b:.2f} +/- {be:.2f} A/s')\n",
    "print(f'Prediction for 305 K: {m*(1/305) + b:.2f}')\n",
    "\n",
    "print(results1.summary())"
   ]
  },
  {
   "cell_type": "code",
   "execution_count": 27,
   "metadata": {},
   "outputs": [
    {
     "name": "stdout",
     "output_type": "stream",
     "text": [
      "ln(P/T) vs 1/T:\n",
      "Arrhenius barrier to permeability, Ea: 3.43 +/- 0.76 kcal/mol\n",
      "Arrhenius prefactor, ln(A): -10.29 +/- 1.29 A/s\n",
      "Prediction for 305 K: -15.96\n",
      "                            OLS Regression Results                            \n",
      "==============================================================================\n",
      "Dep. Variable:                      y   R-squared:                       0.560\n",
      "Model:                            OLS   Adj. R-squared:                  0.533\n",
      "Method:                 Least Squares   F-statistic:                     20.37\n",
      "Date:                Mon, 23 Oct 2023   Prob (F-statistic):           0.000354\n",
      "Time:                        12:27:18   Log-Likelihood:                 5.9331\n",
      "No. Observations:                  18   AIC:                            -7.866\n",
      "Df Residuals:                      16   BIC:                            -6.085\n",
      "Df Model:                           1                                         \n",
      "Covariance Type:            nonrobust                                         \n",
      "==============================================================================\n",
      "                 coef    std err          t      P>|t|      [0.025      0.975]\n",
      "------------------------------------------------------------------------------\n",
      "const        -10.2930      1.285     -8.009      0.000     -13.017      -7.568\n",
      "T (K)      -1727.9912    382.847     -4.514      0.000   -2539.592    -916.391\n",
      "==============================================================================\n",
      "Omnibus:                        3.362   Durbin-Watson:                   0.492\n",
      "Prob(Omnibus):                  0.186   Jarque-Bera (JB):                1.423\n",
      "Skew:                          -0.279   Prob(JB):                        0.491\n",
      "Kurtosis:                       1.740   Cond. No.                     8.80e+03\n",
      "==============================================================================\n",
      "\n",
      "Notes:\n",
      "[1] Standard Errors assume that the covariance matrix of the errors is correctly specified.\n",
      "[2] The condition number is large, 8.8e+03. This might indicate that there are\n",
      "strong multicollinearity or other numerical problems.\n"
     ]
    },
    {
     "name": "stderr",
     "output_type": "stream",
     "text": [
      "/Users/nate_schwindt/anaconda3/envs/mpipy/lib/python3.8/site-packages/scipy/stats/_stats_py.py:1736: UserWarning: kurtosistest only valid for n>=20 ... continuing anyway, n=18\n",
      "  warnings.warn(\"kurtosistest only valid for n>=20 ... continuing \"\n"
     ]
    }
   ],
   "source": [
    "# perform linear fit of ln(P/T) vs 1/T\n",
    "X = sm.add_constant(1/T)\n",
    "ols2 = sm.OLS(np.log(P_experiment/T), X)\n",
    "results2 = ols2.fit()\n",
    "b, m = results2.params\n",
    "be, me = results2.bse\n",
    "\n",
    "print('ln(P/T) vs 1/T:')\n",
    "print(f'Arrhenius barrier to permeability, Ea: {-m*R:.2f} +/- {me*R:.2f} kcal/mol')\n",
    "print(f'Arrhenius prefactor, ln(A): {b:.2f} +/- {be:.2f} A/s')\n",
    "print(f'Prediction for 305 K: {m*(1/305) + b:.2f}')\n",
    "\n",
    "print(results2.summary())"
   ]
  },
  {
   "cell_type": "code",
   "execution_count": 28,
   "metadata": {},
   "outputs": [
    {
     "name": "stdout",
     "output_type": "stream",
     "text": [
      "ln(P*delta*h/lam^2*kB*T) vs 1/T:\n",
      "Arrhenius barrier to permeability, Ea: 3.43 +/- 0.76 kcal/mol\n",
      "Arrhenius prefactor, ln(A): -31.06 +/- 1.29 A/s\n",
      "Prediction for 305 K: -36.72\n"
     ]
    }
   ],
   "source": [
    "# perform linear fit of ln(P*delta*h/lam^2*kB*T) vs 1/T\n",
    "X = sm.add_constant(1/T)\n",
    "ols3 = sm.OLS(np.log(P_experiment*delta*h/lam**2/kB/T), X)\n",
    "results3 = ols3.fit()\n",
    "b, m = results3.params\n",
    "be, me = results3.bse\n",
    "\n",
    "print('ln(P*delta*h/lam^2*kB*T) vs 1/T:')\n",
    "print(f'Arrhenius barrier to permeability, Ea: {-m*R:.2f} +/- {me*R:.2f} kcal/mol')\n",
    "print(f'Arrhenius prefactor, ln(A): {b:.2f} +/- {be:.2f} A/s')\n",
    "print(f'Prediction for 305 K: {m*(1/305) + b:.2f}')"
   ]
  },
  {
   "cell_type": "code",
   "execution_count": 29,
   "metadata": {},
   "outputs": [
    {
     "data": {
      "image/png": "[encoded data removed]",
      "text/plain": [
       "<Figure size 640x480 with 1 Axes>"
      ]
     },
     "metadata": {},
     "output_type": "display_data"
    }
   ],
   "source": [
    "# plot the linear fits\n",
    "df['1/T'] = 1/df['T (K)']\n",
    "df['ln(P)'] = np.log(P_experiment)\n",
    "df['ln(P/T)'] = np.log(P_experiment/T)\n",
    "df['ln(CP/T)'] = np.log(P_experiment*delta*h/lam**2/kB/T)\n",
    "\n",
    "fig, ax = plt.subplots(1,1)\n",
    "sns.regplot(x='1/T', y='ln(P)', data=df, ax=ax, label='ln(P)', ci=95)\n",
    "sns.regplot(x='1/T', y='ln(P/T)', data=df, ax=ax, label='ln(P/T)', ci=95)\n",
    "# sns.regplot(x='1/T', y='ln(CP/T)', data=df, ax=ax, label='ln(C*P/T)')\n",
    "\n",
    "plt.ylabel('Y')\n",
    "plt.legend();"
   ]
  },
  {
   "cell_type": "code",
   "execution_count": 30,
   "metadata": {},
   "outputs": [
    {
     "name": "stdout",
     "output_type": "stream",
     "text": [
      "Sum of squared residuals for ln(P) vs 1/T: 0.5448210209390335\n",
      "Sum of squared residuals for ln(P/T) vs 1/T: 0.5451251527821924\n"
     ]
    }
   ],
   "source": [
    "print(f'Sum of squared residuals for ln(P) vs 1/T: {results1.ssr}')\n",
    "print(f'Sum of squared residuals for ln(P/T) vs 1/T: {results2.ssr}')"
   ]
  },
  {
   "cell_type": "code",
   "execution_count": 35,
   "metadata": {},
   "outputs": [],
   "source": [
    "# now with the average permeabilities\n",
    "df = pd.read_excel('../P_vs_T_results.xlsx')\n",
    "df = df[df['system'] == 'NaCl (NF270)'].dropna()\n",
    "T = df['T (K)']\n",
    "P_experiment = df['ave B (m/sec)']"
   ]
  },
  {
   "cell_type": "code",
   "execution_count": 37,
   "metadata": {},
   "outputs": [
    {
     "name": "stdout",
     "output_type": "stream",
     "text": [
      "ln(P) vs 1/T:\n",
      "Arrhenius barrier to permeability, Ea: 4.11 +/- 0.18 kcal/mol\n",
      "Arrhenius prefactor, ln(A): -3.43 +/- 0.31 A/s\n",
      "Prediction for 305 K: -10.22\n",
      "                            OLS Regression Results                            \n",
      "==============================================================================\n",
      "Dep. Variable:          ave B (m/sec)   R-squared:                       0.992\n",
      "Model:                            OLS   Adj. R-squared:                  0.990\n",
      "Method:                 Least Squares   F-statistic:                     499.1\n",
      "Date:                Mon, 23 Oct 2023   Prob (F-statistic):           2.38e-05\n",
      "Time:                        12:32:03   Log-Likelihood:                 14.647\n",
      "No. Observations:                   6   AIC:                            -25.29\n",
      "Df Residuals:                       4   BIC:                            -25.71\n",
      "Df Model:                           1                                         \n",
      "Covariance Type:            nonrobust                                         \n",
      "==============================================================================\n",
      "                 coef    std err          t      P>|t|      [0.025      0.975]\n",
      "------------------------------------------------------------------------------\n",
      "const         -3.4309      0.311    -11.027      0.000      -4.295      -2.567\n",
      "T (K)      -2070.6410     92.687    -22.340      0.000   -2327.980   -1813.302\n",
      "==============================================================================\n",
      "Omnibus:                          nan   Durbin-Watson:                   1.658\n",
      "Prob(Omnibus):                    nan   Jarque-Bera (JB):                0.582\n",
      "Skew:                          -0.513   Prob(JB):                        0.748\n",
      "Kurtosis:                       1.870   Cond. No.                     8.80e+03\n",
      "==============================================================================\n",
      "\n",
      "Notes:\n",
      "[1] Standard Errors assume that the covariance matrix of the errors is correctly specified.\n",
      "[2] The condition number is large, 8.8e+03. This might indicate that there are\n",
      "strong multicollinearity or other numerical problems.\n"
     ]
    },
    {
     "name": "stderr",
     "output_type": "stream",
     "text": [
      "/Users/nate_schwindt/anaconda3/envs/mpipy/lib/python3.8/site-packages/statsmodels/stats/stattools.py:74: ValueWarning: omni_normtest is not valid with less than 8 observations; 6 samples were given.\n",
      "  warn(\"omni_normtest is not valid with less than 8 observations; %i \"\n"
     ]
    }
   ],
   "source": [
    "# perform linear fit of ln(P) vs 1/T\n",
    "X = sm.add_constant(1/T)\n",
    "ols1 = sm.OLS(np.log(P_experiment), X)\n",
    "results1 = ols1.fit()\n",
    "b, m = results1.params\n",
    "be, me = results1.bse\n",
    "\n",
    "print('ln(P) vs 1/T:')\n",
    "print(f'Arrhenius barrier to permeability, Ea: {-m*R:.2f} +/- {me*R:.2f} kcal/mol')\n",
    "print(f'Arrhenius prefactor, ln(A): {b:.2f} +/- {be:.2f} A/s')\n",
    "print(f'Prediction for 305 K: {m*(1/305) + b:.2f}')\n",
    "\n",
    "print(results1.summary())"
   ]
  },
  {
   "cell_type": "code",
   "execution_count": 38,
   "metadata": {},
   "outputs": [
    {
     "name": "stdout",
     "output_type": "stream",
     "text": [
      "ln(P/T) vs 1/T:\n",
      "Arrhenius barrier to permeability, Ea: 3.52 +/- 0.19 kcal/mol\n",
      "Arrhenius prefactor, ln(A): -10.13 +/- 0.32 A/s\n",
      "Prediction for 305 K: -15.94\n",
      "                            OLS Regression Results                            \n",
      "==============================================================================\n",
      "Dep. Variable:                      y   R-squared:                       0.989\n",
      "Model:                            OLS   Adj. R-squared:                  0.986\n",
      "Method:                 Least Squares   F-statistic:                     352.3\n",
      "Date:                Mon, 23 Oct 2023   Prob (F-statistic):           4.74e-05\n",
      "Time:                        12:32:21   Log-Likelihood:                 14.536\n",
      "No. Observations:                   6   AIC:                            -25.07\n",
      "Df Residuals:                       4   BIC:                            -25.49\n",
      "Df Model:                           1                                         \n",
      "Covariance Type:            nonrobust                                         \n",
      "==============================================================================\n",
      "                 coef    std err          t      P>|t|      [0.025      0.975]\n",
      "------------------------------------------------------------------------------\n",
      "const        -10.1297      0.317    -31.959      0.000     -11.010      -9.250\n",
      "T (K)      -1772.2961     94.417    -18.771      0.000   -2034.441   -1510.151\n",
      "==============================================================================\n",
      "Omnibus:                          nan   Durbin-Watson:                   1.638\n",
      "Prob(Omnibus):                    nan   Jarque-Bera (JB):                0.604\n",
      "Skew:                          -0.523   Prob(JB):                        0.739\n",
      "Kurtosis:                       1.850   Cond. No.                     8.80e+03\n",
      "==============================================================================\n",
      "\n",
      "Notes:\n",
      "[1] Standard Errors assume that the covariance matrix of the errors is correctly specified.\n",
      "[2] The condition number is large, 8.8e+03. This might indicate that there are\n",
      "strong multicollinearity or other numerical problems.\n"
     ]
    },
    {
     "name": "stderr",
     "output_type": "stream",
     "text": [
      "/Users/nate_schwindt/anaconda3/envs/mpipy/lib/python3.8/site-packages/statsmodels/stats/stattools.py:74: ValueWarning: omni_normtest is not valid with less than 8 observations; 6 samples were given.\n",
      "  warn(\"omni_normtest is not valid with less than 8 observations; %i \"\n"
     ]
    }
   ],
   "source": [
    "# perform linear fit of ln(P/T) vs 1/T\n",
    "X = sm.add_constant(1/T)\n",
    "ols2 = sm.OLS(np.log(P_experiment/T), X)\n",
    "results2 = ols2.fit()\n",
    "b, m = results2.params\n",
    "be, me = results2.bse\n",
    "\n",
    "print('ln(P/T) vs 1/T:')\n",
    "print(f'Arrhenius barrier to permeability, Ea: {-m*R:.2f} +/- {me*R:.2f} kcal/mol')\n",
    "print(f'Arrhenius prefactor, ln(A): {b:.2f} +/- {be:.2f} A/s')\n",
    "print(f'Prediction for 305 K: {m*(1/305) + b:.2f}')\n",
    "\n",
    "print(results2.summary())"
   ]
  },
  {
   "cell_type": "code",
   "execution_count": 39,
   "metadata": {},
   "outputs": [
    {
     "name": "stdout",
     "output_type": "stream",
     "text": [
      "ln(P*delta*h/lam^2*kB*T) vs 1/T:\n",
      "Arrhenius barrier to permeability, Ea: 3.52 +/- 0.19 kcal/mol\n",
      "Arrhenius prefactor, ln(A): -30.89 +/- 0.32 A/s\n",
      "Prediction for 305 K: -36.70\n"
     ]
    }
   ],
   "source": [
    "# perform linear fit of ln(P*delta*h/lam^2*kB*T) vs 1/T\n",
    "X = sm.add_constant(1/T)\n",
    "ols3 = sm.OLS(np.log(P_experiment*delta*h/lam**2/kB/T), X)\n",
    "results3 = ols3.fit()\n",
    "b, m = results3.params\n",
    "be, me = results3.bse\n",
    "\n",
    "print('ln(P*delta*h/lam^2*kB*T) vs 1/T:')\n",
    "print(f'Arrhenius barrier to permeability, Ea: {-m*R:.2f} +/- {me*R:.2f} kcal/mol')\n",
    "print(f'Arrhenius prefactor, ln(A): {b:.2f} +/- {be:.2f} A/s')\n",
    "print(f'Prediction for 305 K: {m*(1/305) + b:.2f}')"
   ]
  },
  {
   "cell_type": "code",
   "execution_count": 40,
   "metadata": {},
   "outputs": [
    {
     "data": {
      "image/png": "[encoded data removed]",
      "text/plain": [
       "<Figure size 640x480 with 1 Axes>"
      ]
     },
     "metadata": {},
     "output_type": "display_data"
    }
   ],
   "source": [
    "# plot the linear fits\n",
    "df['1/T'] = 1/df['T (K)']\n",
    "df['ln(P)'] = np.log(P_experiment)\n",
    "df['ln(P/T)'] = np.log(P_experiment/T)\n",
    "df['ln(CP/T)'] = np.log(P_experiment*delta*h/lam**2/kB/T)\n",
    "\n",
    "fig, ax = plt.subplots(1,1)\n",
    "sns.regplot(x='1/T', y='ln(P)', data=df, ax=ax, label='ln(P)', ci=95)\n",
    "sns.regplot(x='1/T', y='ln(P/T)', data=df, ax=ax, label='ln(P/T)', ci=95)\n",
    "# sns.regplot(x='1/T', y='ln(CP/T)', data=df, ax=ax, label='ln(C*P/T)')\n",
    "\n",
    "plt.ylabel('Y')\n",
    "plt.legend();"
   ]
  },
  {
   "cell_type": "code",
   "execution_count": 41,
   "metadata": {},
   "outputs": [
    {
     "name": "stdout",
     "output_type": "stream",
     "text": [
      "Sum of squared residuals for ln(P) vs 1/T: 0.0026625445905459357\n",
      "Sum of squared residuals for ln(P/T) vs 1/T: 0.0027629163344016876\n"
     ]
    }
   ],
   "source": [
    "print(f'Sum of squared residuals for ln(P) vs 1/T: {results1.ssr}')\n",
    "print(f'Sum of squared residuals for ln(P/T) vs 1/T: {results2.ssr}')"
   ]
  },
  {
   "cell_type": "code",
   "execution_count": null,
   "metadata": {},
   "outputs": [],
   "source": []
  }
 ],
 "metadata": {
  "kernelspec": {
   "display_name": "mpipy",
   "language": "python",
   "name": "python3"
  },
  "language_info": {
   "codemirror_mode": {
    "name": "ipython",
    "version": 3
   },
   "file_extension": ".py",
   "mimetype": "text/x-python",
   "name": "python",
   "nbconvert_exporter": "python",
   "pygments_lexer": "ipython3",
   "version": "3.9.16"
  },
  "orig_nbformat": 4
 },
 "nbformat": 4,
 "nbformat_minor": 2
}
