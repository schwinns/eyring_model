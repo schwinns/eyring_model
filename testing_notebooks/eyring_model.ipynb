{
 "cells": [
  {
   "cell_type": "code",
   "execution_count": 1,
   "id": "4cd1aa01",
   "metadata": {},
   "outputs": [],
   "source": [
    "import numpy as np\n",
    "import matplotlib.pyplot as plt\n",
    "from scipy.stats import linregress"
   ]
  },
  {
   "cell_type": "code",
   "execution_count": 2,
   "id": "4097d1c3",
   "metadata": {},
   "outputs": [],
   "source": [
    "# Define global constants\n",
    "kB = 1.380649 * 10**-23    # Boltzmann\n",
    "h = 6.62607 * 10**-34      # Planck\n",
    "R = 1.9858775 * 10**-3     # universal gas\n",
    "\n",
    "def arrhenius(T, size=None):\n",
    "    '''\n",
    "    Draw values from exponential distribution at appropriate temperature and scale by prefactor\n",
    "    '''\n",
    "    \n",
    "    beta = R*T\n",
    "    sample = np.random.exponential(scale=beta, size=size)\n",
    "    \n",
    "    pre_factor = beta * kB*T/h\n",
    "    \n",
    "    return pre_factor*sample\n",
    "\n",
    "\n",
    "def permeability_many_barriers(lam, ksm, kms, km):\n",
    "    '''\n",
    "    Calculate permeability from Eyring model expanded for many membrane barriers\n",
    "    '''\n",
    "    \n",
    "    lam = lam * 10**-8 # cm\n",
    "    \n",
    "    num = lam*ksm\n",
    "    den = 2 + kms*np.sum(1 / km)\n",
    "    \n",
    "    return num / den\n",
    "\n",
    "\n",
    "def permeability_single_barrier(lam, delta, ksm, kms, km):\n",
    "    '''\n",
    "    Calculate permeability from Eyring model with single membrane barrier\n",
    "    '''\n",
    "    \n",
    "    m = round(delta / lam)\n",
    "    lam = lam * 10**-8 # cm\n",
    "    \n",
    "    num = lam*ksm*km\n",
    "    den = 2*km + m*kms\n",
    "    \n",
    "    return num / den\n",
    "\n",
    "\n",
    "def permeability_diffusion_dominant(lam, delta, ksm, kms, km):\n",
    "    '''\n",
    "    Calculate the permeability from Eyring model, assuming only diffusion contributes (i.e. P = K*D / delta)\n",
    "    '''\n",
    "    \n",
    "    m = round(delta / lam)\n",
    "    lam = lam * 10**-8 # cm\n",
    "    \n",
    "    num = lam*ksm*km\n",
    "    den = m*kms\n",
    "    \n",
    "    return num / den\n",
    "\n",
    "\n",
    "def permeability_partition_dominant(lam, delta, ksm, kms, km):\n",
    "    '''\n",
    "    Calculate the permeability from Eyring model, assuming only solution-membrane diffusion contributes (i.e. P = Dsm / 2*lam)\n",
    "    '''\n",
    "    \n",
    "    lam = lam * 10**-8 # cm\n",
    "    \n",
    "    num = lam*ksm\n",
    "    den = 2\n",
    "    \n",
    "    return num / den\n",
    "\n",
    "\n",
    "def get_enthalpy_entropy(P, T, lam, delta):\n",
    "    '''\n",
    "    Linear regression to get slope and intercept from permeability and temperature, convert to enthalpy and entropy\n",
    "    '''\n",
    "    \n",
    "    lam = lam * 10**-8 # cm\n",
    "    \n",
    "    logP = np.log(P*h/kB/T)\n",
    "    invT = 1/T\n",
    "    \n",
    "    result = linregress(invT, logP)\n",
    "    m = result.slope\n",
    "    b = result.intercept\n",
    "    \n",
    "    dH = -m*R\n",
    "    dS = (b - np.log(lam**2 / delta)) / R\n",
    "    \n",
    "    return dH, dS"
   ]
  },
  {
   "cell_type": "code",
   "execution_count": 3,
   "id": "55a80eb3",
   "metadata": {},
   "outputs": [],
   "source": [
    "# Set temperature range\n",
    "temp = np.array([250, 275, 300, 325, 350])\n",
    "\n",
    "# Input membrane thickness and jump length\n",
    "delta = 200 # thickness (Angstroms)\n",
    "lam = 2 # jump length (Angstroms)\n",
    "\n",
    "# Allocate arrays for permeability\n",
    "p_many = np.zeros(temp.shape[0])\n",
    "p_average = np.zeros(temp.shape[0])\n",
    "p_diffusion = np.zeros(temp.shape[0])\n",
    "p_maximum = np.zeros(temp.shape[0])\n",
    "p_minimum = np.zeros(temp.shape[0])"
   ]
  },
  {
   "cell_type": "code",
   "execution_count": 21,
   "id": "f2b1b980",
   "metadata": {
    "scrolled": false
   },
   "outputs": [
    {
     "name": "stdout",
     "output_type": "stream",
     "text": [
      "Temperature: 250 K\n",
      "\tP for normal distribution of barriers: \t\t986.27\n",
      "\tP for single, average barrier: \t\t\t986.27\n",
      "\tP for diffusion-dominant, average barrier: \t986.27\n",
      "\tP for single, largest barrier: \t\t\t986.27\n",
      "\tP for single, smallest barrier: \t\t986.27\n",
      "Temperature: 275 K\n",
      "\tP for normal distribution of barriers: \t\t1.11\n",
      "\tP for single, average barrier: \t\t\t1.11\n",
      "\tP for diffusion-dominant, average barrier: \t1.11\n",
      "\tP for single, largest barrier: \t\t\t1.11\n",
      "\tP for single, smallest barrier: \t\t1.11\n",
      "Temperature: 300 K\n",
      "\tP for normal distribution of barriers: \t\t103.99\n",
      "\tP for single, average barrier: \t\t\t103.99\n",
      "\tP for diffusion-dominant, average barrier: \t103.99\n",
      "\tP for single, largest barrier: \t\t\t103.99\n",
      "\tP for single, smallest barrier: \t\t103.99\n",
      "Temperature: 325 K\n",
      "\tP for normal distribution of barriers: \t\t57.81\n",
      "\tP for single, average barrier: \t\t\t57.81\n",
      "\tP for diffusion-dominant, average barrier: \t57.81\n",
      "\tP for single, largest barrier: \t\t\t57.81\n",
      "\tP for single, smallest barrier: \t\t57.81\n",
      "Temperature: 350 K\n",
      "\tP for normal distribution of barriers: \t\t54.15\n",
      "\tP for single, average barrier: \t\t\t54.15\n",
      "\tP for diffusion-dominant, average barrier: \t54.15\n",
      "\tP for single, largest barrier: \t\t\t54.15\n",
      "\tP for single, smallest barrier: \t\t54.15\n"
     ]
    },
    {
     "data": {
      "image/png": "[encoded data removed]",
      "text/plain": [
       "<Figure size 432x288 with 1 Axes>"
      ]
     },
     "metadata": {
      "needs_background": "light"
     },
     "output_type": "display_data"
    },
    {
     "data": {
      "image/png": "[encoded data removed]",
      "text/plain": [
       "<Figure size 432x288 with 1 Axes>"
      ]
     },
     "metadata": {
      "needs_background": "light"
     },
     "output_type": "display_data"
    },
    {
     "data": {
      "image/png": "[encoded data removed]",
      "text/plain": [
       "<Figure size 432x288 with 1 Axes>"
      ]
     },
     "metadata": {
      "needs_background": "light"
     },
     "output_type": "display_data"
    },
    {
     "data": {
      "image/png": "[encoded data removed]",
      "text/plain": [
       "<Figure size 432x288 with 1 Axes>"
      ]
     },
     "metadata": {
      "needs_background": "light"
     },
     "output_type": "display_data"
    },
    {
     "data": {
      "image/png": "[encoded data removed]",
      "text/plain": [
       "<Figure size 432x288 with 1 Axes>"
      ]
     },
     "metadata": {
      "needs_background": "light"
     },
     "output_type": "display_data"
    }
   ],
   "source": [
    "# Calculate rate constants for membrane transport, assuming membrane has many unequal barriers\n",
    "for i,T in enumerate(temp):\n",
    "    \n",
    "    print('Temperature: {:.0f} K'.format(T))\n",
    "\n",
    "    ksm = arrhenius(T)\n",
    "    kms = arrhenius(T)\n",
    "    km = arrhenius(T)\n",
    "    \n",
    "    n_jumps = int(delta / lam)\n",
    "    km_array = np.random.normal(loc=km, scale=1.0, size=n_jumps)\n",
    "\n",
    "    avg_km = km_array.mean() # average the individual membrane rate constants\n",
    "    max_km = km_array.max()  # max of the individual membrane rate constants\n",
    "    min_km = km_array.min()  # min of the individual membrane rate constant\n",
    "    \n",
    "    fig = plt.figure()\n",
    "    n, _, _ = plt.hist(km_array, alpha=0.5)\n",
    "    plt.axvline(avg_km, ls='dashed', c='k')\n",
    "    plt.text(avg_km, n.max()-2, 'avg')\n",
    "    plt.axvline(max_km, ls='dashed', c='k')\n",
    "    plt.text(max_km, n.max()-2, 'max')\n",
    "    plt.axvline(min_km, ls='dashed', c='k')\n",
    "    plt.text(min_km, n.max()-2, 'min')\n",
    "    plt.title('Temperature: {:.0f} K'.format(T))\n",
    "    \n",
    "    # Calculate permeability for membrane transport, assuming membrane has many unequal barriers\n",
    "    P = permeability_many_barriers(lam, ksm, kms, km_array)\n",
    "    p_many[i] = P\n",
    "    print('\\tP for normal distribution of barriers: \\t\\t{:,.2f}'.format(P))\n",
    "\n",
    "    P_avg = permeability_single_barrier(lam, delta, ksm, kms, avg_km)\n",
    "    p_average[i] = P_avg\n",
    "    print('\\tP for single, average barrier: \\t\\t\\t{:,.2f}'.format(P_avg))\n",
    "    \n",
    "    P_diff = permeability_single_barrier(lam, delta, ksm, kms, avg_km)\n",
    "    p_diffusion[i] = P_diff\n",
    "    print('\\tP for diffusion-dominant, average barrier: \\t{:,.2f}'.format(P_diff))\n",
    "    \n",
    "    P_max = permeability_single_barrier(lam, delta, ksm, kms, max_km)\n",
    "    p_maximum[i] = P_max\n",
    "    print('\\tP for single, largest barrier: \\t\\t\\t{:,.2f}'.format(P_max))\n",
    "    \n",
    "    P_min = permeability_single_barrier(lam, delta, ksm, kms, min_km)\n",
    "    p_minimum[i] = P_min\n",
    "    print('\\tP for single, smallest barrier: \\t\\t{:,.2f}'.format(P_min))"
   ]
  },
  {
   "cell_type": "code",
   "execution_count": 8,
   "id": "711aba9e",
   "metadata": {},
   "outputs": [
    {
     "name": "stdout",
     "output_type": "stream",
     "text": [
      "Many barriers:\n",
      "\tEnthalpy = 7.50\n",
      "\tEntropy = 13,703.00\n",
      "Single, average barrier:\n",
      "\tEnthalpy = 2.81\n",
      "\tEntropy = 11,055.92\n",
      "Diffusion-dominant, average barrier:\n",
      "\tEnthalpy = 2.81\n",
      "\tEntropy = 11,055.92\n",
      "Single, largest barrier:\n",
      "\tEnthalpy = 2.62\n",
      "\tEntropy = 11,595.90\n",
      "Single, smallest barrier:\n",
      "\tEnthalpy = 7.64\n",
      "\tEntropy = 11,946.44\n"
     ]
    }
   ],
   "source": [
    "# Calculate the enthalpic and entropic barriers\n",
    "dH_many, dS_many = get_enthalpy_entropy(p_many, temp, lam, delta)\n",
    "dH_avg, dS_avg = get_enthalpy_entropy(p_average, temp, lam, delta)\n",
    "dH_diff, dS_diff = get_enthalpy_entropy(p_diffusion, temp, lam, delta)\n",
    "dH_max, dS_max = get_enthalpy_entropy(p_maximum, temp, lam, delta)\n",
    "dH_min, dS_min = get_enthalpy_entropy(p_minimum, temp, lam, delta)\n",
    "\n",
    "print('Many barriers:')\n",
    "print('\\tEnthalpy = {:,.2f}'.format(dH_many))\n",
    "print('\\tEntropy = {:,.2f}'.format(dS_many))\n",
    "\n",
    "print('Single, average barrier:')\n",
    "print('\\tEnthalpy = {:,.2f}'.format(dH_avg))\n",
    "print('\\tEntropy = {:,.2f}'.format(dS_avg))\n",
    "\n",
    "print('Diffusion-dominant, average barrier:')\n",
    "print('\\tEnthalpy = {:,.2f}'.format(dH_diff))\n",
    "print('\\tEntropy = {:,.2f}'.format(dS_diff))\n",
    "\n",
    "print('Single, largest barrier:')\n",
    "print('\\tEnthalpy = {:,.2f}'.format(dH_max))\n",
    "print('\\tEntropy = {:,.2f}'.format(dS_max))\n",
    "\n",
    "print('Single, smallest barrier:')\n",
    "print('\\tEnthalpy = {:,.2f}'.format(dH_min))\n",
    "print('\\tEntropy = {:,.2f}'.format(dS_min))"
   ]
  },
  {
   "cell_type": "code",
   "execution_count": null,
   "id": "22fcde38",
   "metadata": {},
   "outputs": [],
   "source": []
  }
 ],
 "metadata": {
  "kernelspec": {
   "display_name": "Python 3 (ipykernel)",
   "language": "python",
   "name": "python3"
  },
  "language_info": {
   "codemirror_mode": {
    "name": "ipython",
    "version": 3
   },
   "file_extension": ".py",
   "mimetype": "text/x-python",
   "name": "python",
   "nbconvert_exporter": "python",
   "pygments_lexer": "ipython3",
   "version": "3.8.13"
  }
 },
 "nbformat": 4,
 "nbformat_minor": 5
}
